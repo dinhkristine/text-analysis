{
 "cells": [
  {
   "cell_type": "markdown",
   "id": "operational-civilization",
   "metadata": {},
   "source": [
    "## Lab 3"
   ]
  },
  {
   "cell_type": "code",
   "execution_count": 2,
   "id": "legal-hometown",
   "metadata": {},
   "outputs": [],
   "source": [
    "import pandas as pd \n",
    "import numpy as np \n",
    "from cytoolz import * \n",
    "from tqdm.auto import tqdm \n",
    "tqdm.pandas()"
   ]
  },
  {
   "cell_type": "code",
   "execution_count": 75,
   "id": "correct-verification",
   "metadata": {},
   "outputs": [],
   "source": [
    "terms = [t.split() for t in open('terms.txt')]"
   ]
  },
  {
   "cell_type": "code",
   "execution_count": 76,
   "id": "frequent-action",
   "metadata": {},
   "outputs": [
    {
     "data": {
      "text/plain": [
       "645"
      ]
     },
     "execution_count": 76,
     "metadata": {},
     "output_type": "execute_result"
    }
   ],
   "source": [
    "len(terms)"
   ]
  },
  {
   "cell_type": "code",
   "execution_count": 6,
   "id": "narrative-telephone",
   "metadata": {},
   "outputs": [
    {
     "data": {
      "text/plain": [
       "[['such', 'as', 'part', '-', 'of', '-', 'speech'],\n",
       " ['part', '-', 'of', '-', 'speech', 'tagger'],\n",
       " ['part', '-', 'of', '-', 'speech', 'tagging'],\n",
       " ['part', '-', 'of', '-', 'speech', 'tag'],\n",
       " ['sequence', '-', 'to', '-', 'sequence', 'model'],\n",
       " ['word', '-', 'to', '-', 'word'],\n",
       " ['part', '-', 'of', '-', 'speech'],\n",
       " ['word', '-', 'by', '-', 'word'],\n",
       " ['state', '-', 'ofthe', '-', 'art'],\n",
       " ['tree', '-', 'to', '-', 'string']]"
      ]
     },
     "execution_count": 6,
     "metadata": {},
     "output_type": "execute_result"
    }
   ],
   "source": [
    "terms[:10]"
   ]
  },
  {
   "cell_type": "code",
   "execution_count": 11,
   "id": "industrial-charger",
   "metadata": {},
   "outputs": [],
   "source": [
    "df = pd.read_parquet('s3://ling583/micusp.parquet', storage_options = {'anon':True})"
   ]
  },
  {
   "cell_type": "code",
   "execution_count": 12,
   "id": "metropolitan-myanmar",
   "metadata": {},
   "outputs": [
    {
     "data": {
      "text/html": [
       "<div>\n",
       "<style scoped>\n",
       "    .dataframe tbody tr th:only-of-type {\n",
       "        vertical-align: middle;\n",
       "    }\n",
       "\n",
       "    .dataframe tbody tr th {\n",
       "        vertical-align: top;\n",
       "    }\n",
       "\n",
       "    .dataframe thead th {\n",
       "        text-align: right;\n",
       "    }\n",
       "</style>\n",
       "<table border=\"1\" class=\"dataframe\">\n",
       "  <thead>\n",
       "    <tr style=\"text-align: right;\">\n",
       "      <th></th>\n",
       "      <th>filename</th>\n",
       "      <th>text</th>\n",
       "    </tr>\n",
       "  </thead>\n",
       "  <tbody>\n",
       "    <tr>\n",
       "      <th>0</th>\n",
       "      <td>micusp/BIO.G0.15.1.html</td>\n",
       "      <td>New York City, 1908: different colors of skin...</td>\n",
       "    </tr>\n",
       "    <tr>\n",
       "      <th>1</th>\n",
       "      <td>micusp/BIO.G1.04.1.html</td>\n",
       "      <td>\\tThe fish-tetrapod transition has been calle...</td>\n",
       "    </tr>\n",
       "    <tr>\n",
       "      <th>2</th>\n",
       "      <td>micusp/BIO.G3.03.1.html</td>\n",
       "      <td>\\tIntracellular electric fields are of great ...</td>\n",
       "    </tr>\n",
       "    <tr>\n",
       "      <th>3</th>\n",
       "      <td>micusp/BIO.G0.11.1.html</td>\n",
       "      <td>Environmental stresses to plants have been st...</td>\n",
       "    </tr>\n",
       "    <tr>\n",
       "      <th>4</th>\n",
       "      <td>micusp/BIO.G1.01.1.html</td>\n",
       "      <td>\\tThe recurrent cholera pandemics have been re...</td>\n",
       "    </tr>\n",
       "  </tbody>\n",
       "</table>\n",
       "</div>"
      ],
      "text/plain": [
       "                  filename                                               text\n",
       "0  micusp/BIO.G0.15.1.html   New York City, 1908: different colors of skin...\n",
       "1  micusp/BIO.G1.04.1.html   \\tThe fish-tetrapod transition has been calle...\n",
       "2  micusp/BIO.G3.03.1.html   \\tIntracellular electric fields are of great ...\n",
       "3  micusp/BIO.G0.11.1.html   Environmental stresses to plants have been st...\n",
       "4  micusp/BIO.G1.01.1.html  \\tThe recurrent cholera pandemics have been re..."
      ]
     },
     "execution_count": 12,
     "metadata": {},
     "output_type": "execute_result"
    }
   ],
   "source": [
    "df.head()"
   ]
  },
  {
   "cell_type": "markdown",
   "id": "appreciated-melissa",
   "metadata": {},
   "source": [
    "#### Remove terms that aren't specific to computational linguistics"
   ]
  },
  {
   "cell_type": "code",
   "execution_count": 24,
   "id": "impaired-columbia",
   "metadata": {},
   "outputs": [],
   "source": [
    "import spacy"
   ]
  },
  {
   "cell_type": "code",
   "execution_count": 25,
   "id": "union-prototype",
   "metadata": {},
   "outputs": [],
   "source": [
    "nlp = spacy.load('en_core_web_sm', exclude = ['parser', 'ner', 'lemmatizer', 'attribute_ruler'])"
   ]
  },
  {
   "cell_type": "code",
   "execution_count": 27,
   "id": "returning-resort",
   "metadata": {},
   "outputs": [],
   "source": [
    "doc = nlp(df['text'].iloc[0])"
   ]
  },
  {
   "cell_type": "code",
   "execution_count": 29,
   "id": "critical-married",
   "metadata": {},
   "outputs": [
    {
     "data": {
      "text/plain": [
       "New York City, 1908: different colors of"
      ]
     },
     "execution_count": 29,
     "metadata": {},
     "output_type": "execute_result"
    }
   ],
   "source": [
    "doc[1:10]"
   ]
  },
  {
   "cell_type": "code",
   "execution_count": 30,
   "id": "cosmetic-bernard",
   "metadata": {},
   "outputs": [],
   "source": [
    "from spacy.matcher import Matcher "
   ]
  },
  {
   "cell_type": "code",
   "execution_count": 31,
   "id": "disturbed-throw",
   "metadata": {},
   "outputs": [],
   "source": [
    "matcher = Matcher(nlp.vocab)\n",
    "matcher.add('Term', [[{'TAG': {'IN': ['JJ', 'NN']}}, \n",
    "                     {'TAG': {'IN': ['JJ', 'NN', 'IN', 'HYPH']}, 'OP': '*'}, \n",
    "                     {'TAG': 'NN'}]])"
   ]
  },
  {
   "cell_type": "code",
   "execution_count": 33,
   "id": "improved-major",
   "metadata": {},
   "outputs": [],
   "source": [
    "spans = matcher(doc, as_spans = True)"
   ]
  },
  {
   "cell_type": "code",
   "execution_count": 34,
   "id": "invisible-centre",
   "metadata": {},
   "outputs": [
    {
     "data": {
      "text/plain": [
       "[skin swirl,\n",
       " great melting,\n",
       " melting pot,\n",
       " great melting pot,\n",
       " cultural medley,\n",
       " last crevice,\n",
       " unprecedented uniformity,\n",
       " similar effect,\n",
       " global biodiversity,\n",
       " monotonous fate,\n",
       " invasive species,\n",
       " threat of invasive species,\n",
       " international commerce,\n",
       " small portion,\n",
       " global problem,\n",
       " giant global problem,\n",
       " zebra mussel,\n",
       " human interest,\n",
       " ecosystem disturbance,\n",
       " hasty action,\n",
       " irreparable damage,\n",
       " global asset,\n",
       " asset of biodiversity,\n",
       " global asset of biodiversity,\n",
       " invasive predator,\n",
       " minimal disturbance,\n",
       " human contact,\n",
       " Insufficient understanding,\n",
       " predatory land,\n",
       " land snail,\n",
       " predatory land snail,\n",
       " African land,\n",
       " giant African land,\n",
       " land snail,\n",
       " African land snail,\n",
       " giant African land snail,\n",
       " A. fulica,\n",
       " Polynesian government,\n",
       " French Polynesian government,\n",
       " hasty French Polynesian government,\n",
       " invasive control,\n",
       " control project,\n",
       " invasive control project,\n",
       " project into action,\n",
       " control project into action,\n",
       " invasive control project into action,\n",
       " resultant extinction,\n",
       " painful lesson,\n",
       " lesson today,\n",
       " painful lesson today,\n",
       " historical precedence,\n",
       " removal process,\n",
       " removal of trout,\n",
       " Similar cleansing,\n",
       " upstream fish,\n",
       " carnivorous snail,\n",
       " spectrum of pseudo,\n",
       " rapid evolution,\n",
       " total extirpation,\n",
       " daunting task,\n",
       " practicality of control,\n",
       " impossible task,\n",
       " Similar research,\n",
       " invasive removal,\n",
       " noble goal,\n",
       " native ecosystem,\n",
       " 20th century,\n",
       " mid 20th century,\n",
       " Aleutian archipelago,\n",
       " fox removal,\n",
       " removal project,\n",
       " fox removal project,\n",
       " lack of guano,\n",
       " invasive removal,\n",
       " relative head,\n",
       " toxic cane,\n",
       " energy cost,\n",
       " native species,\n",
       " native species,\n",
       " fox removal,\n",
       " removal project,\n",
       " fox removal project,\n",
       " right goal,\n",
       " proper planning,\n",
       " invasive removal,\n",
       " extant member,\n",
       " hope of recovery,\n",
       " mass-extinction,\n",
       " past mass-extinction,\n",
       " global problem,\n",
       " average citizen,\n",
       " awareness of biodiversity,\n",
       " economic concern,\n",
       " global threat,\n",
       " economic boon,\n",
       " extensive lobbying,\n",
       " continued existence,\n",
       " endemic biodiversity]"
      ]
     },
     "execution_count": 34,
     "metadata": {},
     "output_type": "execute_result"
    }
   ],
   "source": [
    "spans"
   ]
  },
  {
   "cell_type": "code",
   "execution_count": 35,
   "id": "endangered-proxy",
   "metadata": {},
   "outputs": [],
   "source": [
    "def get_candidates(text):\n",
    "    doc = nlp(text)\n",
    "    spans = matcher(doc, as_spans = True)\n",
    "    return [tuple(tok.norm_ for tok in span) for span in spans]"
   ]
  },
  {
   "cell_type": "code",
   "execution_count": 37,
   "id": "everyday-andrews",
   "metadata": {},
   "outputs": [
    {
     "data": {
      "text/plain": [
       "[('skin', 'swirl'),\n",
       " ('great', 'melting'),\n",
       " ('melting', 'pot'),\n",
       " ('great', 'melting', 'pot'),\n",
       " ('cultural', 'medley'),\n",
       " ('last', 'crevice'),\n",
       " ('unprecedented', 'uniformity'),\n",
       " ('similar', 'effect'),\n",
       " ('global', 'biodiversity'),\n",
       " ('monotonous', 'fate'),\n",
       " ('invasive', 'species'),\n",
       " ('threat', 'of', 'invasive', 'species'),\n",
       " ('international', 'commerce'),\n",
       " ('small', 'portion'),\n",
       " ('global', 'problem'),\n",
       " ('giant', 'global', 'problem'),\n",
       " ('zebra', 'mussel'),\n",
       " ('human', 'interest'),\n",
       " ('ecosystem', 'disturbance'),\n",
       " ('hasty', 'action'),\n",
       " ('irreparable', 'damage'),\n",
       " ('global', 'asset'),\n",
       " ('asset', 'of', 'biodiversity'),\n",
       " ('global', 'asset', 'of', 'biodiversity'),\n",
       " ('invasive', 'predator'),\n",
       " ('minimal', 'disturbance'),\n",
       " ('human', 'contact'),\n",
       " ('insufficient', 'understanding'),\n",
       " ('predatory', 'land'),\n",
       " ('land', 'snail'),\n",
       " ('predatory', 'land', 'snail'),\n",
       " ('african', 'land'),\n",
       " ('giant', 'african', 'land'),\n",
       " ('land', 'snail'),\n",
       " ('african', 'land', 'snail'),\n",
       " ('giant', 'african', 'land', 'snail'),\n",
       " ('a.', 'fulica'),\n",
       " ('polynesian', 'government'),\n",
       " ('french', 'polynesian', 'government'),\n",
       " ('hasty', 'french', 'polynesian', 'government'),\n",
       " ('invasive', 'control'),\n",
       " ('control', 'project'),\n",
       " ('invasive', 'control', 'project'),\n",
       " ('project', 'into', 'action'),\n",
       " ('control', 'project', 'into', 'action'),\n",
       " ('invasive', 'control', 'project', 'into', 'action'),\n",
       " ('resultant', 'extinction'),\n",
       " ('painful', 'lesson'),\n",
       " ('lesson', 'today'),\n",
       " ('painful', 'lesson', 'today'),\n",
       " ('historical', 'precedence'),\n",
       " ('removal', 'process'),\n",
       " ('removal', 'of', 'trout'),\n",
       " ('similar', 'cleansing'),\n",
       " ('upstream', 'fish'),\n",
       " ('carnivorous', 'snail'),\n",
       " ('spectrum', 'of', 'pseudo'),\n",
       " ('rapid', 'evolution'),\n",
       " ('total', 'extirpation'),\n",
       " ('daunting', 'task'),\n",
       " ('practicality', 'of', 'control'),\n",
       " ('impossible', 'task'),\n",
       " ('similar', 'research'),\n",
       " ('invasive', 'removal'),\n",
       " ('noble', 'goal'),\n",
       " ('native', 'ecosystem'),\n",
       " ('20th', 'century'),\n",
       " ('mid', '20th', 'century'),\n",
       " ('aleutian', 'archipelago'),\n",
       " ('fox', 'removal'),\n",
       " ('removal', 'project'),\n",
       " ('fox', 'removal', 'project'),\n",
       " ('lack', 'of', 'guano'),\n",
       " ('invasive', 'removal'),\n",
       " ('relative', 'head'),\n",
       " ('toxic', 'cane'),\n",
       " ('energy', 'cost'),\n",
       " ('native', 'species'),\n",
       " ('native', 'species'),\n",
       " ('fox', 'removal'),\n",
       " ('removal', 'project'),\n",
       " ('fox', 'removal', 'project'),\n",
       " ('right', 'goal'),\n",
       " ('proper', 'planning'),\n",
       " ('invasive', 'removal'),\n",
       " ('extant', 'member'),\n",
       " ('hope', 'of', 'recovery'),\n",
       " ('mass', '-', 'extinction'),\n",
       " ('past', 'mass', '-', 'extinction'),\n",
       " ('global', 'problem'),\n",
       " ('average', 'citizen'),\n",
       " ('awareness', 'of', 'biodiversity'),\n",
       " ('economic', 'concern'),\n",
       " ('global', 'threat'),\n",
       " ('economic', 'boon'),\n",
       " ('extensive', 'lobbying'),\n",
       " ('continued', 'existence'),\n",
       " ('endemic', 'biodiversity')]"
      ]
     },
     "execution_count": 37,
     "metadata": {},
     "output_type": "execute_result"
    }
   ],
   "source": [
    "get_candidates(df['text'].iloc[0])"
   ]
  },
  {
   "cell_type": "code",
   "execution_count": 38,
   "id": "tropical-hobby",
   "metadata": {},
   "outputs": [
    {
     "data": {
      "application/vnd.jupyter.widget-view+json": {
       "model_id": "f4d6a0996fae452ca0564bbaa604cefd",
       "version_major": 2,
       "version_minor": 0
      },
      "text/plain": [
       "  0%|          | 0/788 [00:00<?, ?it/s]"
      ]
     },
     "metadata": {},
     "output_type": "display_data"
    }
   ],
   "source": [
    "candidates = list(concat(df['text'].progress_apply(get_candidates)))"
   ]
  },
  {
   "cell_type": "code",
   "execution_count": 39,
   "id": "biological-discipline",
   "metadata": {},
   "outputs": [],
   "source": [
    "from collections import defaultdict, Counter"
   ]
  },
  {
   "cell_type": "code",
   "execution_count": 40,
   "id": "naval-acrobat",
   "metadata": {},
   "outputs": [],
   "source": [
    "freqs = defaultdict(Counter)\n",
    "for c in candidates: \n",
    "    freqs[len(c)][c] += 1"
   ]
  },
  {
   "cell_type": "code",
   "execution_count": 41,
   "id": "matched-lobby",
   "metadata": {},
   "outputs": [
    {
     "data": {
      "text/plain": [
       "dict_keys([2, 3, 4, 5, 6, 7, 8, 9, 10, 11, 12, 13])"
      ]
     },
     "execution_count": 41,
     "metadata": {},
     "output_type": "execute_result"
    }
   ],
   "source": [
    "freqs.keys()"
   ]
  },
  {
   "cell_type": "code",
   "execution_count": 42,
   "id": "harmful-glenn",
   "metadata": {},
   "outputs": [
    {
     "data": {
      "text/plain": [
       "[(('trend', 'of', 'part', '-', 'time'), 15),\n",
       " (('asymmetry', 'in', 'stock', 'price', 'response'), 13),\n",
       " (('cycle', '-', 'to', '-', 'cycle'), 13),\n",
       " (('interaction', 'term', 'on', 'stock', 'price'), 10),\n",
       " (('basal', 'area', 'per', 'sample', 'area'), 9)]"
      ]
     },
     "execution_count": 42,
     "metadata": {},
     "output_type": "execute_result"
    }
   ],
   "source": [
    "freqs[5].most_common(5)"
   ]
  },
  {
   "cell_type": "code",
   "execution_count": 43,
   "id": "plain-receipt",
   "metadata": {},
   "outputs": [],
   "source": [
    "from nltk import ngrams "
   ]
  },
  {
   "cell_type": "code",
   "execution_count": 44,
   "id": "protected-blend",
   "metadata": {},
   "outputs": [],
   "source": [
    "def get_subterms(term):\n",
    "    k = len(term)\n",
    "    for m in range(k-1, 1, -1):\n",
    "        yield from ngrams(term, m)"
   ]
  },
  {
   "cell_type": "code",
   "execution_count": 45,
   "id": "tribal-capitol",
   "metadata": {},
   "outputs": [],
   "source": [
    "from math import log2"
   ]
  },
  {
   "cell_type": "code",
   "execution_count": 46,
   "id": "special-snowboard",
   "metadata": {},
   "outputs": [],
   "source": [
    "def c_value(F, theta):\n",
    "    \n",
    "    termhood = Counter()\n",
    "    longer = defaultdict(list)\n",
    "    \n",
    "    for k in sorted(F, reverse = True):\n",
    "        for term in F[k]:\n",
    "            if term in longer: \n",
    "                discount = sum(longer[term]) / len(longer[term])\n",
    "            else: \n",
    "                discount = 0\n",
    "            c = log2(k) * (F[k][term] - discount)\n",
    "            if c > theta: \n",
    "                termhood[term] = c \n",
    "                for subterm in get_subterms(term):\n",
    "                    if subterm in F[len(subterm)]:\n",
    "                        longer[subterm].append(F[k][term])\n",
    "    return termhood "
   ]
  },
  {
   "cell_type": "code",
   "execution_count": 156,
   "id": "royal-remains",
   "metadata": {},
   "outputs": [],
   "source": [
    "terms_2 = c_value(freqs, theta = 50)"
   ]
  },
  {
   "cell_type": "code",
   "execution_count": 157,
   "id": "ignored-colleague",
   "metadata": {},
   "outputs": [
    {
     "name": "stdout",
     "output_type": "stream",
     "text": [
      "  282.00  282 other hand\n",
      "  264.00  264 health care\n",
      "  252.00  126 part - time faculty\n",
      "  206.00  206 same time\n",
      "  177.52  112 long - term\n",
      "  169.00  169 high school\n",
      "  167.00  167 body color\n",
      "  155.33   98 self - esteem\n",
      "  146.00  146 wing venation\n",
      "  138.00  138 eye color\n",
      "  137.00  137 domestic violence\n",
      "  120.46   76 decision - making\n",
      "  112.53   71 low - income\n",
      "  111.00  111 renewable energy\n",
      "  103.02   65 quality of life\n",
      "  103.02   65 state of nature\n",
      "  103.02   65 spell - caster\n",
      "  103.02   65 community violence exposure\n",
      "  101.00  101 wild type\n",
      "   97.00   97 civil society\n"
     ]
    }
   ],
   "source": [
    "for t, c in terms_2.most_common(20):\n",
    "    print(f'{c:8.2f} {freqs[len(t)][t]:4d} {\" \".join(t)}')"
   ]
  },
  {
   "cell_type": "code",
   "execution_count": 158,
   "id": "retained-titanium",
   "metadata": {},
   "outputs": [
    {
     "name": "stdout",
     "output_type": "stream",
     "text": [
      "   55.00   55 storm water\n",
      "   55.00   55 kinetic energy\n",
      "   55.00   55 sex education\n",
      "   54.00   54 grip force\n",
      "   54.00   54 physical activity\n",
      "   54.00  119 community violence\n",
      "   53.89   34 client - provider\n",
      "   53.89   34 recurrent breast cancer\n",
      "   53.00   53 social interaction\n",
      "   53.00   53 professional development\n",
      "   52.30   33 nation - state\n",
      "   52.00   52 wide range\n",
      "   52.00   52 front end\n",
      "   51.00   51 first step\n",
      "   51.00   51 time period\n",
      "   51.00   51 non -\n",
      "   51.00   51 federal government\n",
      "   51.00  116 violence exposure\n",
      "   50.72   32 short - term\n",
      "   50.72   32 idea of body\n"
     ]
    }
   ],
   "source": [
    "for t, c in tail(20, terms_2.most_common()):\n",
    "    print(f'{c:8.2f} {freqs[len(t)][t]:4d} {\" \".join(t)}')"
   ]
  },
  {
   "cell_type": "code",
   "execution_count": 159,
   "id": "comparative-lending",
   "metadata": {},
   "outputs": [],
   "source": [
    "with open('terms-2.txt', 'w') as f: \n",
    "    for term in terms_2: \n",
    "        print(' '.join(term), file = f)"
   ]
  },
  {
   "cell_type": "code",
   "execution_count": 160,
   "id": "powerful-growth",
   "metadata": {},
   "outputs": [],
   "source": [
    "terms_2 = [t.split() for t in open('terms-2.txt')]"
   ]
  },
  {
   "cell_type": "code",
   "execution_count": 161,
   "id": "retired-rider",
   "metadata": {},
   "outputs": [],
   "source": [
    "new_terms = [t for t in terms if t not in terms_2]"
   ]
  },
  {
   "cell_type": "code",
   "execution_count": 162,
   "id": "eastern-venezuela",
   "metadata": {},
   "outputs": [
    {
     "data": {
      "text/plain": [
       "633"
      ]
     },
     "execution_count": 162,
     "metadata": {},
     "output_type": "execute_result"
    }
   ],
   "source": [
    "# now the lenth reduced \n",
    "len(new_terms)"
   ]
  },
  {
   "cell_type": "code",
   "execution_count": 163,
   "id": "liquid-surgeon",
   "metadata": {},
   "outputs": [],
   "source": [
    "with open('term-final.txt', 'w') as f: \n",
    "    for term in new_terms: \n",
    "        print(' '.join(term), file = f)"
   ]
  }
 ],
 "metadata": {
  "kernelspec": {
   "display_name": "Python 3",
   "language": "python",
   "name": "python3"
  },
  "language_info": {
   "codemirror_mode": {
    "name": "ipython",
    "version": 3
   },
   "file_extension": ".py",
   "mimetype": "text/x-python",
   "name": "python",
   "nbconvert_exporter": "python",
   "pygments_lexer": "ipython3",
   "version": "3.8.6"
  }
 },
 "nbformat": 4,
 "nbformat_minor": 5
}
