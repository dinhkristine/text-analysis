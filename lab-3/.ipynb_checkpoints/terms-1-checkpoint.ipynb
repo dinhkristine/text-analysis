{
 "cells": [
  {
   "cell_type": "markdown",
   "id": "under-vegetarian",
   "metadata": {},
   "source": [
    "## Lab 3"
   ]
  },
  {
   "cell_type": "markdown",
   "id": "earned-insured",
   "metadata": {},
   "source": [
    "#### Download and explore the data"
   ]
  },
  {
   "cell_type": "code",
   "execution_count": 3,
   "id": "israeli-premises",
   "metadata": {},
   "outputs": [],
   "source": [
    "import pandas as pd \n",
    "import numpy as np \n",
    "from cytoolz import * \n",
    "from tqdm.auto import tqdm \n",
    "tqdm.pandas()"
   ]
  },
  {
   "cell_type": "code",
   "execution_count": 8,
   "id": "spread-consideration",
   "metadata": {},
   "outputs": [],
   "source": [
    "df = pd.read_parquet('s3://ling583/acl.parquet', storage_options = {'anon':True})"
   ]
  },
  {
   "cell_type": "code",
   "execution_count": 9,
   "id": "junior-position",
   "metadata": {},
   "outputs": [
    {
     "data": {
      "text/html": [
       "<div>\n",
       "<style scoped>\n",
       "    .dataframe tbody tr th:only-of-type {\n",
       "        vertical-align: middle;\n",
       "    }\n",
       "\n",
       "    .dataframe tbody tr th {\n",
       "        vertical-align: top;\n",
       "    }\n",
       "\n",
       "    .dataframe thead th {\n",
       "        text-align: right;\n",
       "    }\n",
       "</style>\n",
       "<table border=\"1\" class=\"dataframe\">\n",
       "  <thead>\n",
       "    <tr style=\"text-align: right;\">\n",
       "      <th></th>\n",
       "      <th>year</th>\n",
       "      <th>tag</th>\n",
       "      <th>title</th>\n",
       "      <th>text</th>\n",
       "      <th>abstract</th>\n",
       "      <th>body</th>\n",
       "    </tr>\n",
       "  </thead>\n",
       "  <tbody>\n",
       "    <tr>\n",
       "      <th>0</th>\n",
       "      <td>1990</td>\n",
       "      <td>P90-1001</td>\n",
       "      <td>Polynomial Time Parsing of Combinatory Categor...</td>\n",
       "      <td>Polynomial Time Parsing of Combinatory Categor...</td>\n",
       "      <td>In this paper we present a polynomial time par...</td>\n",
       "      <td>Combinatory Categorial Grammar (CCG)  is an ex...</td>\n",
       "    </tr>\n",
       "    <tr>\n",
       "      <th>1</th>\n",
       "      <td>1990</td>\n",
       "      <td>P90-1002</td>\n",
       "      <td>Structure and Intonation in Spoken Language Un...</td>\n",
       "      <td>Structure and Intonation in Spoken Language Un...</td>\n",
       "      <td>The structure imposed upon spoken sentences by...</td>\n",
       "      <td>Halliday  observed that this constraint, which...</td>\n",
       "    </tr>\n",
       "    <tr>\n",
       "      <th>2</th>\n",
       "      <td>1990</td>\n",
       "      <td>P90-1003</td>\n",
       "      <td>Prosody, Syntax and Parsing</td>\n",
       "      <td>Prosody, Syntax and Parsing We describe the mo...</td>\n",
       "      <td>We describe the modification of a grammar to t...</td>\n",
       "      <td>Prosodic information can mark lexical stress, ...</td>\n",
       "    </tr>\n",
       "    <tr>\n",
       "      <th>3</th>\n",
       "      <td>1990</td>\n",
       "      <td>P90-1004</td>\n",
       "      <td>Empirical Study of Predictive Powers of Simple...</td>\n",
       "      <td>Empirical Study of Predictive Powers of Simple...</td>\n",
       "      <td>This empirical study attempts to find answers ...</td>\n",
       "      <td>Difficulty in resolving structural ambiguity i...</td>\n",
       "    </tr>\n",
       "    <tr>\n",
       "      <th>4</th>\n",
       "      <td>1990</td>\n",
       "      <td>P90-1005</td>\n",
       "      <td>Structural Disambiguation With Constraint Prop...</td>\n",
       "      <td>Structural Disambiguation With Constraint Prop...</td>\n",
       "      <td>We present a new grammatical formalism called ...</td>\n",
       "      <td>We are interested in an efficient treatment of...</td>\n",
       "    </tr>\n",
       "  </tbody>\n",
       "</table>\n",
       "</div>"
      ],
      "text/plain": [
       "   year       tag                                              title  \\\n",
       "0  1990  P90-1001  Polynomial Time Parsing of Combinatory Categor...   \n",
       "1  1990  P90-1002  Structure and Intonation in Spoken Language Un...   \n",
       "2  1990  P90-1003                        Prosody, Syntax and Parsing   \n",
       "3  1990  P90-1004  Empirical Study of Predictive Powers of Simple...   \n",
       "4  1990  P90-1005  Structural Disambiguation With Constraint Prop...   \n",
       "\n",
       "                                                text  \\\n",
       "0  Polynomial Time Parsing of Combinatory Categor...   \n",
       "1  Structure and Intonation in Spoken Language Un...   \n",
       "2  Prosody, Syntax and Parsing We describe the mo...   \n",
       "3  Empirical Study of Predictive Powers of Simple...   \n",
       "4  Structural Disambiguation With Constraint Prop...   \n",
       "\n",
       "                                            abstract  \\\n",
       "0  In this paper we present a polynomial time par...   \n",
       "1  The structure imposed upon spoken sentences by...   \n",
       "2  We describe the modification of a grammar to t...   \n",
       "3  This empirical study attempts to find answers ...   \n",
       "4  We present a new grammatical formalism called ...   \n",
       "\n",
       "                                                body  \n",
       "0  Combinatory Categorial Grammar (CCG)  is an ex...  \n",
       "1  Halliday  observed that this constraint, which...  \n",
       "2  Prosodic information can mark lexical stress, ...  \n",
       "3  Difficulty in resolving structural ambiguity i...  \n",
       "4  We are interested in an efficient treatment of...  "
      ]
     },
     "execution_count": 9,
     "metadata": {},
     "output_type": "execute_result"
    }
   ],
   "source": [
    "df.head()"
   ]
  },
  {
   "cell_type": "code",
   "execution_count": 7,
   "id": "virtual-rotation",
   "metadata": {},
   "outputs": [
    {
     "data": {
      "text/plain": [
       "6167"
      ]
     },
     "execution_count": 7,
     "metadata": {},
     "output_type": "execute_result"
    }
   ],
   "source": [
    "len(df)"
   ]
  },
  {
   "cell_type": "code",
   "execution_count": 10,
   "id": "alone-italian",
   "metadata": {},
   "outputs": [],
   "source": [
    "df = df.sample(500, random_state = 100)"
   ]
  },
  {
   "cell_type": "code",
   "execution_count": 11,
   "id": "increasing-hayes",
   "metadata": {},
   "outputs": [],
   "source": [
    "import spacy"
   ]
  },
  {
   "cell_type": "code",
   "execution_count": 13,
   "id": "tamil-posting",
   "metadata": {},
   "outputs": [],
   "source": [
    "nlp = spacy.load('en_core_web_sm', exclude = ['parser', 'ner', 'lemmatizer', 'attribute_ruler'])"
   ]
  },
  {
   "cell_type": "code",
   "execution_count": 14,
   "id": "patient-bolivia",
   "metadata": {},
   "outputs": [
    {
     "data": {
      "text/plain": [
       "[('tok2vec', <spacy.pipeline.tok2vec.Tok2Vec at 0x7f914fa8ae50>),\n",
       " ('tagger', <spacy.pipeline.tagger.Tagger at 0x7f914faa9c70>)]"
      ]
     },
     "execution_count": 14,
     "metadata": {},
     "output_type": "execute_result"
    }
   ],
   "source": [
    "nlp.pipeline"
   ]
  },
  {
   "cell_type": "code",
   "execution_count": 15,
   "id": "nonprofit-pickup",
   "metadata": {},
   "outputs": [],
   "source": [
    "doc = nlp(df['text'].iloc[0])"
   ]
  },
  {
   "cell_type": "code",
   "execution_count": 17,
   "id": "particular-weekend",
   "metadata": {},
   "outputs": [
    {
     "data": {
      "text/plain": [
       "Resume Information Extraction with Cascaded Hybrid Model This paper presents"
      ]
     },
     "execution_count": 17,
     "metadata": {},
     "output_type": "execute_result"
    }
   ],
   "source": [
    "doc[0:10]"
   ]
  },
  {
   "cell_type": "code",
   "execution_count": 18,
   "id": "million-husband",
   "metadata": {},
   "outputs": [
    {
     "data": {
      "text/plain": [
       "The"
      ]
     },
     "execution_count": 18,
     "metadata": {},
     "output_type": "execute_result"
    }
   ],
   "source": [
    "doc[200]"
   ]
  },
  {
   "cell_type": "code",
   "execution_count": 19,
   "id": "transsexual-walter",
   "metadata": {},
   "outputs": [
    {
     "data": {
      "text/plain": [
       "('DT', 'the')"
      ]
     },
     "execution_count": 19,
     "metadata": {},
     "output_type": "execute_result"
    }
   ],
   "source": [
    "# get speech level and normalized form\n",
    "# DT = determiner\n",
    "doc[200].tag_, doc[200].norm_"
   ]
  },
  {
   "cell_type": "code",
   "execution_count": 20,
   "id": "consecutive-egypt",
   "metadata": {},
   "outputs": [],
   "source": [
    "# extract candidate terms \n",
    "\n",
    "from spacy.matcher import Matcher "
   ]
  },
  {
   "cell_type": "code",
   "execution_count": 25,
   "id": "ongoing-nicholas",
   "metadata": {},
   "outputs": [],
   "source": [
    "matcher = Matcher(nlp.vocab)\n",
    "matcher.add('Term', [[{'TAG': {'IN': ['JJ', 'NN']}}, \n",
    "                     {'TAG': {'IN': ['JJ', 'NN', 'IN', 'HYPH']}, 'OP': '*'}, \n",
    "                     {'TAG': 'NN'}]])"
   ]
  },
  {
   "cell_type": "code",
   "execution_count": 26,
   "id": "deadly-quest",
   "metadata": {},
   "outputs": [],
   "source": [
    "spans = matcher(doc, as_spans = True)"
   ]
  },
  {
   "cell_type": "code",
   "execution_count": 27,
   "id": "requested-anderson",
   "metadata": {},
   "outputs": [
    {
     "data": {
      "text/plain": [
       "('effective', 'approach')"
      ]
     },
     "execution_count": 27,
     "metadata": {},
     "output_type": "execute_result"
    }
   ],
   "source": [
    "tuple(tok.norm_ for tok in spans[0])"
   ]
  },
  {
   "cell_type": "code",
   "execution_count": 28,
   "id": "brutal-province",
   "metadata": {},
   "outputs": [],
   "source": [
    "def get_candidates(text):\n",
    "    doc = nlp(text)\n",
    "    spans = matcher(doc, as_spans = True)\n",
    "    return [tuple(tok.norm_ for tok in span) for span in spans]"
   ]
  },
  {
   "cell_type": "code",
   "execution_count": 30,
   "id": "going-heart",
   "metadata": {},
   "outputs": [
    {
     "data": {
      "text/plain": [
       "[('effective', 'approach'),\n",
       " ('approach', 'for', 'resume'),\n",
       " ('effective', 'approach', 'for', 'resume'),\n",
       " ('resume', 'information'),\n",
       " ('approach', 'for', 'resume', 'information'),\n",
       " ('effective', 'approach', 'for', 'resume', 'information'),\n",
       " ('information', 'extraction'),\n",
       " ('resume', 'information', 'extraction'),\n",
       " ('approach', 'for', 'resume', 'information', 'extraction'),\n",
       " ('effective', 'approach', 'for', 'resume', 'information', 'extraction'),\n",
       " ('automatic', 'resume'),\n",
       " ('resume', 'management'),\n",
       " ('automatic', 'resume', 'management'),\n",
       " ('cascaded', 'information'),\n",
       " ('information', 'extraction'),\n",
       " ('cascaded', 'information', 'extraction'),\n",
       " ('first', 'pass'),\n",
       " ('second', 'pass'),\n",
       " ('detailed', 'information'),\n",
       " ('entire', 'resume'),\n",
       " ('appropriate', 'model'),\n",
       " ('hybrid', 'model'),\n",
       " ('f', '-', 'score'),\n",
       " ('hierarchical', 'structure'),\n",
       " ('contextual', 'structure'),\n",
       " ('structured', 'information'),\n",
       " ('automatic', 'construction'),\n",
       " ('construction', 'of', 'database'),\n",
       " ('automatic', 'construction', 'of', 'database'),\n",
       " ('definition', 'of', 'resume'),\n",
       " ('resume', 'information'),\n",
       " ('definition', 'of', 'resume', 'information'),\n",
       " ('hierarchical', 'structure'),\n",
       " ('ongoing', 'recruitment'),\n",
       " ('recruitment', 'management'),\n",
       " ('ongoing', 'recruitment', 'management'),\n",
       " ('management', 'system'),\n",
       " ('recruitment', 'management', 'system'),\n",
       " ('ongoing', 'recruitment', 'management', 'system'),\n",
       " ('database', 'construction'),\n",
       " ('general', 'information'),\n",
       " ('detailed', 'information'),\n",
       " ('detailed', 'information'),\n",
       " ('general', 'information'),\n",
       " ('detailed', 'information'),\n",
       " ('high', 'precision'),\n",
       " ('easy', 'task'),\n",
       " ('restricted', 'domain'),\n",
       " ('different', 'file'),\n",
       " ('statebased', 'model'),\n",
       " ('strong', 'order'),\n",
       " ('order', 'of', 'sequence'),\n",
       " ('strong', 'order', 'of', 'sequence'),\n",
       " ('popular', 'method'),\n",
       " ('independence', 'of', 'information'),\n",
       " ('extraction', 'problem'),\n",
       " ('independent', 'information'),\n",
       " ('problem', 'of', 'independent', 'information'),\n",
       " ('extraction', 'problem', 'of', 'independent', 'information'),\n",
       " ('document', '-', 'level'),\n",
       " ('contextual', 'structure'),\n",
       " ('hierarchical', 'contextual', 'structure'),\n",
       " ('level', 'hierarchical', 'contextual', 'structure'),\n",
       " ('document', '-', 'level', 'hierarchical', 'contextual', 'structure'),\n",
       " ('related', 'information'),\n",
       " ('textual', 'block'),\n",
       " ('same', 'textual', 'block'),\n",
       " ('different', 'information'),\n",
       " ('hierarchy', 'of', 'resume'),\n",
       " ('resume', 'information'),\n",
       " ('hierarchy', 'of', 'resume', 'information'),\n",
       " ('first', 'pass'),\n",
       " ('general', 'information'),\n",
       " ('entire', 'resume'),\n",
       " ('second', 'pass'),\n",
       " ('detailed', 'information'),\n",
       " ('appropriate', 'extraction'),\n",
       " ('extraction', 'method'),\n",
       " ('appropriate', 'extraction', 'method'),\n",
       " ('first', 'pass'),\n",
       " ('strong', 'sequence'),\n",
       " ('general', 'information'),\n",
       " ('category', 'of', 'general', 'information'),\n",
       " ('detailed', 'information'),\n",
       " ('educational', 'detailed', 'information'),\n",
       " ('information', 'extraction'),\n",
       " ('detailed', 'information', 'extraction'),\n",
       " ('educational', 'detailed', 'information', 'extraction'),\n",
       " ('same', 'reason'),\n",
       " ('detailed', 'information'),\n",
       " ('personal', 'detailed', 'information'),\n",
       " ('information', 'extraction'),\n",
       " ('detailed', 'information', 'extraction'),\n",
       " ('personal', 'detailed', 'information', 'extraction'),\n",
       " ('hierarchical', 'structure'),\n",
       " ('average', 'f'),\n",
       " ('f', '-', 'score'),\n",
       " ('average', 'f', '-', 'score'),\n",
       " ('detailed', 'information'),\n",
       " ('score', 'of', 'detailed', 'information'),\n",
       " ('f', '-', 'score', 'of', 'detailed', 'information'),\n",
       " ('average', 'f', '-', 'score', 'of', 'detailed', 'information'),\n",
       " ('information', 'extraction'),\n",
       " ('detailed', 'information', 'extraction'),\n",
       " ('score', 'of', 'detailed', 'information', 'extraction'),\n",
       " ('f', '-', 'score', 'of', 'detailed', 'information', 'extraction'),\n",
       " ('average', 'f', '-', 'score', 'of', 'detailed', 'information', 'extraction'),\n",
       " ('different', 'layer'),\n",
       " ('good', 'precision'),\n",
       " ('related', 'work'),\n",
       " ('model', 'in', 'detail'),\n",
       " ('hybrid', 'model'),\n",
       " ('future', 'work'),\n",
       " ('information', 'extraction'),\n",
       " ('flat', 'structure'),\n",
       " ('flat', 'setting'),\n",
       " ('hierarchical', 'structure'),\n",
       " ('detailed', 'information'),\n",
       " ('such', 'as', 'seminar'),\n",
       " ('seminar', 'announcement'),\n",
       " ('such', 'as', 'seminar', 'announcement'),\n",
       " ('double', 'classification'),\n",
       " ('classification', 'approach'),\n",
       " ('double', 'classification', 'approach'),\n",
       " ('different', 'sub'),\n",
       " ('contextual', 'structure'),\n",
       " ('special', 'contextual', 'structure'),\n",
       " ('structure', 'of', 'information'),\n",
       " ('contextual', 'structure', 'of', 'information'),\n",
       " ('special', 'contextual', 'structure', 'of', 'information'),\n",
       " ('sub', '-'),\n",
       " ('-', 'task'),\n",
       " ('sub', '-', 'task'),\n",
       " ('hybrid', 'model'),\n",
       " ('first', 'pass'),\n",
       " ('left', 'hand'),\n",
       " ('hand', 'side'),\n",
       " ('left', 'hand', 'side'),\n",
       " ('hmm', 'model'),\n",
       " ('second', 'pass'),\n",
       " ('right', 'hand'),\n",
       " ('hand', 'side'),\n",
       " ('right', 'hand', 'side'),\n",
       " ('detailed', 'information'),\n",
       " ('educational', 'detailed', 'information'),\n",
       " ('detailed', 'information'),\n",
       " ('personal', 'detailed', 'information'),\n",
       " ('block', 'selection'),\n",
       " ('selection', 'module'),\n",
       " ('block', 'selection', 'module'),\n",
       " ('detailed', 'information'),\n",
       " ('range', 'of', 'detailed', 'information'),\n",
       " ('information', 'extraction'),\n",
       " ('detailed', 'information', 'extraction'),\n",
       " ('range', 'of', 'detailed', 'information', 'extraction'),\n",
       " ('second', 'pass'),\n",
       " ('general', 'information'),\n",
       " ('predefined', 'class'),\n",
       " ('input', 'resume'),\n",
       " ('general', 'information'),\n",
       " ('result', 'of', 'general', 'information'),\n",
       " ('information', 'extraction'),\n",
       " ('general', 'information', 'extraction'),\n",
       " ('result', 'of', 'general', 'information', 'extraction'),\n",
       " ('certain', 'block'),\n",
       " ('block', 't'),\n",
       " ('certain', 'block', 't'),\n",
       " ('label', 'sequence'),\n",
       " ('sequence', 'of', 't'),\n",
       " ('label', 'sequence', 'of', 't'),\n",
       " ('label', 'l'),\n",
       " ('sequence', 'of', 'block'),\n",
       " ('natural', 'paragraph'),\n",
       " ('list', 'of', 'information'),\n",
       " ('general', 'information'),\n",
       " ('general', 'information'),\n",
       " ('kind', 'of', 'general', 'information'),\n",
       " ('part', 'of', 'g'),\n",
       " ('label', 'o'),\n",
       " ('general', 'information'),\n",
       " ('positional', 'information'),\n",
       " ('general', 'information'),\n",
       " ('label', 'sequence'),\n",
       " ('general', 'information'),\n",
       " ('resume', 't'),\n",
       " ('label', 'sequence'),\n",
       " ('sequence', 'l'),\n",
       " ('label', 'sequence', 'l'),\n",
       " ('independent', 'occurrence'),\n",
       " ('same', 'information'),\n",
       " ('unigram', 'model'),\n",
       " ('-', 'gram'),\n",
       " ('tri', '-', 'gram'),\n",
       " ('gram', 'model'),\n",
       " ('-', 'gram', 'model'),\n",
       " ('tri', '-', 'gram', 'model'),\n",
       " ('detailed', 'information'),\n",
       " ('educational', 'detailed', 'information'),\n",
       " ('general', 'information'),\n",
       " ('part', 'of', 'd'),\n",
       " ('label', 'o'),\n",
       " ('detailed', 'information'),\n",
       " ('educational', 'detailed', 'information'),\n",
       " ('kind', 'of', 'educational', 'detailed', 'information'),\n",
       " ('text', 't'),\n",
       " ('t', 'as', 'word'),\n",
       " ('text', 't', 'as', 'word'),\n",
       " ('word', 'sequence'),\n",
       " ('t', 'as', 'word', 'sequence'),\n",
       " ('text', 't', 'as', 'word', 'sequence'),\n",
       " ('sequence', 't'),\n",
       " ('word', 'sequence', 't'),\n",
       " ('t', 'as', 'word', 'sequence', 't'),\n",
       " ('text', 't', 'as', 'word', 'sequence', 't'),\n",
       " ('independent', 'occurrence'),\n",
       " ('same', 'information'),\n",
       " ('chinese', 'resume'),\n",
       " ('resume', 'c='),\n",
       " ('chinese', 'resume', 'c='),\n",
       " ('c=', 'c'),\n",
       " ('resume', 'c=', 'c'),\n",
       " ('chinese', 'resume', 'c=', 'c'),\n",
       " ('c', 'k'),\n",
       " ('chinese', 'word'),\n",
       " ('word', 'segmentation'),\n",
       " ('chinese', 'word', 'segmentation'),\n",
       " ('segmentation', 'system'),\n",
       " ('word', 'segmentation', 'system'),\n",
       " ('chinese', 'word', 'segmentation', 'system'),\n",
       " ('same', 'type'),\n",
       " ('feature', 'set'),\n",
       " ('connected', 'structure'),\n",
       " ('information', 'label'),\n",
       " ('maximum', 'likelihood'),\n",
       " ('likelihood', 'estimation'),\n",
       " ('maximum', 'likelihood', 'estimation'),\n",
       " ('short', 'of', 'training'),\n",
       " ('big', 'problem'),\n",
       " ('unknown', 'word'),\n",
       " ('word', 'w', 'i'),\n",
       " ('unknown', 'word', 'w', 'i'),\n",
       " ('token', '_'),\n",
       " ('-', 'gram'),\n",
       " ('bi', '-', 'gram'),\n",
       " ('sparseness', 'problem'),\n",
       " ('context', 'model'),\n",
       " ('estimation', 'from', 'training'),\n",
       " ('training', 'corpus'),\n",
       " ('estimation', 'from', 'training', 'corpus'),\n",
       " ('back', '-', 'off'),\n",
       " ('off', 'model'),\n",
       " ('back', '-', 'off', 'model'),\n",
       " ('calculated', 'parameter'),\n",
       " ('model', 'with', 'calculated', 'parameter'),\n",
       " ('off', 'model', 'with', 'calculated', 'parameter'),\n",
       " ('back', '-', 'off', 'model', 'with', 'calculated', 'parameter'),\n",
       " ('parameter', 'λ'),\n",
       " ('calculated', 'parameter', 'λ'),\n",
       " ('model', 'with', 'calculated', 'parameter', 'λ'),\n",
       " ('off', 'model', 'with', 'calculated', 'parameter', 'λ'),\n",
       " ('back', '-', 'off', 'model', 'with', 'calculated', 'parameter', 'λ'),\n",
       " ('emission', 'probability'),\n",
       " ('complex', 'model'),\n",
       " ('weighted', 'average'),\n",
       " ('probability', 'p(w'),\n",
       " ('p(w', 'r'),\n",
       " ('probability', 'p(w', 'r'),\n",
       " ('r', '|l'),\n",
       " ('p(w', 'r', '|l'),\n",
       " ('probability', 'p(w', 'r', '|l'),\n",
       " ('word', 'w', 'r'),\n",
       " ('emission', 'probability'),\n",
       " ('p(w', 'r'),\n",
       " ('r', '|l'),\n",
       " ('p(w', 'r', '|l'),\n",
       " ('|l', 'i'),\n",
       " ('r', '|l', 'i'),\n",
       " ('p(w', 'r', '|l', 'i'),\n",
       " ('p(w', 'r'),\n",
       " ('r', '|l'),\n",
       " ('p(w', 'r', '|l'),\n",
       " ('|l', 'i'),\n",
       " ('r', '|l', 'i'),\n",
       " ('p(w', 'r', '|l', 'i'),\n",
       " ('emission', 'probability'),\n",
       " ('total', 'number'),\n",
       " ('unknown', 'word'),\n",
       " ('word', 'w', 'r'),\n",
       " ('unknown', 'word', 'w', 'r'),\n",
       " ('emission', 'probability'),\n",
       " ('state', 'i.'),\n",
       " ('sparseness', 'problem'),\n",
       " ('probability', 'p(l'),\n",
       " ('detailed', 'information'),\n",
       " ('personal', 'detailed', 'information'),\n",
       " ('information', 'extraction'),\n",
       " ('detailed', 'information', 'extraction'),\n",
       " ('personal', 'detailed', 'information', 'extraction'),\n",
       " ('classification', 'problem'),\n",
       " ('classification', 'model'),\n",
       " ('high', 'performance'),\n",
       " ('predefined', 'class'),\n",
       " ('detailed', 'information'),\n",
       " ('personal', 'detailed', 'information'),\n",
       " ('information', 'p'),\n",
       " ('detailed', 'information', 'p'),\n",
       " ('personal', 'detailed', 'information', 'p'),\n",
       " ('beginning', 'of', 'p'),\n",
       " ('part', 'of', 'p'),\n",
       " ('label', 'o'),\n",
       " ('detailed', 'information'),\n",
       " ('personal', 'detailed', 'information'),\n",
       " ('label', 'sequence'),\n",
       " ('sequence', 'as', 'p'),\n",
       " ('label', 'sequence', 'as', 'p'),\n",
       " ('sequence', 'of', 'unit'),\n",
       " ('detailed', 'information'),\n",
       " ('personal', 'detailed', 'information'),\n",
       " ('natural', 'sentence'),\n",
       " ('empirical', 'observation'),\n",
       " ('detailed', 'information'),\n",
       " ('detailed', 'information'),\n",
       " ('personal', 'detailed', 'information'),\n",
       " ('extraction', 'of', 'personal', 'detailed', 'information'),\n",
       " ('text', 't'),\n",
       " ('segmenting', 'method'),\n",
       " ('label', 'sequence'),\n",
       " ('sequence', 'l'),\n",
       " ('label', 'sequence', 'l'),\n",
       " ('key', 'assumption'),\n",
       " ('independence', 'of', 'label'),\n",
       " ('label', 'assignment'),\n",
       " ('independence', 'of', 'label', 'assignment'),\n",
       " ('term', 'in', 'turn'),\n",
       " ('binary', 'classification'),\n",
       " ('classification', 'model'),\n",
       " ('binary', 'classification', 'model'),\n",
       " ('detailed', 'information'),\n",
       " ('personal', 'detailed', 'information'),\n",
       " ('number', 'of', 'personal', 'detailed', 'information'),\n",
       " ('binary', 'classification'),\n",
       " ('classification', 'task'),\n",
       " ('binary', 'classification', 'task'),\n",
       " ('final', 'decision'),\n",
       " ('weighted', 'voting'),\n",
       " ('good', 'efficiency'),\n",
       " ('efficiency', 'in', 'classification'),\n",
       " ('good', 'efficiency', 'in', 'classification'),\n",
       " ('score', 'in', 'classification'),\n",
       " ('tf×idf', 'as', 'feature'),\n",
       " ('feature', 'weight'),\n",
       " ('tf×idf', 'as', 'feature', 'weight'),\n",
       " ('word', 'frequency'),\n",
       " ('first', 'pass'),\n",
       " ('second', 'pass'),\n",
       " ('detailed', 'information'),\n",
       " ('pass', 'for', 'detailed', 'information'),\n",
       " ('second', 'pass', 'for', 'detailed', 'information'),\n",
       " ('information', 'extraction'),\n",
       " ('detailed', 'information', 'extraction'),\n",
       " ('pass', 'for', 'detailed', 'information', 'extraction'),\n",
       " ('second', 'pass', 'for', 'detailed', 'information', 'extraction'),\n",
       " ('error', 'analysis'),\n",
       " ('general', 'information'),\n",
       " ('information', 'extraction'),\n",
       " ('general', 'information', 'extraction'),\n",
       " ('flat', 'model'),\n",
       " ('first', 'pass'),\n",
       " ('fuzzy', 'block'),\n",
       " ('block', 'selection'),\n",
       " ('fuzzy', 'block', 'selection'),\n",
       " ('selection', 'strategy'),\n",
       " ('block', 'selection', 'strategy'),\n",
       " ('fuzzy', 'block', 'selection', 'strategy'),\n",
       " ('general', 'information'),\n",
       " ('target', 'general', 'information'),\n",
       " ('extracting', 'range'),\n",
       " ('hybrid', 'model'),\n",
       " ('cross', 'validation'),\n",
       " ('classifier', 'toolkit'),\n",
       " ('chinese', 'word'),\n",
       " ('word', 'segmentation'),\n",
       " ('chinese', 'word', 'segmentation'),\n",
       " ('entity', 'identification'),\n",
       " ('f', '-', 'score'),\n",
       " ('basic', 'evaluation'),\n",
       " ('special', 'application'),\n",
       " ('application', 'background'),\n",
       " ('special', 'application', 'background'),\n",
       " ('reference', 'instance'),\n",
       " ('hierarchical', 'structure'),\n",
       " ('documentlevel', 'hierarchical', 'structure'),\n",
       " ('structure', 'of', 'resume'),\n",
       " ('hierarchical', 'structure', 'of', 'resume'),\n",
       " ('documentlevel', 'hierarchical', 'structure', 'of', 'resume'),\n",
       " ('sub', '-'),\n",
       " ('-', 'task'),\n",
       " ('sub', '-', 'task'),\n",
       " ('flat', 'model'),\n",
       " ('model', 'vs.', 'flat', 'model'),\n",
       " ('detailed', 'information'),\n",
       " ('personal', 'detailed', 'information'),\n",
       " ('detailed', 'information'),\n",
       " ('educational', 'detailed', 'information'),\n",
       " ('hierarchical', 'structure'),\n",
       " ('detailed', 'information'),\n",
       " ('entire', 'resume'),\n",
       " ('first', 'pass'),\n",
       " ('second', 'pass'),\n",
       " ('flat', 'model'),\n",
       " ('detailed', 'information'),\n",
       " ('model', 'with', 'detailed', 'information'),\n",
       " ('information', 'extraction'),\n",
       " ('detailed', 'information', 'extraction'),\n",
       " ('model', 'with', 'detailed', 'information', 'extraction'),\n",
       " ('document', '-', 'level'),\n",
       " ('hierarchical', 'structure'),\n",
       " ('level', 'hierarchical', 'structure'),\n",
       " ('document', '-', 'level', 'hierarchical', 'structure'),\n",
       " ('flat', 'model'),\n",
       " ('detailed', 'information'),\n",
       " ('educational', 'detailed', 'information'),\n",
       " ('loss', 'in', 'recall'),\n",
       " ('average', 'f'),\n",
       " ('f', '-', 'score'),\n",
       " ('average', 'f', '-', 'score'),\n",
       " ('general', 'information'),\n",
       " ('detailed', 'information'),\n",
       " ('sub', '-'),\n",
       " ('-', 'task'),\n",
       " ('sub', '-', 'task'),\n",
       " ('detailed', 'information'),\n",
       " ('information', 'extraction'),\n",
       " ('detailed', 'information', 'extraction'),\n",
       " ('extraction', 'range'),\n",
       " ('detailed', 'information'),\n",
       " ('range', 'of', 'detailed', 'information'),\n",
       " ('extraction', 'range', 'of', 'detailed', 'information'),\n",
       " ('general', 'information'),\n",
       " ('result', 'of', 'general', 'information'),\n",
       " ('information', 'extraction'),\n",
       " ('general', 'information', 'extraction'),\n",
       " ('result', 'of', 'general', 'information', 'extraction'),\n",
       " ('general', 'information'),\n",
       " ('recall', 'of', 'general', 'information'),\n",
       " ('detailed', 'information'),\n",
       " ('recall', 'of', 'detailed', 'information'),\n",
       " ('first', 'pass'),\n",
       " ('hybrid', 'model'),\n",
       " ('second', 'pass'),\n",
       " ('appropriate', 'one'),\n",
       " ('different', 'sub'),\n",
       " ('one', 'for', 'different', 'sub'),\n",
       " ('appropriate', 'one', 'for', 'different', 'sub'),\n",
       " ('detailed', 'information'),\n",
       " ('educational', 'detailed', 'information'),\n",
       " ('information', 'extraction'),\n",
       " ('detailed', 'information', 'extraction'),\n",
       " ('educational', 'detailed', 'information', 'extraction'),\n",
       " ('detailed', 'information'),\n",
       " ('educational', 'detailed', 'information'),\n",
       " ('detailed', 'information'),\n",
       " ('educational', 'detailed', 'information'),\n",
       " ('hybrid', 'model'),\n",
       " ('detailed', 'information'),\n",
       " ('personal', 'detailed', 'information'),\n",
       " ('information', 'extraction'),\n",
       " ('detailed', 'information', 'extraction'),\n",
       " ('personal', 'detailed', 'information', 'extraction'),\n",
       " ('independent', 'occurrence'),\n",
       " ('detailed', 'information'),\n",
       " ('personal', 'detailed', 'information'),\n",
       " ('occurrence', 'of', 'personal', 'detailed', 'information'),\n",
       " ('independent', 'occurrence', 'of', 'personal', 'detailed', 'information'),\n",
       " ('detailed', 'information'),\n",
       " ('personal', 'detailed', 'information'),\n",
       " ('error', 'propagation'),\n",
       " ('first', 'pass'),\n",
       " ('second', 'pass'),\n",
       " ('extraction', 'range'),\n",
       " ('detailed', 'information'),\n",
       " ('range', 'of', 'detailed', 'information'),\n",
       " ('extraction', 'range', 'of', 'detailed', 'information'),\n",
       " ('detailed', 'information'),\n",
       " ('recall', 'of', 'detailed', 'information'),\n",
       " ('information', 'extraction'),\n",
       " ('detailed', 'information', 'extraction'),\n",
       " ('recall', 'of', 'detailed', 'information', 'extraction'),\n",
       " ('second', 'pass'),\n",
       " ('hybrid', 'model'),\n",
       " ('different', 'sub'),\n",
       " ('first', 'pass'),\n",
       " ('second', 'pass'),\n",
       " ('second', 'pass'),\n",
       " ('fuzzy', 'block'),\n",
       " ('block', 'selection'),\n",
       " ('fuzzy', 'block', 'selection'),\n",
       " ('selection', 'strategy'),\n",
       " ('block', 'selection', 'strategy'),\n",
       " ('fuzzy', 'block', 'selection', 'strategy'),\n",
       " ('search', 'scope'),\n",
       " ('detailed', 'information'),\n",
       " ('personal', 'detailed', 'information'),\n",
       " ('information', 'extraction'),\n",
       " ('detailed', 'information', 'extraction'),\n",
       " ('personal', 'detailed', 'information', 'extraction'),\n",
       " ('extraction', 'show'),\n",
       " ('information', 'extraction', 'show'),\n",
       " ('detailed', 'information', 'extraction', 'show'),\n",
       " ('personal', 'detailed', 'information', 'extraction', 'show'),\n",
       " ('exact', 'block'),\n",
       " ('block', 'selection'),\n",
       " ('exact', 'block', 'selection'),\n",
       " ('selection', 'strategy'),\n",
       " ('block', 'selection', 'strategy'),\n",
       " ('exact', 'block', 'selection', 'strategy'),\n",
       " ('fuzzy', 'strategy'),\n",
       " ('average', 'recall'),\n",
       " ('detailed', 'information'),\n",
       " ('personal', 'detailed', 'information'),\n",
       " ('recall', 'of', 'personal', 'detailed', 'information'),\n",
       " ('average', 'recall', 'of', 'personal', 'detailed', 'information'),\n",
       " ('average', 'precision'),\n",
       " ('average', 'f'),\n",
       " ('f', '-', 'score'),\n",
       " ('average', 'f', '-', 'score'),\n",
       " ('fuzzy', 'strategy'),\n",
       " ('low', 'accuracy'),\n",
       " ('detailed', 'information'),\n",
       " ('accuracy', 'of', 'detailed', 'information'),\n",
       " ('information', 'extraction'),\n",
       " ('detailed', 'information', 'extraction'),\n",
       " ('accuracy', 'of', 'detailed', 'information', 'extraction'),\n",
       " ('detailed', 'information'),\n",
       " ('personal', 'detailed', 'information'),\n",
       " ('information', 'extraction'),\n",
       " ('detailed', 'information', 'extraction'),\n",
       " ('personal', 'detailed', 'information', 'extraction'),\n",
       " ('f', '-', 'score'),\n",
       " ('detailed', 'information'),\n",
       " ('personal', 'detailed', 'information'),\n",
       " ('information', 'extraction'),\n",
       " ('detailed', 'information', 'extraction'),\n",
       " ('personal', 'detailed', 'information', 'extraction'),\n",
       " ('hybrid', 'model'),\n",
       " ('different', 'pass'),\n",
       " ('contextual', 'structure'),\n",
       " ('structure', 'of', 'information'),\n",
       " ('contextual', 'structure', 'of', 'information'),\n",
       " ('hybrid', 'model'),\n",
       " ('detailed', 'information'),\n",
       " ('personal', 'detailed', 'information'),\n",
       " ('average', 'f'),\n",
       " ('good', 'average', 'f'),\n",
       " ('f', '-', 'score'),\n",
       " ('average', 'f', '-', 'score'),\n",
       " ('good', 'average', 'f', '-', 'score'),\n",
       " ('error', 'analysis'),\n",
       " ('certain', 'length'),\n",
       " ('unit', 't'),\n",
       " ('probability', 'p(t'),\n",
       " ('-', 'gram'),\n",
       " ('bi', '-', 'gram'),\n",
       " ('gram', 'model'),\n",
       " ('-', 'gram', 'model'),\n",
       " ('bi', '-', 'gram', 'model'),\n",
       " ('immediate', 'predecessor'),\n",
       " ('current', 'name'),\n",
       " ('name', '-', 'class'),\n",
       " ('current', 'name', '-', 'class'),\n",
       " ('current', 'method'),\n",
       " ('hybrid', 'model'),\n",
       " ('task', 'of', 'information'),\n",
       " ('information', 'extraction'),\n",
       " ('task', 'of', 'information', 'extraction'),\n",
       " ('first', 'pass'),\n",
       " ('second', 'pass'),\n",
       " ('general', 'information'),\n",
       " ('information', 'extraction'),\n",
       " ('general', 'information', 'extraction'),\n",
       " ('detailed', 'information'),\n",
       " ('educational', 'detailed', 'information'),\n",
       " ('information', 'extraction'),\n",
       " ('detailed', 'information', 'extraction'),\n",
       " ('educational', 'detailed', 'information', 'extraction'),\n",
       " ('strong', 'sequence'),\n",
       " ('sequence', 'of', 'information'),\n",
       " ('strong', 'sequence', 'of', 'information'),\n",
       " ('detailed', 'information'),\n",
       " ('personal', 'detailed', 'information'),\n",
       " ('information', 'extraction'),\n",
       " ('detailed', 'information', 'extraction'),\n",
       " ('personal', 'detailed', 'information', 'extraction'),\n",
       " ('detailed', 'information'),\n",
       " ('personal', 'detailed', 'information'),\n",
       " ('sparseness', 'problem')]"
      ]
     },
     "execution_count": 30,
     "metadata": {},
     "output_type": "execute_result"
    }
   ],
   "source": [
    "get_candidates(df['text'].iloc[0])"
   ]
  },
  {
   "cell_type": "code",
   "execution_count": 31,
   "id": "dressed-america",
   "metadata": {},
   "outputs": [
    {
     "data": {
      "application/vnd.jupyter.widget-view+json": {
       "model_id": "146e454745774f38bcd6a3774dd7dd93",
       "version_major": 2,
       "version_minor": 0
      },
      "text/plain": [
       "  0%|          | 0/500 [00:00<?, ?it/s]"
      ]
     },
     "metadata": {},
     "output_type": "display_data"
    }
   ],
   "source": [
    "candidates = list(concat(df['text'].progress_apply(get_candidates)))"
   ]
  },
  {
   "cell_type": "code",
   "execution_count": 33,
   "id": "novel-debut",
   "metadata": {},
   "outputs": [],
   "source": [
    "# count freq and organize by len\n",
    "from collections import defaultdict, Counter"
   ]
  },
  {
   "cell_type": "code",
   "execution_count": 34,
   "id": "personalized-array",
   "metadata": {},
   "outputs": [],
   "source": [
    "freqs = defaultdict(Counter)\n",
    "for c in candidates: \n",
    "    freqs[len(c)][c] += 1"
   ]
  },
  {
   "cell_type": "code",
   "execution_count": 35,
   "id": "technical-rouge",
   "metadata": {},
   "outputs": [
    {
     "data": {
      "text/plain": [
       "dict_keys([2, 3, 4, 5, 6, 7, 8, 9, 10, 11, 13, 14, 12, 15, 16, 17, 18, 19, 20, 21, 22, 23, 24, 25, 26, 27, 28, 29, 30, 31, 32])"
      ]
     },
     "execution_count": 35,
     "metadata": {},
     "output_type": "execute_result"
    }
   ],
   "source": [
    "freqs.keys()"
   ]
  },
  {
   "cell_type": "code",
   "execution_count": 38,
   "id": "informational-stanley",
   "metadata": {},
   "outputs": [
    {
     "data": {
      "text/plain": [
       "[(('part', '-', 'of', '-', 'speech'), 213),\n",
       " (('end', '-', 'to', '-', 'end'), 99),\n",
       " (('tree', '-', 'to', '-', 'string'), 57),\n",
       " (('sequence', '-', 'to', '-', 'sequence'), 41),\n",
       " (('state', '-', 'ofthe', '-', 'art'), 37)]"
      ]
     },
     "execution_count": 38,
     "metadata": {},
     "output_type": "execute_result"
    }
   ],
   "source": [
    "freqs[5].most_common(5)"
   ]
  },
  {
   "cell_type": "code",
   "execution_count": 39,
   "id": "worse-audio",
   "metadata": {},
   "outputs": [],
   "source": [
    "# given a candidate, loook at subterms \n",
    "# if the can is 5, then look for sub seq with 4, 3, 2 terms \n",
    "\n",
    "from nltk import ngrams "
   ]
  },
  {
   "cell_type": "code",
   "execution_count": 40,
   "id": "coastal-lesbian",
   "metadata": {},
   "outputs": [
    {
     "data": {
      "text/plain": [
       "[4, 3, 2]"
      ]
     },
     "execution_count": 40,
     "metadata": {},
     "output_type": "execute_result"
    }
   ],
   "source": [
    "list(range(4, 1, -1))"
   ]
  },
  {
   "cell_type": "code",
   "execution_count": 41,
   "id": "abandoned-asthma",
   "metadata": {},
   "outputs": [],
   "source": [
    "def get_subterms(term):\n",
    "    k = len(term)\n",
    "    for m in range(k-1, 1, -1):\n",
    "        yield from ngrams(term, m)"
   ]
  },
  {
   "cell_type": "code",
   "execution_count": 42,
   "id": "destroyed-builder",
   "metadata": {},
   "outputs": [],
   "source": [
    "from math import log2"
   ]
  },
  {
   "cell_type": "code",
   "execution_count": 49,
   "id": "hollywood-hunger",
   "metadata": {},
   "outputs": [],
   "source": [
    "def c_value(F, theta):\n",
    "    \n",
    "    termhood = Counter()\n",
    "    longer = defaultdict(list)\n",
    "    \n",
    "    for k in sorted(F, reverse = True):\n",
    "        for term in F[k]:\n",
    "            if term in longer: \n",
    "                discount = sum(longer[term]) / len(longer[term])\n",
    "            else: \n",
    "                discount = 0\n",
    "            c = log2(k) * (F[k][term] - discount)\n",
    "            if c > theta: \n",
    "                termhood[term] = c \n",
    "                for subterm in get_subterms(term):\n",
    "                    if subterm in F[len(subterm)]:\n",
    "                        longer[subterm].append(F[k][term])\n",
    "    return termhood "
   ]
  },
  {
   "cell_type": "code",
   "execution_count": 56,
   "id": "waiting-picking",
   "metadata": {},
   "outputs": [],
   "source": [
    "# change theta to get more/less technical terms\n",
    "terms = c_value(freqs, theta = 75)"
   ]
  },
  {
   "cell_type": "code",
   "execution_count": 51,
   "id": "accessory-humanitarian",
   "metadata": {},
   "outputs": [
    {
     "name": "stdout",
     "output_type": "stream",
     "text": [
      "  420.27  213 part - of - speech\n",
      "  411.00  446 language model\n",
      "  317.00  458 natural language\n",
      "  310.00  310 training set\n",
      "  307.48  194 sentence - level\n",
      "  298.00  381 machine translation\n",
      "  271.00  271 other hand\n",
      "  265.00  265 test set\n",
      "  261.00  261 previous work\n",
      "  251.00  306 neural network\n",
      "  242.50  153 word - level\n",
      "  238.00  238 word alignment\n",
      "  229.87   99 end - to - end\n",
      "  223.48  141 natural language processing\n",
      "  220.00  220 future work\n",
      "  209.22  132 n - gram\n",
      "  209.22  132 large - scale\n",
      "  198.00  270 co -\n",
      "  194.95  123 f - measure\n",
      "  193.37  122 f - score\n"
     ]
    }
   ],
   "source": [
    "# terms from top of the list \n",
    "for t, c in terms.most_common(20):\n",
    "    print(f'{c:8.2f} {freqs[len(t)][t]:4d} {\" \".join(t)}')"
   ]
  },
  {
   "cell_type": "code",
   "execution_count": 57,
   "id": "suspended-woman",
   "metadata": {},
   "outputs": [
    {
     "name": "stdout",
     "output_type": "stream",
     "text": [
      "   84.00   84 target domain\n",
      "   83.00   83 sentence level\n",
      "   82.72   32 part - of - speech tagging\n",
      "   80.83   51 part of speech\n",
      "   80.00   80 first step\n",
      "   80.00   80 head word\n",
      "   80.00   80 sentence pair\n",
      "   79.00   79 time step\n",
      "   78.00   78 baseline system\n",
      "   78.00   78 - word\n",
      "   77.66   49 t - test\n",
      "   77.66   49 character - level\n",
      "   77.00   77 related work\n",
      "   77.00   77 sentence compression\n",
      "   76.00   76 mutual information\n",
      "   76.00   76 re -\n",
      "   76.00   76 small number\n",
      "   76.00   76 deep learning\n",
      "   76.00   76 recent work\n",
      "   76.00   76 text classification\n"
     ]
    }
   ],
   "source": [
    "for t, c in tail(20, terms.most_common()):\n",
    "    print(f'{c:8.2f} {freqs[len(t)][t]:4d} {\" \".join(t)}')"
   ]
  },
  {
   "cell_type": "markdown",
   "id": "vital-abraham",
   "metadata": {},
   "source": [
    "#### Scale up the processing pipeline and annotate the whole corpus"
   ]
  },
  {
   "cell_type": "code",
   "execution_count": null,
   "id": "atmospheric-flush",
   "metadata": {},
   "outputs": [],
   "source": [
    "# we just did 500 article, we need to do the rest \n",
    "\n"
   ]
  }
 ],
 "metadata": {
  "kernelspec": {
   "display_name": "Python 3",
   "language": "python",
   "name": "python3"
  },
  "language_info": {
   "codemirror_mode": {
    "name": "ipython",
    "version": 3
   },
   "file_extension": ".py",
   "mimetype": "text/x-python",
   "name": "python",
   "nbconvert_exporter": "python",
   "pygments_lexer": "ipython3",
   "version": "3.8.6"
  }
 },
 "nbformat": 4,
 "nbformat_minor": 5
}
