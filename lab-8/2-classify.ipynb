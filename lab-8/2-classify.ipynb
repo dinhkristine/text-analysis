{
 "cells": [
  {
   "cell_type": "markdown",
   "id": "comic-wrestling",
   "metadata": {},
   "source": [
    "# Sentiment analysis"
   ]
  },
  {
   "cell_type": "code",
   "execution_count": 1,
   "id": "theoretical-tissue",
   "metadata": {},
   "outputs": [],
   "source": [
    "import numpy as np\n",
    "import pandas as pd\n",
    "from cytoolz import *\n",
    "from tqdm.auto import tqdm\n",
    "\n",
    "tqdm.pandas()"
   ]
  },
  {
   "cell_type": "code",
   "execution_count": 2,
   "id": "golden-wings",
   "metadata": {},
   "outputs": [],
   "source": [
    "df = pd.read_parquet('s3://ling583/sentiment.parquet', storage_options={'anon': True})"
   ]
  },
  {
   "cell_type": "markdown",
   "id": "historic-democracy",
   "metadata": {},
   "source": [
    "-----"
   ]
  },
  {
   "cell_type": "code",
   "execution_count": 3,
   "id": "assured-blend",
   "metadata": {},
   "outputs": [],
   "source": [
    "from sklearn.model_selection import train_test_split"
   ]
  },
  {
   "cell_type": "code",
   "execution_count": 4,
   "id": "unexpected-device",
   "metadata": {},
   "outputs": [],
   "source": [
    "train, test = train_test_split(\n",
    "    df, test_size=0.2, stratify=df[\"sentiment\"], random_state=619\n",
    ")"
   ]
  },
  {
   "cell_type": "code",
   "execution_count": 5,
   "id": "corresponding-ordinance",
   "metadata": {},
   "outputs": [
    {
     "data": {
      "text/html": [
       "<div>\n",
       "<style scoped>\n",
       "    .dataframe tbody tr th:only-of-type {\n",
       "        vertical-align: middle;\n",
       "    }\n",
       "\n",
       "    .dataframe tbody tr th {\n",
       "        vertical-align: top;\n",
       "    }\n",
       "\n",
       "    .dataframe thead th {\n",
       "        text-align: right;\n",
       "    }\n",
       "</style>\n",
       "<table border=\"1\" class=\"dataframe\">\n",
       "  <thead>\n",
       "    <tr style=\"text-align: right;\">\n",
       "      <th></th>\n",
       "      <th>title</th>\n",
       "      <th>text</th>\n",
       "      <th>date_stayed</th>\n",
       "      <th>date</th>\n",
       "      <th>service</th>\n",
       "      <th>cleanliness</th>\n",
       "      <th>overall</th>\n",
       "      <th>value</th>\n",
       "      <th>location</th>\n",
       "      <th>sleep_quality</th>\n",
       "      <th>rooms</th>\n",
       "      <th>locality</th>\n",
       "      <th>name</th>\n",
       "      <th>sentiment</th>\n",
       "    </tr>\n",
       "  </thead>\n",
       "  <tbody>\n",
       "    <tr>\n",
       "      <th>30367</th>\n",
       "      <td>“The Place to Stay in Manhattan! Simply Superb!”</td>\n",
       "      <td>I have been to New york before and stayed in t...</td>\n",
       "      <td>December 2008</td>\n",
       "      <td>2009-06-18</td>\n",
       "      <td>4.0</td>\n",
       "      <td>5.0</td>\n",
       "      <td>5.0</td>\n",
       "      <td>5.0</td>\n",
       "      <td>5.0</td>\n",
       "      <td>NaN</td>\n",
       "      <td>5.0</td>\n",
       "      <td>New York City</td>\n",
       "      <td>Wingate by Wyndham Manhattan Midtown</td>\n",
       "      <td>good</td>\n",
       "    </tr>\n",
       "    <tr>\n",
       "      <th>33593</th>\n",
       "      <td>“Howard Johnson, Phoenix”</td>\n",
       "      <td>The hotel is located one mile from Sky Harbor ...</td>\n",
       "      <td>January 2012</td>\n",
       "      <td>2012-01-17</td>\n",
       "      <td>4.0</td>\n",
       "      <td>3.0</td>\n",
       "      <td>3.0</td>\n",
       "      <td>3.0</td>\n",
       "      <td>5.0</td>\n",
       "      <td>2.0</td>\n",
       "      <td>3.0</td>\n",
       "      <td>Phoenix</td>\n",
       "      <td>Howard Johnson Phoenix Airport/Downtown Area</td>\n",
       "      <td>bad</td>\n",
       "    </tr>\n",
       "    <tr>\n",
       "      <th>34560</th>\n",
       "      <td>“Pier 5 hotel was unlike any other hotel we ha...</td>\n",
       "      <td>Most hotels and hotel rooms look the same but ...</td>\n",
       "      <td>September 2009</td>\n",
       "      <td>2009-10-09</td>\n",
       "      <td>4.0</td>\n",
       "      <td>5.0</td>\n",
       "      <td>4.0</td>\n",
       "      <td>4.0</td>\n",
       "      <td>5.0</td>\n",
       "      <td>NaN</td>\n",
       "      <td>5.0</td>\n",
       "      <td>Baltimore</td>\n",
       "      <td>Pier 5 Hotel</td>\n",
       "      <td>good</td>\n",
       "    </tr>\n",
       "    <tr>\n",
       "      <th>44168</th>\n",
       "      <td>“New York's best kept secret...well, not so se...</td>\n",
       "      <td>Excellent rooms, wonderful service......value ...</td>\n",
       "      <td>July 2011</td>\n",
       "      <td>2011-09-04</td>\n",
       "      <td>5.0</td>\n",
       "      <td>5.0</td>\n",
       "      <td>5.0</td>\n",
       "      <td>5.0</td>\n",
       "      <td>NaN</td>\n",
       "      <td>5.0</td>\n",
       "      <td>NaN</td>\n",
       "      <td>New York City</td>\n",
       "      <td>On The Ave Hotel</td>\n",
       "      <td>good</td>\n",
       "    </tr>\n",
       "    <tr>\n",
       "      <th>49971</th>\n",
       "      <td>“Cheerful Location-Best Value.”</td>\n",
       "      <td>We recently stayed for 5 nights in Hotel 140. ...</td>\n",
       "      <td>March 2012</td>\n",
       "      <td>2012-03-23</td>\n",
       "      <td>4.0</td>\n",
       "      <td>4.0</td>\n",
       "      <td>4.0</td>\n",
       "      <td>5.0</td>\n",
       "      <td>5.0</td>\n",
       "      <td>4.0</td>\n",
       "      <td>4.0</td>\n",
       "      <td>Boston</td>\n",
       "      <td>Hotel 140</td>\n",
       "      <td>good</td>\n",
       "    </tr>\n",
       "  </tbody>\n",
       "</table>\n",
       "</div>"
      ],
      "text/plain": [
       "                                                   title  \\\n",
       "30367   “The Place to Stay in Manhattan! Simply Superb!”   \n",
       "33593                          “Howard Johnson, Phoenix”   \n",
       "34560  “Pier 5 hotel was unlike any other hotel we ha...   \n",
       "44168  “New York's best kept secret...well, not so se...   \n",
       "49971                    “Cheerful Location-Best Value.”   \n",
       "\n",
       "                                                    text     date_stayed  \\\n",
       "30367  I have been to New york before and stayed in t...   December 2008   \n",
       "33593  The hotel is located one mile from Sky Harbor ...    January 2012   \n",
       "34560  Most hotels and hotel rooms look the same but ...  September 2009   \n",
       "44168  Excellent rooms, wonderful service......value ...       July 2011   \n",
       "49971  We recently stayed for 5 nights in Hotel 140. ...      March 2012   \n",
       "\n",
       "            date  service  cleanliness  overall  value  location  \\\n",
       "30367 2009-06-18      4.0          5.0      5.0    5.0       5.0   \n",
       "33593 2012-01-17      4.0          3.0      3.0    3.0       5.0   \n",
       "34560 2009-10-09      4.0          5.0      4.0    4.0       5.0   \n",
       "44168 2011-09-04      5.0          5.0      5.0    5.0       NaN   \n",
       "49971 2012-03-23      4.0          4.0      4.0    5.0       5.0   \n",
       "\n",
       "       sleep_quality  rooms       locality  \\\n",
       "30367            NaN    5.0  New York City   \n",
       "33593            2.0    3.0        Phoenix   \n",
       "34560            NaN    5.0      Baltimore   \n",
       "44168            5.0    NaN  New York City   \n",
       "49971            4.0    4.0         Boston   \n",
       "\n",
       "                                               name sentiment  \n",
       "30367          Wingate by Wyndham Manhattan Midtown      good  \n",
       "33593  Howard Johnson Phoenix Airport/Downtown Area       bad  \n",
       "34560                                  Pier 5 Hotel      good  \n",
       "44168                              On The Ave Hotel      good  \n",
       "49971                                     Hotel 140      good  "
      ]
     },
     "execution_count": 5,
     "metadata": {},
     "output_type": "execute_result"
    }
   ],
   "source": [
    "train.head()"
   ]
  },
  {
   "cell_type": "code",
   "execution_count": 6,
   "id": "organizational-chemistry",
   "metadata": {},
   "outputs": [
    {
     "data": {
      "text/plain": [
       "good    29287\n",
       "bad     10713\n",
       "Name: sentiment, dtype: int64"
      ]
     },
     "execution_count": 6,
     "metadata": {},
     "output_type": "execute_result"
    }
   ],
   "source": [
    "train[\"sentiment\"].value_counts()"
   ]
  },
  {
   "cell_type": "markdown",
   "id": "processed-candle",
   "metadata": {},
   "source": [
    "#### Tokenize the review text"
   ]
  },
  {
   "cell_type": "code",
   "execution_count": 7,
   "id": "considered-parallel",
   "metadata": {},
   "outputs": [],
   "source": [
    "import spacy\n",
    "\n",
    "nlp = spacy.load(\n",
    "    \"en_core_web_sm\",\n",
    "    exclude=[\"tagger\", \"parser\", \"ner\", \"lemmatizer\", \"attribute_ruler\"],\n",
    ")\n",
    "\n",
    "\n",
    "def tokenize(text):\n",
    "    doc = nlp.tokenizer(text)\n",
    "    return [t.norm_ for t in doc if t.is_alpha]"
   ]
  },
  {
   "cell_type": "code",
   "execution_count": 8,
   "id": "russian-mounting",
   "metadata": {},
   "outputs": [],
   "source": [
    "import multiprocessing as mp"
   ]
  },
  {
   "cell_type": "code",
   "execution_count": 9,
   "id": "extensive-chemistry",
   "metadata": {},
   "outputs": [
    {
     "data": {
      "application/vnd.jupyter.widget-view+json": {
       "model_id": "48773f80953448c7b7e9f7bd74db288c",
       "version_major": 2,
       "version_minor": 0
      },
      "text/plain": [
       "  0%|          | 0/40000 [00:00<?, ?it/s]"
      ]
     },
     "metadata": {},
     "output_type": "display_data"
    },
    {
     "name": "stderr",
     "output_type": "stream",
     "text": [
      "<ipython-input-9-7037f12af5e3>:2: SettingWithCopyWarning: \n",
      "A value is trying to be set on a copy of a slice from a DataFrame.\n",
      "Try using .loc[row_indexer,col_indexer] = value instead\n",
      "\n",
      "See the caveats in the documentation: https://pandas.pydata.org/pandas-docs/stable/user_guide/indexing.html#returning-a-view-versus-a-copy\n",
      "  train[\"tokens\"] = list(p.imap(tokenize, tqdm(train[\"text\"]), chunksize=100))\n"
     ]
    },
    {
     "data": {
      "application/vnd.jupyter.widget-view+json": {
       "model_id": "f1f66471ec0d48c98fed0655f4fd6c9e",
       "version_major": 2,
       "version_minor": 0
      },
      "text/plain": [
       "  0%|          | 0/10000 [00:00<?, ?it/s]"
      ]
     },
     "metadata": {},
     "output_type": "display_data"
    },
    {
     "name": "stderr",
     "output_type": "stream",
     "text": [
      "<ipython-input-9-7037f12af5e3>:3: SettingWithCopyWarning: \n",
      "A value is trying to be set on a copy of a slice from a DataFrame.\n",
      "Try using .loc[row_indexer,col_indexer] = value instead\n",
      "\n",
      "See the caveats in the documentation: https://pandas.pydata.org/pandas-docs/stable/user_guide/indexing.html#returning-a-view-versus-a-copy\n",
      "  test[\"tokens\"] = list(p.imap(tokenize, tqdm(test[\"text\"]), chunksize=100))\n"
     ]
    }
   ],
   "source": [
    "with mp.Pool() as p:\n",
    "    train[\"tokens\"] = list(p.imap(tokenize, tqdm(train[\"text\"]), chunksize=100))\n",
    "    test[\"tokens\"] = list(p.imap(tokenize, tqdm(test[\"text\"]), chunksize=100))"
   ]
  },
  {
   "cell_type": "code",
   "execution_count": 10,
   "id": "embedded-russia",
   "metadata": {},
   "outputs": [
    {
     "data": {
      "text/html": [
       "<div>\n",
       "<style scoped>\n",
       "    .dataframe tbody tr th:only-of-type {\n",
       "        vertical-align: middle;\n",
       "    }\n",
       "\n",
       "    .dataframe tbody tr th {\n",
       "        vertical-align: top;\n",
       "    }\n",
       "\n",
       "    .dataframe thead th {\n",
       "        text-align: right;\n",
       "    }\n",
       "</style>\n",
       "<table border=\"1\" class=\"dataframe\">\n",
       "  <thead>\n",
       "    <tr style=\"text-align: right;\">\n",
       "      <th></th>\n",
       "      <th>title</th>\n",
       "      <th>text</th>\n",
       "      <th>date_stayed</th>\n",
       "      <th>date</th>\n",
       "      <th>service</th>\n",
       "      <th>cleanliness</th>\n",
       "      <th>overall</th>\n",
       "      <th>value</th>\n",
       "      <th>location</th>\n",
       "      <th>sleep_quality</th>\n",
       "      <th>rooms</th>\n",
       "      <th>locality</th>\n",
       "      <th>name</th>\n",
       "      <th>sentiment</th>\n",
       "      <th>tokens</th>\n",
       "    </tr>\n",
       "  </thead>\n",
       "  <tbody>\n",
       "    <tr>\n",
       "      <th>30367</th>\n",
       "      <td>“The Place to Stay in Manhattan! Simply Superb!”</td>\n",
       "      <td>I have been to New york before and stayed in t...</td>\n",
       "      <td>December 2008</td>\n",
       "      <td>2009-06-18</td>\n",
       "      <td>4.0</td>\n",
       "      <td>5.0</td>\n",
       "      <td>5.0</td>\n",
       "      <td>5.0</td>\n",
       "      <td>5.0</td>\n",
       "      <td>NaN</td>\n",
       "      <td>5.0</td>\n",
       "      <td>New York City</td>\n",
       "      <td>Wingate by Wyndham Manhattan Midtown</td>\n",
       "      <td>good</td>\n",
       "      <td>[i, have, been, to, new, york, before, and, st...</td>\n",
       "    </tr>\n",
       "    <tr>\n",
       "      <th>33593</th>\n",
       "      <td>“Howard Johnson, Phoenix”</td>\n",
       "      <td>The hotel is located one mile from Sky Harbor ...</td>\n",
       "      <td>January 2012</td>\n",
       "      <td>2012-01-17</td>\n",
       "      <td>4.0</td>\n",
       "      <td>3.0</td>\n",
       "      <td>3.0</td>\n",
       "      <td>3.0</td>\n",
       "      <td>5.0</td>\n",
       "      <td>2.0</td>\n",
       "      <td>3.0</td>\n",
       "      <td>Phoenix</td>\n",
       "      <td>Howard Johnson Phoenix Airport/Downtown Area</td>\n",
       "      <td>bad</td>\n",
       "      <td>[the, hotel, is, located, one, mile, from, sky...</td>\n",
       "    </tr>\n",
       "    <tr>\n",
       "      <th>34560</th>\n",
       "      <td>“Pier 5 hotel was unlike any other hotel we ha...</td>\n",
       "      <td>Most hotels and hotel rooms look the same but ...</td>\n",
       "      <td>September 2009</td>\n",
       "      <td>2009-10-09</td>\n",
       "      <td>4.0</td>\n",
       "      <td>5.0</td>\n",
       "      <td>4.0</td>\n",
       "      <td>4.0</td>\n",
       "      <td>5.0</td>\n",
       "      <td>NaN</td>\n",
       "      <td>5.0</td>\n",
       "      <td>Baltimore</td>\n",
       "      <td>Pier 5 Hotel</td>\n",
       "      <td>good</td>\n",
       "      <td>[most, hotels, and, hotel, rooms, look, the, s...</td>\n",
       "    </tr>\n",
       "    <tr>\n",
       "      <th>44168</th>\n",
       "      <td>“New York's best kept secret...well, not so se...</td>\n",
       "      <td>Excellent rooms, wonderful service......value ...</td>\n",
       "      <td>July 2011</td>\n",
       "      <td>2011-09-04</td>\n",
       "      <td>5.0</td>\n",
       "      <td>5.0</td>\n",
       "      <td>5.0</td>\n",
       "      <td>5.0</td>\n",
       "      <td>NaN</td>\n",
       "      <td>5.0</td>\n",
       "      <td>NaN</td>\n",
       "      <td>New York City</td>\n",
       "      <td>On The Ave Hotel</td>\n",
       "      <td>good</td>\n",
       "      <td>[excellent, rooms, wonderful, service, value, ...</td>\n",
       "    </tr>\n",
       "    <tr>\n",
       "      <th>49971</th>\n",
       "      <td>“Cheerful Location-Best Value.”</td>\n",
       "      <td>We recently stayed for 5 nights in Hotel 140. ...</td>\n",
       "      <td>March 2012</td>\n",
       "      <td>2012-03-23</td>\n",
       "      <td>4.0</td>\n",
       "      <td>4.0</td>\n",
       "      <td>4.0</td>\n",
       "      <td>5.0</td>\n",
       "      <td>5.0</td>\n",
       "      <td>4.0</td>\n",
       "      <td>4.0</td>\n",
       "      <td>Boston</td>\n",
       "      <td>Hotel 140</td>\n",
       "      <td>good</td>\n",
       "      <td>[we, recently, stayed, for, nights, in, hotel,...</td>\n",
       "    </tr>\n",
       "  </tbody>\n",
       "</table>\n",
       "</div>"
      ],
      "text/plain": [
       "                                                   title  \\\n",
       "30367   “The Place to Stay in Manhattan! Simply Superb!”   \n",
       "33593                          “Howard Johnson, Phoenix”   \n",
       "34560  “Pier 5 hotel was unlike any other hotel we ha...   \n",
       "44168  “New York's best kept secret...well, not so se...   \n",
       "49971                    “Cheerful Location-Best Value.”   \n",
       "\n",
       "                                                    text     date_stayed  \\\n",
       "30367  I have been to New york before and stayed in t...   December 2008   \n",
       "33593  The hotel is located one mile from Sky Harbor ...    January 2012   \n",
       "34560  Most hotels and hotel rooms look the same but ...  September 2009   \n",
       "44168  Excellent rooms, wonderful service......value ...       July 2011   \n",
       "49971  We recently stayed for 5 nights in Hotel 140. ...      March 2012   \n",
       "\n",
       "            date  service  cleanliness  overall  value  location  \\\n",
       "30367 2009-06-18      4.0          5.0      5.0    5.0       5.0   \n",
       "33593 2012-01-17      4.0          3.0      3.0    3.0       5.0   \n",
       "34560 2009-10-09      4.0          5.0      4.0    4.0       5.0   \n",
       "44168 2011-09-04      5.0          5.0      5.0    5.0       NaN   \n",
       "49971 2012-03-23      4.0          4.0      4.0    5.0       5.0   \n",
       "\n",
       "       sleep_quality  rooms       locality  \\\n",
       "30367            NaN    5.0  New York City   \n",
       "33593            2.0    3.0        Phoenix   \n",
       "34560            NaN    5.0      Baltimore   \n",
       "44168            5.0    NaN  New York City   \n",
       "49971            4.0    4.0         Boston   \n",
       "\n",
       "                                               name sentiment  \\\n",
       "30367          Wingate by Wyndham Manhattan Midtown      good   \n",
       "33593  Howard Johnson Phoenix Airport/Downtown Area       bad   \n",
       "34560                                  Pier 5 Hotel      good   \n",
       "44168                              On The Ave Hotel      good   \n",
       "49971                                     Hotel 140      good   \n",
       "\n",
       "                                                  tokens  \n",
       "30367  [i, have, been, to, new, york, before, and, st...  \n",
       "33593  [the, hotel, is, located, one, mile, from, sky...  \n",
       "34560  [most, hotels, and, hotel, rooms, look, the, s...  \n",
       "44168  [excellent, rooms, wonderful, service, value, ...  \n",
       "49971  [we, recently, stayed, for, nights, in, hotel,...  "
      ]
     },
     "execution_count": 10,
     "metadata": {},
     "output_type": "execute_result"
    }
   ],
   "source": [
    "train.head()"
   ]
  },
  {
   "cell_type": "markdown",
   "id": "brief-occasion",
   "metadata": {},
   "source": [
    "### TfidfTransformer "
   ]
  },
  {
   "cell_type": "code",
   "execution_count": 11,
   "id": "younger-gossip",
   "metadata": {},
   "outputs": [],
   "source": [
    "from sklearn.feature_extraction.text import TfidfTransformer\n",
    "from sklearn.feature_extraction.text import CountVectorizer\n",
    "from sklearn.metrics import classification_report\n",
    "from sklearn.linear_model import SGDClassifier\n",
    "from sklearn.pipeline import make_pipeline"
   ]
  },
  {
   "cell_type": "code",
   "execution_count": 12,
   "id": "curious-armor",
   "metadata": {},
   "outputs": [
    {
     "name": "stdout",
     "output_type": "stream",
     "text": [
      "              precision    recall  f1-score   support\n",
      "\n",
      "         bad       0.87      0.74      0.80      2678\n",
      "        good       0.91      0.96      0.93      7322\n",
      "\n",
      "    accuracy                           0.90     10000\n",
      "   macro avg       0.89      0.85      0.87     10000\n",
      "weighted avg       0.90      0.90      0.90     10000\n",
      "\n"
     ]
    }
   ],
   "source": [
    "sgd = make_pipeline(CountVectorizer(analyzer=identity), TfidfTransformer(), SGDClassifier())\n",
    "sgd.fit(train[\"tokens\"], train[\"sentiment\"])\n",
    "predicted = sgd.predict(test[\"tokens\"])\n",
    "print(classification_report(test[\"sentiment\"], predicted))"
   ]
  },
  {
   "cell_type": "markdown",
   "id": "external-reverse",
   "metadata": {},
   "source": [
    "Initially, the baseline model have a really good F1 scores for accuracy (.90), marco average (.87), and weighted average (.90). This model seems to be really good already. However, we can do hyperparameter to see if we can get higher F1 scores. \n",
    "\n",
    "#### Hyperparameter search"
   ]
  },
  {
   "cell_type": "code",
   "execution_count": 16,
   "id": "operational-phone",
   "metadata": {},
   "outputs": [],
   "source": [
    "import mlflow\n",
    "from dask_ml.model_selection import RandomizedSearchCV\n",
    "from logger import log_search\n",
    "from scipy.stats.distributions import loguniform, randint, uniform"
   ]
  },
  {
   "cell_type": "code",
   "execution_count": 14,
   "id": "divided-laptop",
   "metadata": {},
   "outputs": [],
   "source": [
    "from warnings import simplefilter\n",
    "\n",
    "simplefilter(action=\"ignore\", category=FutureWarning)"
   ]
  },
  {
   "cell_type": "code",
   "execution_count": 17,
   "id": "hollow-spiritual",
   "metadata": {},
   "outputs": [
    {
     "data": {
      "text/html": [
       "<table style=\"border: 2px solid white;\">\n",
       "<tr>\n",
       "<td style=\"vertical-align: top; border: 0px solid white\">\n",
       "<h3 style=\"text-align: left;\">Client</h3>\n",
       "<ul style=\"text-align: left; list-style: none; margin: 0; padding: 0;\">\n",
       "  <li><b>Scheduler: </b>tcp://127.0.0.1:38723</li>\n",
       "  <li><b>Dashboard: </b><a href='http://127.0.0.1:8787/status' target='_blank'>http://127.0.0.1:8787/status</a></li>\n",
       "</ul>\n",
       "</td>\n",
       "<td style=\"vertical-align: top; border: 0px solid white\">\n",
       "<h3 style=\"text-align: left;\">Cluster</h3>\n",
       "<ul style=\"text-align: left; list-style:none; margin: 0; padding: 0;\">\n",
       "  <li><b>Workers: </b>4</li>\n",
       "  <li><b>Cores: </b>4</li>\n",
       "  <li><b>Memory: </b>16.62 GB</li>\n",
       "</ul>\n",
       "</td>\n",
       "</tr>\n",
       "</table>"
      ],
      "text/plain": [
       "<Client: 'tcp://127.0.0.1:38723' processes=4 threads=4, memory=16.62 GB>"
      ]
     },
     "execution_count": 17,
     "metadata": {},
     "output_type": "execute_result"
    }
   ],
   "source": [
    "from dask.distributed import Client\n",
    "\n",
    "client = Client(\"tcp://127.0.0.1:38723\")\n",
    "client"
   ]
  },
  {
   "cell_type": "code",
   "execution_count": 18,
   "id": "private-addiction",
   "metadata": {},
   "outputs": [
    {
     "name": "stdout",
     "output_type": "stream",
     "text": [
      "INFO: 'lab-8' does not exist. Creating a new experiment\n"
     ]
    }
   ],
   "source": [
    "mlflow.set_experiment(\"lab-8\")\n",
    "sgd = make_pipeline(\n",
    "    CountVectorizer(analyzer=identity), TfidfTransformer(), SGDClassifier()\n",
    ")"
   ]
  },
  {
   "cell_type": "code",
   "execution_count": 19,
   "id": "deadly-thousand",
   "metadata": {},
   "outputs": [
    {
     "name": "stdout",
     "output_type": "stream",
     "text": [
      "CPU times: user 10.6 s, sys: 1.32 s, total: 11.9 s\n",
      "Wall time: 3min 27s\n"
     ]
    }
   ],
   "source": [
    "%%time\n",
    "\n",
    "search = RandomizedSearchCV(\n",
    "    sgd,\n",
    "    {\n",
    "        \"countvectorizer__min_df\": randint(1, 20),\n",
    "        \"countvectorizer__max_df\": uniform(0.5, 0.5),\n",
    "        \"tfidftransformer__use_idf\": [True, False],\n",
    "        \"sgdclassifier__alpha\": loguniform(1e-6, 1e-2),\n",
    "    },\n",
    "    n_iter=50,\n",
    "    scoring=\"f1_macro\",\n",
    ")\n",
    "search.fit(train[\"tokens\"], train[\"sentiment\"])\n",
    "log_search(search)"
   ]
  },
  {
   "cell_type": "markdown",
   "id": "conservative-symposium",
   "metadata": {},
   "source": [
    "### Final Classifier"
   ]
  },
  {
   "cell_type": "code",
   "execution_count": 21,
   "id": "registered-banana",
   "metadata": {},
   "outputs": [
    {
     "name": "stdout",
     "output_type": "stream",
     "text": [
      "              precision    recall  f1-score   support\n",
      "\n",
      "         bad       0.87      0.74      0.80      2678\n",
      "        good       0.91      0.96      0.93      7322\n",
      "\n",
      "    accuracy                           0.90     10000\n",
      "   macro avg       0.89      0.85      0.87     10000\n",
      "weighted avg       0.90      0.90      0.90     10000\n",
      "\n"
     ]
    }
   ],
   "source": [
    "sgd = make_pipeline(\n",
    "    CountVectorizer(analyzer=identity, min_df=2, max_df=0.87),\n",
    "    TfidfTransformer(use_idf=True),\n",
    "    SGDClassifier(alpha=6.14e-05),\n",
    ")\n",
    "sgd.fit(train[\"tokens\"], train[\"sentiment\"])\n",
    "predicted = sgd.predict(test[\"tokens\"])\n",
    "print(classification_report(test[\"sentiment\"], predicted))"
   ]
  },
  {
   "cell_type": "markdown",
   "id": "funded-newsletter",
   "metadata": {},
   "source": [
    "After optimizing and using the best parameters that it offers, F1 scores from the optimized model are the same as the original baseline model. Therefore, we will go ahead and use our baseline model to be our final classifier for setiment. "
   ]
  },
  {
   "cell_type": "code",
   "execution_count": null,
   "id": "biblical-guyana",
   "metadata": {},
   "outputs": [],
   "source": []
  }
 ],
 "metadata": {
  "kernelspec": {
   "display_name": "Python 3",
   "language": "python",
   "name": "python3"
  },
  "language_info": {
   "codemirror_mode": {
    "name": "ipython",
    "version": 3
   },
   "file_extension": ".py",
   "mimetype": "text/x-python",
   "name": "python",
   "nbconvert_exporter": "python",
   "pygments_lexer": "ipython3",
   "version": "3.8.6"
  }
 },
 "nbformat": 4,
 "nbformat_minor": 5
}
