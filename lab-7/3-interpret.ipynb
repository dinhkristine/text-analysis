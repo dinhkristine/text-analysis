{
 "cells": [
  {
   "cell_type": "markdown",
   "id": "fleet-hawaii",
   "metadata": {},
   "source": [
    "# LAB 7: Error analysis\n",
    "\n",
    "Objectives\n",
    "* Construct a  linear text classifier using SGDClassifier\n",
    "* Evaluate its performance and categorize the errors that it makes\n",
    "* Eaxmine model's coefficients and decision function values\n",
    "* Interpret model results using LIME"
   ]
  },
  {
   "cell_type": "code",
   "execution_count": 1,
   "id": "derived-stopping",
   "metadata": {},
   "outputs": [],
   "source": [
    "import numpy as np\n",
    "import pandas as pd\n",
    "from cytoolz import *\n",
    "from tqdm.auto import tqdm\n",
    "\n",
    "tqdm.pandas()"
   ]
  },
  {
   "cell_type": "markdown",
   "id": "contrary-toronto",
   "metadata": {},
   "source": [
    "---\n",
    "\n",
    "## Load data"
   ]
  },
  {
   "cell_type": "code",
   "execution_count": 2,
   "id": "noticed-preparation",
   "metadata": {},
   "outputs": [],
   "source": [
    "train = pd.read_parquet(\"s3://ling583/lab7-train.parquet\", storage_options={\"anon\":True})\n",
    "test = pd.read_parquet(\"s3://ling583/lab7-test.parquet\", storage_options={\"anon\":True})"
   ]
  },
  {
   "cell_type": "code",
   "execution_count": 3,
   "id": "aggressive-headset",
   "metadata": {},
   "outputs": [],
   "source": [
    "import cloudpickle\n",
    "from sklearn.metrics import classification_report, f1_score, plot_confusion_matrix"
   ]
  },
  {
   "cell_type": "code",
   "execution_count": 4,
   "id": "hungry-bloom",
   "metadata": {},
   "outputs": [],
   "source": [
    "sgd = cloudpickle.load(open(\"sgd.model\", \"rb\"))"
   ]
  },
  {
   "cell_type": "code",
   "execution_count": 5,
   "id": "completed-prompt",
   "metadata": {},
   "outputs": [
    {
     "name": "stdout",
     "output_type": "stream",
     "text": [
      "              precision    recall  f1-score   support\n",
      "\n",
      "        GJOB       0.97      0.94      0.95       573\n",
      "        GPOL       0.94      0.97      0.95      1853\n",
      "        GSPO       1.00      0.99      1.00      1410\n",
      "        GVIO       0.93      0.90      0.91       928\n",
      "\n",
      "    accuracy                           0.96      4764\n",
      "   macro avg       0.96      0.95      0.95      4764\n",
      "weighted avg       0.96      0.96      0.96      4764\n",
      "\n"
     ]
    }
   ],
   "source": [
    "predicted = sgd.predict(test[\"text\"])\n",
    "print(classification_report(test[\"topics\"], predicted))"
   ]
  },
  {
   "cell_type": "markdown",
   "id": "foreign-politics",
   "metadata": {},
   "source": [
    "---\n",
    "\n",
    "## Decision function"
   ]
  },
  {
   "cell_type": "code",
   "execution_count": 6,
   "id": "endless-cooper",
   "metadata": {},
   "outputs": [],
   "source": [
    "labels = sgd.named_steps['sgdclassifier'].classes_\n",
    "scores = sgd.decision_function(test[\"text\"])"
   ]
  },
  {
   "cell_type": "code",
   "execution_count": 7,
   "id": "south-america",
   "metadata": {},
   "outputs": [
    {
     "data": {
      "text/plain": [
       "array(['GJOB', 'GPOL', 'GSPO', 'GVIO'], dtype='<U4')"
      ]
     },
     "execution_count": 7,
     "metadata": {},
     "output_type": "execute_result"
    }
   ],
   "source": [
    "labels"
   ]
  },
  {
   "cell_type": "code",
   "execution_count": 8,
   "id": "painted-lewis",
   "metadata": {},
   "outputs": [
    {
     "data": {
      "text/plain": [
       "array([ 0.00943159, -0.82207324, -1.01042548, -0.94383252])"
      ]
     },
     "execution_count": 8,
     "metadata": {},
     "output_type": "execute_result"
    }
   ],
   "source": [
    "scores[0,:]"
   ]
  },
  {
   "cell_type": "code",
   "execution_count": 9,
   "id": "velvet-procedure",
   "metadata": {},
   "outputs": [
    {
     "data": {
      "text/plain": [
       "'GJOB'"
      ]
     },
     "execution_count": 9,
     "metadata": {},
     "output_type": "execute_result"
    }
   ],
   "source": [
    "test['topics'].iloc[0]"
   ]
  },
  {
   "cell_type": "code",
   "execution_count": 10,
   "id": "aggressive-idaho",
   "metadata": {},
   "outputs": [
    {
     "data": {
      "text/plain": [
       "\"Canada's Terra Nova partners set labor agreement. A new labor agreement covering future operations at Newfoundland's Bull Arm construction site, where some work on the Terra Nova oil project is expected to be done, was completed on Monday, Terra Nova's partners said. The deal, signed by PCL Industrial Constructors Inc and the Newfoundland and Labrador Building and Construction Trades Council, will allow Bull Arm to be considered for the building of some of the oil platform's topsides. The key part of the deal was the formation of a single union representing workers at the site, the firms said.\""
      ]
     },
     "execution_count": 10,
     "metadata": {},
     "output_type": "execute_result"
    }
   ],
   "source": [
    "test['text'].iloc[0]"
   ]
  },
  {
   "cell_type": "code",
   "execution_count": 11,
   "id": "marked-strap",
   "metadata": {},
   "outputs": [],
   "source": [
    "highest = scores.max(axis=1)"
   ]
  },
  {
   "cell_type": "code",
   "execution_count": 12,
   "id": "finnish-identification",
   "metadata": {},
   "outputs": [
    {
     "data": {
      "text/plain": [
       "0.00943158575712999"
      ]
     },
     "execution_count": 12,
     "metadata": {},
     "output_type": "execute_result"
    }
   ],
   "source": [
    "highest[0]"
   ]
  },
  {
   "cell_type": "code",
   "execution_count": 13,
   "id": "identical-moses",
   "metadata": {},
   "outputs": [
    {
     "data": {
      "text/plain": [
       "3436"
      ]
     },
     "execution_count": 13,
     "metadata": {},
     "output_type": "execute_result"
    }
   ],
   "source": [
    "highest.argmax()"
   ]
  },
  {
   "cell_type": "code",
   "execution_count": 19,
   "id": "animated-vaccine",
   "metadata": {},
   "outputs": [
    {
     "data": {
      "text/plain": [
       "array([-2.94796285,  4.87591194, -2.50605886, -3.93026551])"
      ]
     },
     "execution_count": 19,
     "metadata": {},
     "output_type": "execute_result"
    }
   ],
   "source": [
    "scores[3436]"
   ]
  },
  {
   "cell_type": "code",
   "execution_count": 20,
   "id": "maritime-badge",
   "metadata": {},
   "outputs": [
    {
     "data": {
      "text/plain": [
       "'GPOL'"
      ]
     },
     "execution_count": 20,
     "metadata": {},
     "output_type": "execute_result"
    }
   ],
   "source": [
    "test['topics'].iloc[3436]"
   ]
  },
  {
   "cell_type": "code",
   "execution_count": 21,
   "id": "elect-hands",
   "metadata": {},
   "outputs": [
    {
     "data": {
      "text/plain": [
       "\"FRENCH ELECTION - HOW THEY VOTE. About 39 million French voters are entitled to vote in Sunday's first round of a two-stage election to choose a new National Assembly or lower house of parliament. President Jacques Chirac used his constitutional power to dissolve the Assembly on April 21 and called a snap election, 10 months ahead of schedule, for May 25 and June 1. The president, who appoints the prime minister and cabinet, may not dissolve parliament again in the first year of a new legislature. Some 6,389 candidates are vying for the 577 seats in single-member constituencies, the Interior Ministry said. The record is 29 candidates in a single electoral district in central Paris. A candidate who wins more than 50 percent of votes cast on the first ballot is elected without a runoff. Otherwise, any candidate who polls 12.5 percent of the total of registered voters has the right to contest the second ballot. The person who wins the most votes on the runoff is elected, even if he or she does not poll 50 percent. There are 555 constituencies in metropolitan France and 22 in overseas departments and territories. In most districts, the ruling conservative RPR-UDF coalition is running a single candidate, whereas the left-wing opposition parties are contesting the poll separately but will unite behind the best-placed opposition candidate on the runoff. As a result, more conservatives than left-wingers are expected to win seats outright on the first round, but that does not mean the coalition will necessarily win the election. Voting in metropolitan France takes place from 8 a.m. (0600 GMT) to 6 p.m. (1600 GMT) in most areas and 8 p.m. (1800 GMT) in Paris and major provincial citites. The first round of voting for the two seats in French Polynesia was held on May 17. The last overseas departments to vote are in France's Caribbean and South American territories. No results, projections or exit polls may be published until the last polling stations have closed in metropolitan France. By law, no opinion polls may be published in the last week before the first round or between the two rounds. On election night, television stations broadcast usually reliable projections of the outcome in votes and forecasts of the result in seats, usually in a spread, as soon as the last polls close at 8 p.m. (1800 GMT). The parties were allotted time for election broadcasts on public radio and television between May 5 and 23. Campaign spending and individual donations to parties are limited by law. Any party which fields 50 candidates or more receives public funds proportionate to the number of votes it polls. The centre-right coalition won a landslide majority in the last parliamentary election in March 1993. The turnout was 69.2 percent. The state of the parties in the outgoing Assembly was:     RPR (Gaullists)\\t\\t\\t 258     UDF (centre-right)\\t\\t    206     Socialist party and allies\\t   63     Communist party and allies\\t   24     Other left\\t\\t\\t\\t 12     Other right\\t\\t\\t\\t13     Vacant seat\\t\\t\\t\\t 1 The upper house, the Senate, is elected indirectly by local officials and is not affected by this election. -- Paris Newsroom +331 4221 5339\""
      ]
     },
     "execution_count": 21,
     "metadata": {},
     "output_type": "execute_result"
    }
   ],
   "source": [
    "test['text'].iloc[3436]"
   ]
  },
  {
   "cell_type": "code",
   "execution_count": 18,
   "id": "declared-germany",
   "metadata": {},
   "outputs": [
    {
     "data": {
      "text/plain": [
       "1824"
      ]
     },
     "execution_count": 18,
     "metadata": {},
     "output_type": "execute_result"
    }
   ],
   "source": [
    "highest.argmin()"
   ]
  },
  {
   "cell_type": "code",
   "execution_count": 22,
   "id": "pleasant-lexington",
   "metadata": {},
   "outputs": [
    {
     "data": {
      "text/plain": [
       "array([-0.73942135, -0.5082602 , -0.89284713, -0.66066142])"
      ]
     },
     "execution_count": 22,
     "metadata": {},
     "output_type": "execute_result"
    }
   ],
   "source": [
    "scores[1824]"
   ]
  },
  {
   "cell_type": "code",
   "execution_count": 23,
   "id": "republican-mining",
   "metadata": {},
   "outputs": [
    {
     "data": {
      "text/plain": [
       "'GPOL'"
      ]
     },
     "execution_count": 23,
     "metadata": {},
     "output_type": "execute_result"
    }
   ],
   "source": [
    "test['topics'].iloc[1824]"
   ]
  },
  {
   "cell_type": "code",
   "execution_count": 24,
   "id": "senior-perth",
   "metadata": {},
   "outputs": [
    {
     "data": {
      "text/plain": [
       "'KKK says membership is growing in the United States. The Ku Klux Klan\\'s membership drive has successfully crossed the Mason-Dixon Line and is now concentrating on building membership through the nation\\'s prison population, Klan leaders said on Saturday. Speaking before a rally in Pittsburgh, the Klan\\'s top two national officers denied that the organisation\\'s strongholds were limited to the Deep South, as typically perceived, adding that Texas was the next target for major Klan recruitment. \"That (strength limited to the South) is something the media tries to portray,\" said Jeff Berry, Imperial Wizard of the Klan. \"Indiana always has been the strongest state for the Klan. We\\'ve had rallies in Indiana where our membership numbered 300,000 strong.\" Berry, who claimed his position in the Klan was akin to being president of the United States, said membership in Indiana numbers around 8,000. He would not disclose totals from other states, but said Pennsylvania has the second-largest number of Klan members, followed by Florida. \"We have eliminated the Mason-Dixon Line,\" Berry said, referring to the historical divider between the North and South. \"A lot of people in the South support us, though. We are more welcome there than we are here.\" Brad Thompson, Grand Kladd for the Klan -- the organisation\\'s national vice president -- estimated national membership at five million. \"We have about that many seaboard to seaboard,\" Thompson said. \"We are strong in 27 states, and Texas is where we are growing the fastest ... through the prison population there and in other states. People in Texas are tired of Mexicans coming over the border and taking jobs from whites.\" Thompson said membership was also high in Indiana, Illinois, Michigan, New York and Wisconsin. Edward Johnson, 41, a black man from Charlottesville, Virginia, in Pittsburgh for the rally, said his experience was that the Klan was gaining strength north of the Mason-Dixon Line. \"I\\'ve caught more hell here than there,\" Johnson said. \"You see a lot more here than in the South. They\\'re invisible down there. Up here, they take their hoods off.\"'"
      ]
     },
     "execution_count": 24,
     "metadata": {},
     "output_type": "execute_result"
    }
   ],
   "source": [
    "test['text'].iloc[1824]"
   ]
  },
  {
   "cell_type": "code",
   "execution_count": 25,
   "id": "amended-guess",
   "metadata": {},
   "outputs": [
    {
     "data": {
      "text/plain": [
       "array([[ 0.00943159, -0.82207324, -1.01042548, -0.94383252],\n",
       "       [-1.52027691,  1.27866036, -1.59866839, -1.4121714 ],\n",
       "       [-1.32800814,  1.21842676, -1.55354325, -1.30009236],\n",
       "       [-1.43620498, -1.3279931 ,  1.64140519, -1.58913666],\n",
       "       [ 0.63508963, -0.61455586, -1.15762679, -2.24462357]])"
      ]
     },
     "execution_count": 25,
     "metadata": {},
     "output_type": "execute_result"
    }
   ],
   "source": [
    "scores[0:5,:]"
   ]
  },
  {
   "cell_type": "code",
   "execution_count": 26,
   "id": "graduate-cuisine",
   "metadata": {},
   "outputs": [
    {
     "data": {
      "text/plain": [
       "array([[-1.01042548, -0.94383252, -0.82207324,  0.00943159],\n",
       "       [-1.59866839, -1.52027691, -1.4121714 ,  1.27866036],\n",
       "       [-1.55354325, -1.32800814, -1.30009236,  1.21842676],\n",
       "       [-1.58913666, -1.43620498, -1.3279931 ,  1.64140519],\n",
       "       [-2.24462357, -1.15762679, -0.61455586,  0.63508963]])"
      ]
     },
     "execution_count": 26,
     "metadata": {},
     "output_type": "execute_result"
    }
   ],
   "source": [
    "scores.sort(axis=1)\n",
    "scores[0:5,:]"
   ]
  },
  {
   "cell_type": "code",
   "execution_count": 27,
   "id": "living-cattle",
   "metadata": {},
   "outputs": [],
   "source": [
    "margin = scores[:,3]-scores[:,2]"
   ]
  },
  {
   "cell_type": "code",
   "execution_count": 28,
   "id": "regulation-biology",
   "metadata": {},
   "outputs": [
    {
     "data": {
      "text/plain": [
       "(7.381970803570442, 0.0008534494330664777)"
      ]
     },
     "execution_count": 28,
     "metadata": {},
     "output_type": "execute_result"
    }
   ],
   "source": [
    "margin.max(), margin.min()"
   ]
  },
  {
   "cell_type": "code",
   "execution_count": 29,
   "id": "occasional-thanksgiving",
   "metadata": {},
   "outputs": [
    {
     "name": "stdout",
     "output_type": "stream",
     "text": [
      "              precision    recall  f1-score   support\n",
      "\n",
      "        GJOB       1.00      1.00      1.00        15\n",
      "        GPOL       1.00      1.00      1.00        66\n",
      "        GSPO       1.00      1.00      1.00         6\n",
      "        GVIO       1.00      1.00      1.00         9\n",
      "\n",
      "    accuracy                           1.00        96\n",
      "   macro avg       1.00      1.00      1.00        96\n",
      "weighted avg       1.00      1.00      1.00        96\n",
      "\n"
     ]
    }
   ],
   "source": [
    "print(classification_report(test[\"topics\"][margin > 5], predicted[margin > 5]))"
   ]
  },
  {
   "cell_type": "code",
   "execution_count": 30,
   "id": "standard-chosen",
   "metadata": {},
   "outputs": [],
   "source": [
    "import matplotlib.pyplot as plt"
   ]
  },
  {
   "cell_type": "code",
   "execution_count": 31,
   "id": "compact-typing",
   "metadata": {},
   "outputs": [
    {
     "data": {
      "text/plain": [
       "Text(0, 0.5, 'F1')"
      ]
     },
     "execution_count": 31,
     "metadata": {},
     "output_type": "execute_result"
    },
    {
     "data": {
      "image/png": "[encoded data removed]",
      "text/plain": [
       "<Figure size 432x288 with 1 Axes>"
      ]
     },
     "metadata": {
      "needs_background": "light"
     },
     "output_type": "display_data"
    }
   ],
   "source": [
    "thresh = np.linspace(-2, 3, 50)\n",
    "x = [100*(1-sum(margin > t)/len(margin)) for t in thresh]\n",
    "y = [f1_score(test[\"topics\"][margin > t], predicted[margin > t], average=\"macro\") for t in thresh]\n",
    "plt.plot(x, y)\n",
    "plt.xlabel('% Unknowns')\n",
    "plt.ylabel('F1')"
   ]
  },
  {
   "cell_type": "code",
   "execution_count": 32,
   "id": "incident-judges",
   "metadata": {},
   "outputs": [
    {
     "name": "stdout",
     "output_type": "stream",
     "text": [
      "              precision    recall  f1-score   support\n",
      "\n",
      "        GJOB       1.00      0.99      0.99       425\n",
      "        GPOL       0.99      0.99      0.99      1432\n",
      "        GSPO       1.00      1.00      1.00      1300\n",
      "        GVIO       0.98      0.98      0.98       621\n",
      "\n",
      "    accuracy                           0.99      3778\n",
      "   macro avg       0.99      0.99      0.99      3778\n",
      "weighted avg       0.99      0.99      0.99      3778\n",
      "\n"
     ]
    }
   ],
   "source": [
    "print(classification_report(test[\"topics\"][margin > 1.75], predicted[margin > 1.75]))"
   ]
  },
  {
   "cell_type": "markdown",
   "id": "moving-bikini",
   "metadata": {},
   "source": [
    "**TO DO:** Summarize your results for this section. What could we do if we wanted to make label as many examples as possible while still keeping F1 above 0.99?\n",
    "\n",
    "To keep F1 above 0.99, we have to set a thredsold for marginal values. If the margin are too high like 5, the number of examples decreases. But if we lower the number of margin to 1.75, the number of example increases and the F1 score is still 0.99. Therefore, picking the right number for the margin is important in keeping F1 value above 0.99."
   ]
  },
  {
   "cell_type": "markdown",
   "id": "improved-sampling",
   "metadata": {},
   "source": [
    "---\n",
    "\n",
    "## Model parameters"
   ]
  },
  {
   "cell_type": "code",
   "execution_count": 33,
   "id": "worst-international",
   "metadata": {},
   "outputs": [
    {
     "data": {
      "text/plain": [
       "(array(['GJOB', 'GPOL', 'GSPO', 'GVIO'], dtype='<U4'),\n",
       " array([[-0.23477751, -0.01556053,  0.13783922, ...,  0.        ,\n",
       "         -0.00336951,  0.        ],\n",
       "        [ 0.32468686, -0.11800598, -0.02935398, ...,  0.        ,\n",
       "          0.        ,  0.00838734],\n",
       "        [ 0.0923675 ,  0.05184851,  0.03306444, ...,  0.        ,\n",
       "          0.        ,  0.        ],\n",
       "        [-0.31918147,  0.        ,  0.0422544 , ...,  0.        ,\n",
       "          0.        , -0.01313696]]))"
      ]
     },
     "execution_count": 33,
     "metadata": {},
     "output_type": "execute_result"
    }
   ],
   "source": [
    "coef = sgd.named_steps['sgdclassifier'].coef_\n",
    "labels, coef"
   ]
  },
  {
   "cell_type": "code",
   "execution_count": 34,
   "id": "valued-million",
   "metadata": {},
   "outputs": [
    {
     "data": {
      "text/plain": [
       "(4, 27939)"
      ]
     },
     "execution_count": 34,
     "metadata": {},
     "output_type": "execute_result"
    }
   ],
   "source": [
    "coef.shape"
   ]
  },
  {
   "cell_type": "code",
   "execution_count": 35,
   "id": "finnish-companion",
   "metadata": {},
   "outputs": [],
   "source": [
    "vocab = sgd.named_steps['countvectorizer'].get_feature_names()"
   ]
  },
  {
   "cell_type": "code",
   "execution_count": 36,
   "id": "written-strain",
   "metadata": {},
   "outputs": [
    {
     "data": {
      "text/plain": [
       "13100"
      ]
     },
     "execution_count": 36,
     "metadata": {},
     "output_type": "execute_result"
    }
   ],
   "source": [
    "coef[0,:].argmax()"
   ]
  },
  {
   "cell_type": "code",
   "execution_count": 37,
   "id": "featured-pricing",
   "metadata": {},
   "outputs": [
    {
     "data": {
      "text/plain": [
       "4.516117687624112"
      ]
     },
     "execution_count": 37,
     "metadata": {},
     "output_type": "execute_result"
    }
   ],
   "source": [
    "coef[0,13100]"
   ]
  },
  {
   "cell_type": "code",
   "execution_count": 38,
   "id": "competent-folks",
   "metadata": {},
   "outputs": [
    {
     "data": {
      "text/plain": [
       "'jobs'"
      ]
     },
     "execution_count": 38,
     "metadata": {},
     "output_type": "execute_result"
    }
   ],
   "source": [
    "vocab[13100]"
   ]
  },
  {
   "cell_type": "code",
   "execution_count": 39,
   "id": "limited-actor",
   "metadata": {},
   "outputs": [
    {
     "name": "stdout",
     "output_type": "stream",
     "text": [
      "GJOB\n",
      "  jobs             4.516\n",
      "  strike           4.304\n",
      "  employees        3.870\n",
      "  workers          3.704\n",
      "  unemployment     3.666\n",
      "  company          2.758\n",
      "  union            2.647\n",
      "  unions           2.552\n",
      "  wages            2.444\n",
      "  wage             2.410\n",
      "  welfare         -0.992\n",
      "  political       -1.041\n",
      "  parliament      -1.050\n",
      "  war             -1.076\n",
      "  clinton         -1.095\n",
      "  spending        -1.113\n",
      "  tax             -1.201\n",
      "  security        -1.291\n",
      "  budget          -1.373\n",
      "  election        -1.756\n",
      "\n",
      "GPOL\n",
      "  election         3.743\n",
      "  party            3.145\n",
      "  elections        2.959\n",
      "  parliament       2.798\n",
      "  minister         2.773\n",
      "  president        2.594\n",
      "  vote             2.448\n",
      "  budget           2.170\n",
      "  clinton          2.077\n",
      "  yeltsin          1.929\n",
      "  company         -2.186\n",
      "  rebels          -2.187\n",
      "  bombing         -2.238\n",
      "  strike          -2.487\n",
      "  unions          -2.566\n",
      "  employees       -2.591\n",
      "  soccer          -2.665\n",
      "  protest         -2.980\n",
      "  workers         -3.184\n",
      "  unemployment    -3.287\n",
      "\n",
      "GSPO\n",
      "  soccer           3.934\n",
      "  club             2.360\n",
      "  match            2.332\n",
      "  cup              2.301\n",
      "  olympic          2.161\n",
      "  league           1.982\n",
      "  racing           1.899\n",
      "  cricket          1.858\n",
      "  games            1.853\n",
      "  team             1.808\n",
      "  company         -1.077\n",
      "  election        -1.126\n",
      "  state           -1.136\n",
      "  labor           -1.215\n",
      "  president       -1.242\n",
      "  government      -1.305\n",
      "  percent         -1.307\n",
      "  party           -1.368\n",
      "  newsroom        -1.379\n",
      "  clinton         -1.396\n",
      "\n",
      "GVIO\n",
      "  rebels           2.618\n",
      "  bombing          2.608\n",
      "  bomb             2.561\n",
      "  troops           2.325\n",
      "  peace            2.292\n",
      "  protest          2.176\n",
      "  zaire            2.148\n",
      "  attack           2.107\n",
      "  killed           2.099\n",
      "  police           2.072\n",
      "  president       -1.236\n",
      "  his             -1.334\n",
      "  fans            -1.381\n",
      "  soccer          -1.461\n",
      "  party           -1.468\n",
      "  minister        -1.488\n",
      "  parliament      -1.590\n",
      "  vote            -2.052\n",
      "  strike          -2.065\n",
      "  election        -2.066\n",
      "\n"
     ]
    }
   ],
   "source": [
    "ranked = np.argsort(coef, axis=1)\n",
    "for i, label in enumerate(labels):\n",
    "    print(label)\n",
    "    for j in concat([range(-1, -11, -1), range(10, 0, -1)]):\n",
    "        print(f'  {vocab[ranked[i,j]]:15s} {coef[i, ranked[i,j]]:6.3f}')\n",
    "    print()"
   ]
  },
  {
   "cell_type": "code",
   "execution_count": 40,
   "id": "prompt-reservation",
   "metadata": {},
   "outputs": [],
   "source": [
    "from kwic import kwic"
   ]
  },
  {
   "cell_type": "code",
   "execution_count": 41,
   "id": "joined-culture",
   "metadata": {},
   "outputs": [
    {
     "data": {
      "text/html": [
       "<table><tr><td>4</td>                      <td style=\"text-align:right;white-space:nowrap\">l Amendment would appear on the state ballot next year. ((-- San Francisco </td>                      <td style=\"text-align:center;white-space:nowrap\">newsroom</td>                      <td style=\"text-align:left;white-space:nowrap\">, 415-677-2511))                                                           </td></tr><tr><td>5</td>                      <td style=\"text-align:right;white-space:nowrap\">be called but it need not necessarily result in a work stoppage. -- Warsaw </td>                      <td style=\"text-align:center;white-space:nowrap\">Newsroom</td>                      <td style=\"text-align:left;white-space:nowrap\"> +48 22 653 9700                                                           </td></tr><tr><td>14</td>                      <td style=\"text-align:right;white-space:nowrap\">0 tonnes) and wheat ship (9,125 tonnes) --Caroline Bulloch, Rio de Janeiro </td>                      <td style=\"text-align:center;white-space:nowrap\">newsroom</td>                      <td style=\"text-align:left;white-space:nowrap\">, 5521 5074151                                                             </td></tr><tr><td>15</td>                      <td style=\"text-align:right;white-space:nowrap\"> the top tax rate and proposed taxes on night- and holiday shifts. -- Bonn </td>                      <td style=\"text-align:center;white-space:nowrap\">newsroom</td>                      <td style=\"text-align:left;white-space:nowrap\">, 49-228-26097150                                                          </td></tr><tr><td>21</td>                      <td style=\"text-align:right;white-space:nowrap\">t had so far sought to put the new law into effect. --Mark John, Frankfurt </td>                      <td style=\"text-align:center;white-space:nowrap\">Newsroom</td>                      <td style=\"text-align:left;white-space:nowrap\"> +49 69 756525                                                             </td></tr><tr><td>37</td>                      <td style=\"text-align:right;white-space:nowrap\">p of the conservative New Democracy party. --Dimitris Kontogiannis, Athens </td>                      <td style=\"text-align:center;white-space:nowrap\">Newsroom</td>                      <td style=\"text-align:left;white-space:nowrap\"> +301 3311812-4                                                            </td></tr><tr><td>52</td>                      <td style=\"text-align:right;white-space:nowrap\"> saying they would vote compared to 64.6 percent of CSSD voters. -- Prague </td>                      <td style=\"text-align:center;white-space:nowrap\">Newsroom</td>                      <td style=\"text-align:left;white-space:nowrap\"> 42-2-2423-0003                                                            </td></tr><tr><td>56</td>                      <td style=\"text-align:right;white-space:nowrap\">nment and a widepread perception that bureaucrats were corrupt. -- Vilnius </td>                      <td style=\"text-align:center;white-space:nowrap\">newsroom</td>                      <td style=\"text-align:left;white-space:nowrap\">, +370 2 22 35 17                                                          </td></tr><tr><td>76</td>                      <td style=\"text-align:right;white-space:nowrap\">on on the person likely to replace Malakis. --George Georgiopoulos, Athens </td>                      <td style=\"text-align:center;white-space:nowrap\">Newsroom</td>                      <td style=\"text-align:left;white-space:nowrap\"> +301 3311812-4                                                            </td></tr><tr><td>83</td>                      <td style=\"text-align:right;white-space:nowrap\"> A promise without a cost is nearly always a lie.\" -- Mike Peacock, London </td>                      <td style=\"text-align:center;white-space:nowrap\">Newsroom</td>                      <td style=\"text-align:left;white-space:nowrap\"> +44 171 542 5109                                                          </td></tr></table>"
      ],
      "text/plain": [
       "<IPython.core.display.HTML object>"
      ]
     },
     "metadata": {},
     "output_type": "display_data"
    }
   ],
   "source": [
    "kwic('newsroom', train['text'])"
   ]
  },
  {
   "cell_type": "code",
   "execution_count": 42,
   "id": "fancy-calculation",
   "metadata": {},
   "outputs": [
    {
     "data": {
      "text/html": [
       "<table><tr><td>32</td>                      <td style=\"text-align:right;white-space:nowrap\">rebels assure mining firms of continuity. Rebels on the advance in eastern </td>                      <td style=\"text-align:center;white-space:nowrap\">Zaire</td>                      <td style=\"text-align:left;white-space:nowrap\"> will leave mining concessions untouched in the areas they control, provide</td></tr><tr><td>33</td>                      <td style=\"text-align:right;white-space:nowrap\">                                                   Kabila, Mobutu agree to </td>                      <td style=\"text-align:center;white-space:nowrap\">Zaire</td>                      <td style=\"text-align:left;white-space:nowrap\"> talks Wednesday - UN. Zaire's beleaguered president Mobutu Sese Seko and r</td></tr><tr><td>33</td>                      <td style=\"text-align:right;white-space:nowrap\">                       Kabila, Mobutu agree to Zaire talks Wednesday - UN. </td>                      <td style=\"text-align:center;white-space:nowrap\">Zaire</td>                      <td style=\"text-align:left;white-space:nowrap\">'s beleaguered president Mobutu Sese Seko and rebel leader Laurent Kabila h</td></tr><tr><td>33</td>                      <td style=\"text-align:right;white-space:nowrap\">rt of a South African attempt to mediate a peaceful transition of power in </td>                      <td style=\"text-align:center;white-space:nowrap\">Zaire</td>                      <td style=\"text-align:left;white-space:nowrap\">. Kabila's rebels now control three quarters of the country and Mobutu has </td></tr><tr><td>38</td>                      <td style=\"text-align:right;white-space:nowrap\">ops who were trapped at the airport and had threatening to rain rockets on </td>                      <td style=\"text-align:center;white-space:nowrap\">Zaire</td>                      <td style=\"text-align:left;white-space:nowrap\">'s second city. A day after the rebel takeover, residents looted army premi</td></tr><tr><td>38</td>                      <td style=\"text-align:right;white-space:nowrap\"> in on from all sides. Disciplined columns of Kabila's forces marched into </td>                      <td style=\"text-align:center;white-space:nowrap\">Zaire</td>                      <td style=\"text-align:left;white-space:nowrap\">'s copper capital and economic powerhouse on Wednesday morning. The army la</td></tr><tr><td>86</td>                      <td style=\"text-align:right;white-space:nowrap\">                                                          S.Africa to host </td>                      <td style=\"text-align:center;white-space:nowrap\">Zaire</td>                      <td style=\"text-align:left;white-space:nowrap\"> government, rebels for talks. Zaire's warring sides have asked President N</td></tr><tr><td>86</td>                      <td style=\"text-align:right;white-space:nowrap\">                      S.Africa to host Zaire government, rebels for talks. </td>                      <td style=\"text-align:center;white-space:nowrap\">Zaire</td>                      <td style=\"text-align:left;white-space:nowrap\">'s warring sides have asked President Nelson Mandela of South Africa to hos</td></tr><tr><td>86</td>                      <td style=\"text-align:right;white-space:nowrap\">s,\" Mandela said. He said South Africa would send air transport to pick up </td>                      <td style=\"text-align:center;white-space:nowrap\">Zaire</td>                      <td style=\"text-align:left;white-space:nowrap\">'s rebel leader Laurent Kabila from Kigali in Rwanda and that he hoped the </td></tr><tr><td>86</td>                      <td style=\"text-align:right;white-space:nowrap\">s in Cape Town with regional leaders on how to defuse growing conflicts in </td>                      <td style=\"text-align:center;white-space:nowrap\">Zaire</td>                      <td style=\"text-align:left;white-space:nowrap\"> and in southern Africa. Fighting in Zaire has intensified, with ailing Pre</td></tr></table>"
      ],
      "text/plain": [
       "<IPython.core.display.HTML object>"
      ]
     },
     "metadata": {},
     "output_type": "display_data"
    }
   ],
   "source": [
    "kwic('zaire', train['text'])"
   ]
  },
  {
   "cell_type": "markdown",
   "id": "atomic-sample",
   "metadata": {},
   "source": [
    "**TO DO:** What can you conclude about the model from looking at the coefficients? Is there evidence of overfitting? How could we improve the results?\n",
    "\n",
    "The model has a similar amount of positive and negative coefficient which would balance the predicted values. There are some words that don't belong to the topic which would caused overfitting like soccer in GVIO, security in GJOB, etc. However, these words have a negative indicator which would be subtracted from the predicted value. To improve the model, we could eleminate the words that don't belong to the topic to decrease the overfitting problem. "
   ]
  },
  {
   "cell_type": "code",
   "execution_count": null,
   "id": "positive-orlando",
   "metadata": {},
   "outputs": [],
   "source": []
  }
 ],
 "metadata": {
  "kernelspec": {
   "display_name": "Python 3",
   "language": "python",
   "name": "python3"
  },
  "language_info": {
   "codemirror_mode": {
    "name": "ipython",
    "version": 3
   },
   "file_extension": ".py",
   "mimetype": "text/x-python",
   "name": "python",
   "nbconvert_exporter": "python",
   "pygments_lexer": "ipython3",
   "version": "3.8.6"
  }
 },
 "nbformat": 4,
 "nbformat_minor": 5
}
