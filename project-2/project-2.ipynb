{
 "cells": [
  {
   "cell_type": "markdown",
   "id": "paperback-switch",
   "metadata": {},
   "source": [
    "# PROJECT 2: What kind of wine is this?\n",
    "\n",
    "### Deliverables\n",
    "1. Using the data available at `s3://ling583/wine-train.parquet` and `s3://ling583/wine-test.parquet`, construct a classifier that can predict wine variety labels on the basis of review texts. Try out different methods and see what works best. Evaluate your best model using the test data.\n",
    "\n",
    "2. Find the words that your model is using to predict labels (either by looking at the model coefficients or by using a tool like LIME). What aspects of review texts is your model most sensitive to? Is there evidence of overfitting?\n",
    "\n",
    "3. For Reuters texts, we found we could greatly increase the F1 score/accuracy by excluding items that that the model was most uncertain about. How many test examples would we have to exclude to achieve better than 0.85 F1 for this task?\n",
    "\n",
    "4. Another way to improve accuracy is to change the labels. Use a confusion matrix to examine the patterns errors and propose a new labeling scheme. For example, if the model consistently labels “merlot” as “riesling” and vice versa, you might want to create a new label “merlot/riesling”. Is it possible to get better than 0.85 F1 using your classifier trained on a different set of labels?"
   ]
  },
  {
   "cell_type": "code",
   "execution_count": 1,
   "id": "charitable-explosion",
   "metadata": {},
   "outputs": [],
   "source": [
    "import numpy as np\n",
    "import pandas as pd\n",
    "from cytoolz import *\n",
    "from tqdm.auto import tqdm \n",
    "\n",
    "tqdm.pandas()"
   ]
  },
  {
   "cell_type": "markdown",
   "id": "opposed-florida",
   "metadata": {},
   "source": [
    "## 1. Contruct a classifier to predict win variety labels \n",
    "### Load and preprocess data"
   ]
  },
  {
   "cell_type": "code",
   "execution_count": 291,
   "id": "certain-nicaragua",
   "metadata": {},
   "outputs": [],
   "source": [
    "train = pd.read_parquet(\n",
    "    \"s3://ling583/wine-train.parquet\", storage_options={\"anon\": True}\n",
    ")\n",
    "test = pd.read_parquet(\n",
    "    \"s3://ling583/wine-test.parquet\", storage_options={\"anon\": True}\n",
    ")"
   ]
  },
  {
   "cell_type": "code",
   "execution_count": 3,
   "id": "detailed-roman",
   "metadata": {},
   "outputs": [
    {
     "data": {
      "text/html": [
       "<div>\n",
       "<style scoped>\n",
       "    .dataframe tbody tr th:only-of-type {\n",
       "        vertical-align: middle;\n",
       "    }\n",
       "\n",
       "    .dataframe tbody tr th {\n",
       "        vertical-align: top;\n",
       "    }\n",
       "\n",
       "    .dataframe thead th {\n",
       "        text-align: right;\n",
       "    }\n",
       "</style>\n",
       "<table border=\"1\" class=\"dataframe\">\n",
       "  <thead>\n",
       "    <tr style=\"text-align: right;\">\n",
       "      <th></th>\n",
       "      <th>review_text</th>\n",
       "      <th>wine_variant</th>\n",
       "    </tr>\n",
       "  </thead>\n",
       "  <tbody>\n",
       "    <tr>\n",
       "      <th>0</th>\n",
       "      <td>Rich smoky dark cherry nose very intense fruit...</td>\n",
       "      <td>Pinot Noir</td>\n",
       "    </tr>\n",
       "    <tr>\n",
       "      <th>1</th>\n",
       "      <td>Had this at Corton Restaurant in NYC. First of...</td>\n",
       "      <td>Syrah</td>\n",
       "    </tr>\n",
       "    <tr>\n",
       "      <th>2</th>\n",
       "      <td>Nose is very tart, with a layer of sweet fruit...</td>\n",
       "      <td>Pinot Noir</td>\n",
       "    </tr>\n",
       "    <tr>\n",
       "      <th>3</th>\n",
       "      <td>Beautiful golden color. Discrete perfumed nose...</td>\n",
       "      <td>Chardonnay</td>\n",
       "    </tr>\n",
       "    <tr>\n",
       "      <th>4</th>\n",
       "      <td>Please take the time to decant: you will not b...</td>\n",
       "      <td>Pinot Noir</td>\n",
       "    </tr>\n",
       "  </tbody>\n",
       "</table>\n",
       "</div>"
      ],
      "text/plain": [
       "                                         review_text wine_variant\n",
       "0  Rich smoky dark cherry nose very intense fruit...   Pinot Noir\n",
       "1  Had this at Corton Restaurant in NYC. First of...        Syrah\n",
       "2  Nose is very tart, with a layer of sweet fruit...   Pinot Noir\n",
       "3  Beautiful golden color. Discrete perfumed nose...   Chardonnay\n",
       "4  Please take the time to decant: you will not b...   Pinot Noir"
      ]
     },
     "execution_count": 3,
     "metadata": {},
     "output_type": "execute_result"
    }
   ],
   "source": [
    "# View a first few observations\n",
    "train.head()"
   ]
  },
  {
   "cell_type": "code",
   "execution_count": 4,
   "id": "hungry-tunnel",
   "metadata": {},
   "outputs": [
    {
     "data": {
      "text/html": [
       "<div>\n",
       "<style scoped>\n",
       "    .dataframe tbody tr th:only-of-type {\n",
       "        vertical-align: middle;\n",
       "    }\n",
       "\n",
       "    .dataframe tbody tr th {\n",
       "        vertical-align: top;\n",
       "    }\n",
       "\n",
       "    .dataframe thead th {\n",
       "        text-align: right;\n",
       "    }\n",
       "</style>\n",
       "<table border=\"1\" class=\"dataframe\">\n",
       "  <thead>\n",
       "    <tr style=\"text-align: right;\">\n",
       "      <th></th>\n",
       "      <th>review_text</th>\n",
       "      <th>wine_variant</th>\n",
       "    </tr>\n",
       "  </thead>\n",
       "  <tbody>\n",
       "    <tr>\n",
       "      <th>0</th>\n",
       "      <td>hmmm. i have mixed emotions about this wine. o...</td>\n",
       "      <td>Chardonnay</td>\n",
       "    </tr>\n",
       "    <tr>\n",
       "      <th>1</th>\n",
       "      <td>You can find several dozen SB Syrahs that have...</td>\n",
       "      <td>Syrah</td>\n",
       "    </tr>\n",
       "    <tr>\n",
       "      <th>2</th>\n",
       "      <td>It has a nice even red finish and remote cherr...</td>\n",
       "      <td>Pinot Noir</td>\n",
       "    </tr>\n",
       "    <tr>\n",
       "      <th>3</th>\n",
       "      <td>WIML91  Tasted October 6, 2009.  Opened and se...</td>\n",
       "      <td>Pinot Noir</td>\n",
       "    </tr>\n",
       "    <tr>\n",
       "      <th>4</th>\n",
       "      <td>My last bottle with the super bowl. Sipped wit...</td>\n",
       "      <td>Zinfandel</td>\n",
       "    </tr>\n",
       "  </tbody>\n",
       "</table>\n",
       "</div>"
      ],
      "text/plain": [
       "                                         review_text wine_variant\n",
       "0  hmmm. i have mixed emotions about this wine. o...   Chardonnay\n",
       "1  You can find several dozen SB Syrahs that have...        Syrah\n",
       "2  It has a nice even red finish and remote cherr...   Pinot Noir\n",
       "3  WIML91  Tasted October 6, 2009.  Opened and se...   Pinot Noir\n",
       "4  My last bottle with the super bowl. Sipped wit...    Zinfandel"
      ]
     },
     "execution_count": 4,
     "metadata": {},
     "output_type": "execute_result"
    }
   ],
   "source": [
    "test.head()"
   ]
  },
  {
   "cell_type": "code",
   "execution_count": 5,
   "id": "excited-gibraltar",
   "metadata": {},
   "outputs": [
    {
     "data": {
      "text/plain": [
       "130497"
      ]
     },
     "execution_count": 5,
     "metadata": {},
     "output_type": "execute_result"
    }
   ],
   "source": [
    "len(train)"
   ]
  },
  {
   "cell_type": "code",
   "execution_count": 6,
   "id": "municipal-trial",
   "metadata": {},
   "outputs": [
    {
     "data": {
      "text/plain": [
       "32625"
      ]
     },
     "execution_count": 6,
     "metadata": {},
     "output_type": "execute_result"
    }
   ],
   "source": [
    "len(test)"
   ]
  },
  {
   "cell_type": "markdown",
   "id": "compressed-revolution",
   "metadata": {},
   "source": [
    "##### Tokenize review text"
   ]
  },
  {
   "cell_type": "code",
   "execution_count": 7,
   "id": "planned-xerox",
   "metadata": {},
   "outputs": [],
   "source": [
    "import spacy\n",
    "\n",
    "nlp = spacy.load(\n",
    "    \"en_core_web_sm\",\n",
    "    exclude=[\"tagger\", \"parser\", \"ner\", \"lemmatizer\", \"attribute_ruler\"],\n",
    ")"
   ]
  },
  {
   "cell_type": "code",
   "execution_count": 253,
   "id": "dangerous-guest",
   "metadata": {},
   "outputs": [],
   "source": [
    "def tokenize(text):\n",
    "    doc = nlp.tokenizer(text)\n",
    "    return [t.norm_ for t in doc if t.is_alpha]"
   ]
  },
  {
   "cell_type": "code",
   "execution_count": 292,
   "id": "constitutional-price",
   "metadata": {},
   "outputs": [
    {
     "data": {
      "application/vnd.jupyter.widget-view+json": {
       "model_id": "69b3ba64fcff4dc9b6e5cccd7a2d88a5",
       "version_major": 2,
       "version_minor": 0
      },
      "text/plain": [
       "  0%|          | 0/130497 [00:00<?, ?it/s]"
      ]
     },
     "metadata": {},
     "output_type": "display_data"
    },
    {
     "data": {
      "application/vnd.jupyter.widget-view+json": {
       "model_id": "89429390fdb547eb91d7543592a58886",
       "version_major": 2,
       "version_minor": 0
      },
      "text/plain": [
       "  0%|          | 0/32625 [00:00<?, ?it/s]"
      ]
     },
     "metadata": {},
     "output_type": "display_data"
    }
   ],
   "source": [
    "train[\"tokens\"] = train[\"review_text\"].progress_apply(tokenize)\n",
    "test[\"tokens\"] = test[\"review_text\"].progress_apply(tokenize)"
   ]
  },
  {
   "cell_type": "code",
   "execution_count": 226,
   "id": "thousand-tissue",
   "metadata": {},
   "outputs": [
    {
     "data": {
      "text/plain": [
       "Pinot Noir            38471\n",
       "Cabernet Sauvignon    30234\n",
       "Chardonnay            19443\n",
       "Syrah                 13704\n",
       "Riesling               9683\n",
       "Zinfandel              8327\n",
       "Merlot                 5522\n",
       "Sauvignon Blanc        5113\n",
       "Name: wine_variant, dtype: int64"
      ]
     },
     "execution_count": 226,
     "metadata": {},
     "output_type": "execute_result"
    }
   ],
   "source": [
    "train[\"wine_variant\"].value_counts()"
   ]
  },
  {
   "cell_type": "markdown",
   "id": "japanese-trademark",
   "metadata": {},
   "source": [
    "---\n",
    "\n",
    "### Baseline Dummy Classifier "
   ]
  },
  {
   "cell_type": "code",
   "execution_count": 11,
   "id": "romance-projector",
   "metadata": {},
   "outputs": [],
   "source": [
    "# load all necessary modules\n",
    "from sklearn.dummy import DummyClassifier\n",
    "from sklearn.metrics import classification_report, f1_score\n",
    "from sklearn.model_selection import StratifiedKFold, cross_val_predict, cross_val_score"
   ]
  },
  {
   "cell_type": "code",
   "execution_count": 12,
   "id": "considerable-scheduling",
   "metadata": {},
   "outputs": [],
   "source": [
    "cv = StratifiedKFold(n_splits=5, shuffle=True, random_state=5432) # 5-fold cross validation method "
   ]
  },
  {
   "cell_type": "code",
   "execution_count": 13,
   "id": "quantitative-hanging",
   "metadata": {},
   "outputs": [
    {
     "data": {
      "text/plain": [
       "array([0.29482759, 0.29478927, 0.29480057, 0.29480057, 0.29480057])"
      ]
     },
     "execution_count": 13,
     "metadata": {},
     "output_type": "execute_result"
    }
   ],
   "source": [
    "baseline = DummyClassifier()\n",
    "cross_val_score(baseline, train[\"tokens\"], train[\"wine_variant\"], cv=cv) # accuracy "
   ]
  },
  {
   "cell_type": "code",
   "execution_count": 14,
   "id": "stainless-evolution",
   "metadata": {},
   "outputs": [
    {
     "name": "stderr",
     "output_type": "stream",
     "text": [
      "/opt/conda/lib/python3.8/site-packages/sklearn/metrics/_classification.py:1245: UndefinedMetricWarning: Precision and F-score are ill-defined and being set to 0.0 in labels with no predicted samples. Use `zero_division` parameter to control this behavior.\n",
      "  _warn_prf(average, modifier, msg_start, len(result))\n",
      "/opt/conda/lib/python3.8/site-packages/sklearn/metrics/_classification.py:1245: UndefinedMetricWarning: Precision and F-score are ill-defined and being set to 0.0 in labels with no predicted samples. Use `zero_division` parameter to control this behavior.\n",
      "  _warn_prf(average, modifier, msg_start, len(result))\n"
     ]
    },
    {
     "name": "stdout",
     "output_type": "stream",
     "text": [
      "                    precision    recall  f1-score   support\n",
      "\n",
      "Cabernet Sauvignon       0.00      0.00      0.00     30234\n",
      "        Chardonnay       0.00      0.00      0.00     19443\n",
      "            Merlot       0.00      0.00      0.00      5522\n",
      "        Pinot Noir       0.29      1.00      0.46     38471\n",
      "          Riesling       0.00      0.00      0.00      9683\n",
      "   Sauvignon Blanc       0.00      0.00      0.00      5113\n",
      "             Syrah       0.00      0.00      0.00     13704\n",
      "         Zinfandel       0.00      0.00      0.00      8327\n",
      "\n",
      "          accuracy                           0.29    130497\n",
      "         macro avg       0.04      0.12      0.06    130497\n",
      "      weighted avg       0.09      0.29      0.13    130497\n",
      "\n"
     ]
    },
    {
     "name": "stderr",
     "output_type": "stream",
     "text": [
      "/opt/conda/lib/python3.8/site-packages/sklearn/metrics/_classification.py:1245: UndefinedMetricWarning: Precision and F-score are ill-defined and being set to 0.0 in labels with no predicted samples. Use `zero_division` parameter to control this behavior.\n",
      "  _warn_prf(average, modifier, msg_start, len(result))\n"
     ]
    }
   ],
   "source": [
    "predicted = cross_val_predict(baseline, train[\"tokens\"], train[\"wine_variant\"], cv=cv)\n",
    "print(classification_report(train[\"wine_variant\"], predicted))"
   ]
  },
  {
   "cell_type": "markdown",
   "id": "appreciated-organ",
   "metadata": {},
   "source": [
    "Using the dummy classifier, the model doesn't look really good. It has an F1 accuracy score of 0.29 and a marco average of all the factors of 0.06, which is really low. We need to try a different model. \n",
    "\n",
    "--- \n",
    "\n",
    "### Bernoulli Naive Bayes"
   ]
  },
  {
   "cell_type": "code",
   "execution_count": 15,
   "id": "underlying-discovery",
   "metadata": {},
   "outputs": [],
   "source": [
    "from sklearn.feature_extraction.text import CountVectorizer\n",
    "from sklearn.naive_bayes import BernoulliNB\n",
    "from sklearn.pipeline import make_pipeline"
   ]
  },
  {
   "cell_type": "code",
   "execution_count": 16,
   "id": "composite-taiwan",
   "metadata": {},
   "outputs": [],
   "source": [
    "# set up pipeline \n",
    "bnb = make_pipeline(CountVectorizer(analyzer=identity), BernoulliNB())"
   ]
  },
  {
   "cell_type": "code",
   "execution_count": 17,
   "id": "smaller-panel",
   "metadata": {},
   "outputs": [
    {
     "name": "stdout",
     "output_type": "stream",
     "text": [
      "                    precision    recall  f1-score   support\n",
      "\n",
      "Cabernet Sauvignon       0.60      0.84      0.70     30234\n",
      "        Chardonnay       0.72      0.89      0.79     19443\n",
      "            Merlot       0.70      0.03      0.05      5522\n",
      "        Pinot Noir       0.75      0.85      0.80     38471\n",
      "          Riesling       0.89      0.62      0.73      9683\n",
      "   Sauvignon Blanc       0.93      0.37      0.54      5113\n",
      "             Syrah       0.73      0.43      0.54     13704\n",
      "         Zinfandel       0.86      0.39      0.53      8327\n",
      "\n",
      "          accuracy                           0.71    130497\n",
      "         macro avg       0.77      0.55      0.59    130497\n",
      "      weighted avg       0.73      0.71      0.68    130497\n",
      "\n"
     ]
    }
   ],
   "source": [
    "predicted = cross_val_predict(bnb, train[\"tokens\"], train[\"wine_variant\"], cv=cv, n_jobs=-1)\n",
    "print(classification_report(train[\"wine_variant\"], predicted))"
   ]
  },
  {
   "cell_type": "markdown",
   "id": "personalized-condition",
   "metadata": {},
   "source": [
    "This method Bernoulli Naive Bayes seems to have better fit results compared to dummay classifier. With a macro average score of F1 of .59, the model has a really balance score between each factor. However, let's try different models to see if we can find better ones.\n",
    "\n",
    "---\n",
    "\n",
    "### Multinomial Naive Bayes"
   ]
  },
  {
   "cell_type": "code",
   "execution_count": 18,
   "id": "level-relaxation",
   "metadata": {},
   "outputs": [],
   "source": [
    "from sklearn.feature_extraction.text import CountVectorizer\n",
    "from sklearn.naive_bayes import MultinomialNB\n",
    "from sklearn.pipeline import make_pipeline\n",
    "from sklearn.dummy import DummyClassifier\n",
    "from sklearn.metrics import classification_report, f1_score\n",
    "from sklearn.model_selection import StratifiedKFold, cross_val_predict, cross_val_score"
   ]
  },
  {
   "cell_type": "code",
   "execution_count": 19,
   "id": "romantic-swimming",
   "metadata": {},
   "outputs": [],
   "source": [
    "# set up pipeline for multinomial naive bayes \n",
    "mnb = make_pipeline(CountVectorizer(analyzer=identity), MultinomialNB())"
   ]
  },
  {
   "cell_type": "code",
   "execution_count": 20,
   "id": "structured-relation",
   "metadata": {},
   "outputs": [],
   "source": [
    "cv = StratifiedKFold(n_splits=5, shuffle=True, random_state=5432)"
   ]
  },
  {
   "cell_type": "code",
   "execution_count": 21,
   "id": "several-probe",
   "metadata": {},
   "outputs": [
    {
     "name": "stdout",
     "output_type": "stream",
     "text": [
      "                    precision    recall  f1-score   support\n",
      "\n",
      "Cabernet Sauvignon       0.61      0.85      0.71     30234\n",
      "        Chardonnay       0.80      0.86      0.83     19443\n",
      "            Merlot       0.82      0.08      0.14      5522\n",
      "        Pinot Noir       0.76      0.85      0.80     38471\n",
      "          Riesling       0.85      0.72      0.78      9683\n",
      "   Sauvignon Blanc       0.90      0.48      0.63      5113\n",
      "             Syrah       0.72      0.48      0.58     13704\n",
      "         Zinfandel       0.83      0.43      0.57      8327\n",
      "\n",
      "          accuracy                           0.73    130497\n",
      "         macro avg       0.79      0.59      0.63    130497\n",
      "      weighted avg       0.75      0.73      0.71    130497\n",
      "\n"
     ]
    }
   ],
   "source": [
    "predicted = cross_val_predict(mnb, train[\"tokens\"], train[\"wine_variant\"], cv=cv, n_jobs=-1)\n",
    "print(classification_report(train[\"wine_variant\"], predicted))"
   ]
  },
  {
   "cell_type": "markdown",
   "id": "suburban-dover",
   "metadata": {},
   "source": [
    "Fortunately, this model mutinomial Naive Bayes has better output compared to the binomial Naive Bayes. This model has an F1 accuracy score of .73, which is really high so far. In addition, the macro average score for F1 is also higher in this model compared to the binomial model. Therefore, we now assume that the Mutinomial Naive Bayes model would give us the best predictions. However, let's still try other models to see if we can find a better model. \n",
    "\n",
    "--- \n",
    "\n",
    "### SGD Classifier"
   ]
  },
  {
   "cell_type": "code",
   "execution_count": 22,
   "id": "analyzed-alcohol",
   "metadata": {},
   "outputs": [],
   "source": [
    "from sklearn.feature_extraction.text import CountVectorizer, TfidfTransformer\n",
    "from sklearn.linear_model import SGDClassifier\n",
    "from sklearn.metrics import classification_report, f1_score\n",
    "from sklearn.pipeline import make_pipeline"
   ]
  },
  {
   "cell_type": "code",
   "execution_count": 23,
   "id": "sound-present",
   "metadata": {},
   "outputs": [
    {
     "name": "stdout",
     "output_type": "stream",
     "text": [
      "                    precision    recall  f1-score   support\n",
      "\n",
      "Cabernet Sauvignon       0.71      0.79      0.75      7558\n",
      "        Chardonnay       0.82      0.85      0.83      4861\n",
      "            Merlot       0.62      0.36      0.45      1381\n",
      "        Pinot Noir       0.73      0.89      0.80      9618\n",
      "          Riesling       0.80      0.78      0.79      2421\n",
      "   Sauvignon Blanc       0.91      0.61      0.73      1278\n",
      "             Syrah       0.79      0.50      0.61      3426\n",
      "         Zinfandel       0.85      0.53      0.65      2082\n",
      "\n",
      "          accuracy                           0.75     32625\n",
      "         macro avg       0.78      0.66      0.70     32625\n",
      "      weighted avg       0.76      0.75      0.75     32625\n",
      "\n"
     ]
    }
   ],
   "source": [
    "sgd = make_pipeline(CountVectorizer(analyzer=identity), SGDClassifier())\n",
    "sgd.fit(train[\"tokens\"], train[\"wine_variant\"])\n",
    "predicted = sgd.predict(test[\"tokens\"])\n",
    "print(classification_report(test[\"wine_variant\"], predicted))"
   ]
  },
  {
   "cell_type": "markdown",
   "id": "alert-values",
   "metadata": {},
   "source": [
    "Using a SGD Classifier, the output for the model is looking the best so far compared with the dummy classifier, binomial Naive Bayes, and multinomial Naive Bayes models. This model has an accuracy score of .75 and a macro average of .70 which is quite high so far. We will consider this model to be the best for now. But, let's try different methods to find better models. \n",
    "\n",
    "--- \n",
    "### Tfidf Transformer"
   ]
  },
  {
   "cell_type": "code",
   "execution_count": 24,
   "id": "alpha-commander",
   "metadata": {},
   "outputs": [],
   "source": [
    "from sklearn.feature_extraction.text import TfidfTransformer"
   ]
  },
  {
   "cell_type": "code",
   "execution_count": 25,
   "id": "signed-mileage",
   "metadata": {},
   "outputs": [
    {
     "name": "stdout",
     "output_type": "stream",
     "text": [
      "                    precision    recall  f1-score   support\n",
      "\n",
      "Cabernet Sauvignon       0.69      0.81      0.75      7558\n",
      "        Chardonnay       0.78      0.87      0.82      4861\n",
      "            Merlot       0.87      0.33      0.47      1381\n",
      "        Pinot Noir       0.74      0.88      0.80      9618\n",
      "          Riesling       0.82      0.71      0.76      2421\n",
      "   Sauvignon Blanc       0.84      0.62      0.72      1278\n",
      "             Syrah       0.77      0.49      0.60      3426\n",
      "         Zinfandel       0.89      0.48      0.63      2082\n",
      "\n",
      "          accuracy                           0.75     32625\n",
      "         macro avg       0.80      0.65      0.69     32625\n",
      "      weighted avg       0.76      0.75      0.74     32625\n",
      "\n"
     ]
    }
   ],
   "source": [
    "sgd_idf = make_pipeline(CountVectorizer(analyzer=identity), \n",
    "                        TfidfTransformer(), \n",
    "                        SGDClassifier())\n",
    "sgd_idf.fit(train[\"tokens\"], train[\"wine_variant\"])\n",
    "predicted_idf = sgd_idf.predict(test[\"tokens\"])\n",
    "print(classification_report(test[\"wine_variant\"], predicted_idf))"
   ]
  },
  {
   "cell_type": "markdown",
   "id": "transparent-maryland",
   "metadata": {},
   "source": [
    "Unfortunately, after running the TFIDF Tranformer, the output of the model doesn't look as good as the SGD Classifier with lower accuracy scores and lower macro average scores. However, the results for this TFIDF Tranformer model is very similar to SGG Classifier by itself. Therefore, it might be worth while to explore the TFIDF and SGD Classifier model. \n",
    "\n",
    "--- \n",
    "### Truncated SVD"
   ]
  },
  {
   "cell_type": "code",
   "execution_count": 26,
   "id": "average-mountain",
   "metadata": {},
   "outputs": [],
   "source": [
    "from sklearn.decomposition import TruncatedSVD\n",
    "from scipy.sparse import random as sparse_random"
   ]
  },
  {
   "cell_type": "code",
   "execution_count": 27,
   "id": "higher-ridge",
   "metadata": {},
   "outputs": [],
   "source": [
    "svd = make_pipeline(CountVectorizer(analyzer=identity), \n",
    "                    TfidfTransformer(), \n",
    "                    TruncatedSVD(n_components=100),\n",
    "                    SGDClassifier())"
   ]
  },
  {
   "cell_type": "code",
   "execution_count": 28,
   "id": "designed-green",
   "metadata": {},
   "outputs": [
    {
     "name": "stdout",
     "output_type": "stream",
     "text": [
      "                    precision    recall  f1-score   support\n",
      "\n",
      "Cabernet Sauvignon       0.56      0.79      0.65      7558\n",
      "        Chardonnay       0.58      0.83      0.69      4861\n",
      "            Merlot       0.06      0.01      0.01      1381\n",
      "        Pinot Noir       0.67      0.82      0.74      9618\n",
      "          Riesling       0.67      0.34      0.45      2421\n",
      "   Sauvignon Blanc       0.66      0.20      0.31      1278\n",
      "             Syrah       0.61      0.10      0.17      3426\n",
      "         Zinfandel       0.63      0.29      0.40      2082\n",
      "\n",
      "          accuracy                           0.61     32625\n",
      "         macro avg       0.56      0.42      0.43     32625\n",
      "      weighted avg       0.60      0.61      0.56     32625\n",
      "\n"
     ]
    }
   ],
   "source": [
    "svd.fit(train[\"tokens\"], train[\"wine_variant\"])\n",
    "predicted_svd = svd.predict(test[\"tokens\"])\n",
    "print(classification_report(test[\"wine_variant\"], predicted_svd))"
   ]
  },
  {
   "cell_type": "markdown",
   "id": "devoted-calvin",
   "metadata": {},
   "source": [
    "After looking at the results of the Truncated SVD, the model doesn't seem to be better than the SGD Classifier with a lower accuracy score of .61 and a lower macro average of .42. Therefore, we will still stick with the SGD Classifier to be the best model. Again, our SGD Classifier, now, has an F1 score accuracy of 0.75 and and F1 macro average of 0.70. In addition, the weighted average for SGD Classifier is .75 which is the largest number of correctly labelling.  \n",
    "\n",
    "Now that we have tried several models and have found our best model type, SGD Classifier. However, the results of the regression still need some improvement. We will do hyperparameter to search for the best parameters for our classifier.  \n",
    "\n",
    "--- \n",
    "### Hyperparameter search"
   ]
  },
  {
   "cell_type": "code",
   "execution_count": 29,
   "id": "proof-exemption",
   "metadata": {},
   "outputs": [],
   "source": [
    "import mlflow\n",
    "from dask_ml.model_selection import RandomizedSearchCV\n",
    "from logger import log_search\n",
    "from scipy.stats.distributions import loguniform, randint, uniform"
   ]
  },
  {
   "cell_type": "code",
   "execution_count": 30,
   "id": "downtown-season",
   "metadata": {},
   "outputs": [],
   "source": [
    "from warnings import simplefilter\n",
    "\n",
    "simplefilter(action=\"ignore\", category=FutureWarning)"
   ]
  },
  {
   "cell_type": "code",
   "execution_count": 31,
   "id": "flush-florida",
   "metadata": {},
   "outputs": [
    {
     "data": {
      "text/html": [
       "<table style=\"border: 2px solid white;\">\n",
       "<tr>\n",
       "<td style=\"vertical-align: top; border: 0px solid white\">\n",
       "<h3 style=\"text-align: left;\">Client</h3>\n",
       "<ul style=\"text-align: left; list-style: none; margin: 0; padding: 0;\">\n",
       "  <li><b>Scheduler: </b>tcp://127.0.0.1:34055</li>\n",
       "  <li><b>Dashboard: </b><a href='http://127.0.0.1:8787/status' target='_blank'>http://127.0.0.1:8787/status</a></li>\n",
       "</ul>\n",
       "</td>\n",
       "<td style=\"vertical-align: top; border: 0px solid white\">\n",
       "<h3 style=\"text-align: left;\">Cluster</h3>\n",
       "<ul style=\"text-align: left; list-style:none; margin: 0; padding: 0;\">\n",
       "  <li><b>Workers: </b>4</li>\n",
       "  <li><b>Cores: </b>4</li>\n",
       "  <li><b>Memory: </b>16.62 GB</li>\n",
       "</ul>\n",
       "</td>\n",
       "</tr>\n",
       "</table>"
      ],
      "text/plain": [
       "<Client: 'tcp://127.0.0.1:34055' processes=4 threads=4, memory=16.62 GB>"
      ]
     },
     "execution_count": 31,
     "metadata": {},
     "output_type": "execute_result"
    }
   ],
   "source": [
    "from dask.distributed import Client\n",
    "\n",
    "client = Client(\"tcp://127.0.0.1:34055\")\n",
    "client"
   ]
  },
  {
   "cell_type": "code",
   "execution_count": 32,
   "id": "certain-brooks",
   "metadata": {},
   "outputs": [],
   "source": [
    "mlflow.set_experiment(\"project-2\")\n",
    "sgd = make_pipeline(\n",
    "    CountVectorizer(analyzer=identity), TfidfTransformer(), SGDClassifier()\n",
    ")"
   ]
  },
  {
   "cell_type": "code",
   "execution_count": 33,
   "id": "loaded-filter",
   "metadata": {},
   "outputs": [
    {
     "name": "stdout",
     "output_type": "stream",
     "text": [
      "                    precision    recall  f1-score   support\n",
      "\n",
      "Cabernet Sauvignon       0.68      0.83      0.75      7558\n",
      "        Chardonnay       0.82      0.85      0.83      4861\n",
      "            Merlot       0.68      0.35      0.46      1381\n",
      "        Pinot Noir       0.81      0.83      0.82      9618\n",
      "          Riesling       0.76      0.82      0.79      2421\n",
      "   Sauvignon Blanc       0.85      0.63      0.73      1278\n",
      "             Syrah       0.67      0.58      0.62      3426\n",
      "         Zinfandel       0.80      0.54      0.65      2082\n",
      "\n",
      "          accuracy                           0.76     32625\n",
      "         macro avg       0.76      0.68      0.71     32625\n",
      "      weighted avg       0.76      0.76      0.75     32625\n",
      "\n"
     ]
    }
   ],
   "source": [
    "# define base model first\n",
    "sgd_base = make_pipeline(CountVectorizer(analyzer=identity), SGDClassifier())\n",
    "sgd_base.fit(train[\"tokens\"], train[\"wine_variant\"])\n",
    "predicted_base = sgd_base.predict(test[\"tokens\"])\n",
    "print(classification_report(test[\"wine_variant\"], predicted_base))"
   ]
  },
  {
   "cell_type": "code",
   "execution_count": 34,
   "id": "underlying-niger",
   "metadata": {},
   "outputs": [
    {
     "name": "stdout",
     "output_type": "stream",
     "text": [
      "CPU times: user 10.5 s, sys: 1.43 s, total: 12 s\n",
      "Wall time: 6min 20s\n"
     ]
    }
   ],
   "source": [
    "%%time\n",
    "\n",
    "search = RandomizedSearchCV(\n",
    "    sgd,\n",
    "    {\n",
    "        \"countvectorizer__min_df\": randint(1, 20),\n",
    "        \"countvectorizer__max_df\": uniform(0.5, 0.5),\n",
    "        \"tfidftransformer__use_idf\": [True, False],\n",
    "        \"sgdclassifier__alpha\": loguniform(1e-6, 1e-2),\n",
    "    },\n",
    "    n_iter=50,\n",
    "    scoring=\"f1_macro\",\n",
    ")\n",
    "search.fit(train[\"tokens\"], train[\"wine_variant\"])\n",
    "log_search(search)"
   ]
  },
  {
   "cell_type": "markdown",
   "id": "hawaiian-howard",
   "metadata": {},
   "source": [
    "We can inputting different parameters to see if we can get better results. "
   ]
  },
  {
   "cell_type": "code",
   "execution_count": 35,
   "id": "excess-bearing",
   "metadata": {},
   "outputs": [
    {
     "name": "stdout",
     "output_type": "stream",
     "text": [
      "CPU times: user 9.94 s, sys: 1.35 s, total: 11.3 s\n",
      "Wall time: 4min 20s\n"
     ]
    }
   ],
   "source": [
    "%%time\n",
    "\n",
    "search = RandomizedSearchCV(\n",
    "    sgd,\n",
    "    {\n",
    "        \"countvectorizer__min_df\": randint(1, 10),\n",
    "        \"countvectorizer__max_df\": uniform(0.5, 0.5),\n",
    "        \"tfidftransformer__use_idf\": [True, False],\n",
    "        \"sgdclassifier__alpha\": loguniform(1e-8, 100),\n",
    "    },\n",
    "    n_iter=25,\n",
    "    scoring=\"f1_macro\",\n",
    ")\n",
    "search.fit(train[\"tokens\"], train[\"wine_variant\"])\n",
    "log_search(search)"
   ]
  },
  {
   "cell_type": "code",
   "execution_count": 36,
   "id": "satisfied-suspect",
   "metadata": {},
   "outputs": [
    {
     "name": "stdout",
     "output_type": "stream",
     "text": [
      "CPU times: user 9.82 s, sys: 1.24 s, total: 11.1 s\n",
      "Wall time: 3min 45s\n"
     ]
    }
   ],
   "source": [
    "%%time\n",
    "\n",
    "search = RandomizedSearchCV(\n",
    "    sgd,\n",
    "    {\n",
    "        \"countvectorizer__min_df\": randint(1, 10),\n",
    "        \"countvectorizer__max_df\": uniform(0.5, 0.5),\n",
    "        \"tfidftransformer__use_idf\": [True, False],\n",
    "        \"sgdclassifier__alpha\": [0.1],\n",
    "    },\n",
    "    n_iter=25,\n",
    "    scoring=\"f1_macro\",\n",
    ")\n",
    "search.fit(train[\"tokens\"], train[\"wine_variant\"])\n",
    "log_search(search)"
   ]
  },
  {
   "cell_type": "markdown",
   "id": "australian-rendering",
   "metadata": {},
   "source": [
    "### Compare optimized model to baseline\n",
    "\n",
    "Getting results from MLflow that I have created. The best parameter with the best mean score of 0.71 have the following parameters: \n",
    "- `countvectorizer_min_df`: 1\n",
    "- `countvectorizer_max_df`: 0.92\n",
    "- `tfidftransformer_use_idf`: True\n",
    "- `sgdclassifier__alpha`: 7e-06\n"
   ]
  },
  {
   "cell_type": "code",
   "execution_count": 37,
   "id": "amended-mumbai",
   "metadata": {},
   "outputs": [
    {
     "name": "stdout",
     "output_type": "stream",
     "text": [
      "                    precision    recall  f1-score   support\n",
      "\n",
      "Cabernet Sauvignon       0.70      0.81      0.75      7558\n",
      "        Chardonnay       0.83      0.85      0.84      4861\n",
      "            Merlot       0.82      0.34      0.48      1381\n",
      "        Pinot Noir       0.77      0.87      0.82      9618\n",
      "          Riesling       0.79      0.81      0.80      2421\n",
      "   Sauvignon Blanc       0.84      0.66      0.74      1278\n",
      "             Syrah       0.74      0.55      0.63      3426\n",
      "         Zinfandel       0.80      0.54      0.65      2082\n",
      "\n",
      "          accuracy                           0.76     32625\n",
      "         macro avg       0.79      0.68      0.71     32625\n",
      "      weighted avg       0.77      0.76      0.76     32625\n",
      "\n"
     ]
    }
   ],
   "source": [
    "sgd = make_pipeline(\n",
    "    CountVectorizer(analyzer=identity, min_df=1, max_df=.92),\n",
    "    TfidfTransformer(use_idf=True),\n",
    "    SGDClassifier(alpha=7e-06),\n",
    ")\n",
    "sgd.fit(train[\"tokens\"], train[\"wine_variant\"])\n",
    "predicted = sgd.predict(test[\"tokens\"])\n",
    "print(classification_report(test[\"wine_variant\"], predicted))"
   ]
  },
  {
   "cell_type": "code",
   "execution_count": 38,
   "id": "hidden-causing",
   "metadata": {},
   "outputs": [],
   "source": [
    "base_f1 = f1_score(test[\"wine_variant\"], predicted_base, average=\"macro\")\n",
    "sgd_f1 = f1_score(test[\"wine_variant\"], predicted, average=\"macro\")"
   ]
  },
  {
   "cell_type": "code",
   "execution_count": 39,
   "id": "vietnamese-narrow",
   "metadata": {},
   "outputs": [
    {
     "data": {
      "text/plain": [
       "(0.7061027413984349, 0.7135274886642256, 0.0074247472657906766)"
      ]
     },
     "execution_count": 39,
     "metadata": {},
     "output_type": "execute_result"
    }
   ],
   "source": [
    "base_f1, sgd_f1, sgd_f1 - base_f1"
   ]
  },
  {
   "cell_type": "code",
   "execution_count": 40,
   "id": "continuous-scott",
   "metadata": {},
   "outputs": [
    {
     "data": {
      "text/plain": [
       "0.025263070847000874"
      ]
     },
     "execution_count": 40,
     "metadata": {},
     "output_type": "execute_result"
    }
   ],
   "source": [
    "(sgd_f1 - base_f1) / (1 - base_f1)"
   ]
  },
  {
   "cell_type": "markdown",
   "id": "soviet-constitutional",
   "metadata": {},
   "source": [
    "After optimizing the model for TFIDF Transform and SGD Clasifier. All metrics from the optimized model have the same outputs as the one from the baseline model. With an F1 accuracy score of 0.76, macro average of 0.71,and weighted average of 0.76, the baseline model SGD Classifer or the optimized model seem to be the best two models. However, the opmitized model is slightly better than the baseline model, just a little bit. Therefore, the final model we will use will be TFIDF Transform + SGD Classifier. To be sure, we can compare different model further. "
   ]
  },
  {
   "cell_type": "markdown",
   "id": "creative-morris",
   "metadata": {},
   "source": [
    "Use binomial test with a hypothesis of 50/50 chance of getting right or wrong predicted values. "
   ]
  },
  {
   "cell_type": "code",
   "execution_count": 41,
   "id": "asian-opposition",
   "metadata": {},
   "outputs": [],
   "source": [
    "from scipy import stats"
   ]
  },
  {
   "cell_type": "code",
   "execution_count": 42,
   "id": "convertible-romantic",
   "metadata": {},
   "outputs": [
    {
     "data": {
      "text/plain": [
       "(947, 752, 30926)"
      ]
     },
     "execution_count": 42,
     "metadata": {},
     "output_type": "execute_result"
    }
   ],
   "source": [
    "# compare if two classifier give different answers\n",
    "# counting how many right/wrong\n",
    "diff = (predicted == test[\"wine_variant\"]).astype(int) - (\n",
    "    predicted_base == test[\"wine_variant\"]\n",
    ").astype(int)\n",
    "sum(diff == 1), sum(diff == -1), sum(diff == 0)"
   ]
  },
  {
   "cell_type": "code",
   "execution_count": 43,
   "id": "challenging-laptop",
   "metadata": {},
   "outputs": [
    {
     "data": {
      "text/plain": [
       "1.229611051836898e-06"
      ]
     },
     "execution_count": 43,
     "metadata": {},
     "output_type": "execute_result"
    }
   ],
   "source": [
    "stats.binom_test([sum(diff == 1), sum(diff == -1)], alternative=\"greater\")"
   ]
  },
  {
   "cell_type": "markdown",
   "id": "hazardous-update",
   "metadata": {},
   "source": [
    "The Binomial test has a really small p-value. This proves that a diviation from 50/50 is very small. There for the test is significant. \n",
    "\n",
    "Use Wilcoxon test to tet the sign of the predicted values. "
   ]
  },
  {
   "cell_type": "code",
   "execution_count": 44,
   "id": "random-painting",
   "metadata": {},
   "outputs": [
    {
     "data": {
      "text/plain": [
       "WilcoxonResult(statistic=804950.0, pvalue=1.117983801152459e-06)"
      ]
     },
     "execution_count": 44,
     "metadata": {},
     "output_type": "execute_result"
    }
   ],
   "source": [
    "stats.wilcoxon(diff, alternative=\"greater\")"
   ]
  },
  {
   "cell_type": "markdown",
   "id": "indoor-albert",
   "metadata": {},
   "source": [
    "P-value is also very small for Wilcoxon test. Therefore, we conclude that the signs are correct. \n",
    "\n",
    "Therefore, the optimized model is clearly better than the baseline model."
   ]
  },
  {
   "cell_type": "markdown",
   "id": "secure-gambling",
   "metadata": {},
   "source": [
    "#### Save the model"
   ]
  },
  {
   "cell_type": "code",
   "execution_count": 45,
   "id": "looking-george",
   "metadata": {},
   "outputs": [],
   "source": [
    "import cloudpickle"
   ]
  },
  {
   "cell_type": "code",
   "execution_count": 46,
   "id": "simplified-argument",
   "metadata": {},
   "outputs": [
    {
     "name": "stdout",
     "output_type": "stream",
     "text": [
      "                    precision    recall  f1-score   support\n",
      "\n",
      "Cabernet Sauvignon       0.70      0.81      0.75      7558\n",
      "        Chardonnay       0.81      0.86      0.84      4861\n",
      "            Merlot       0.79      0.34      0.47      1381\n",
      "        Pinot Noir       0.77      0.87      0.81      9618\n",
      "          Riesling       0.80      0.80      0.80      2421\n",
      "   Sauvignon Blanc       0.84      0.66      0.74      1278\n",
      "             Syrah       0.75      0.54      0.63      3426\n",
      "         Zinfandel       0.85      0.52      0.65      2082\n",
      "\n",
      "          accuracy                           0.76     32625\n",
      "         macro avg       0.79      0.68      0.71     32625\n",
      "      weighted avg       0.77      0.76      0.75     32625\n",
      "\n"
     ]
    }
   ],
   "source": [
    "# feed in raw text instead of tokenized text and use tokenizes = tokenize parameter \n",
    "# get the same result \n",
    "sgd = make_pipeline(\n",
    "    CountVectorizer(analyzer=identity, min_df=1, max_df=.92),\n",
    "    TfidfTransformer(use_idf=True),\n",
    "    SGDClassifier(alpha=7e-06),\n",
    ")\n",
    "sgd.fit(train[\"tokens\"], train[\"wine_variant\"])\n",
    "predicted = sgd.predict(test[\"tokens\"])\n",
    "print(classification_report(test[\"wine_variant\"], predicted))"
   ]
  },
  {
   "cell_type": "code",
   "execution_count": 47,
   "id": "pediatric-preserve",
   "metadata": {},
   "outputs": [],
   "source": [
    "cloudpickle.dump(sgd, open(\"sgd.model\", \"wb\"))"
   ]
  },
  {
   "cell_type": "markdown",
   "id": "unable-lotus",
   "metadata": {},
   "source": [
    "--- \n",
    "## 2. Find the words that the model is using to predict labels "
   ]
  },
  {
   "cell_type": "code",
   "execution_count": 48,
   "id": "attached-andorra",
   "metadata": {},
   "outputs": [],
   "source": [
    "from sklearn.metrics import classification_report, f1_score, plot_confusion_matrix\n",
    "import matplotlib.pyplot as plt"
   ]
  },
  {
   "cell_type": "code",
   "execution_count": 49,
   "id": "alternate-frederick",
   "metadata": {},
   "outputs": [],
   "source": [
    "# read model \n",
    "sgd = cloudpickle.load(open(\"sgd.model\", \"rb\"))"
   ]
  },
  {
   "cell_type": "markdown",
   "id": "english-sender",
   "metadata": {},
   "source": [
    "#### Error "
   ]
  },
  {
   "cell_type": "code",
   "execution_count": 52,
   "id": "informal-pearl",
   "metadata": {},
   "outputs": [
    {
     "data": {
      "text/plain": [
       "176"
      ]
     },
     "execution_count": 52,
     "metadata": {},
     "output_type": "execute_result"
    }
   ],
   "source": [
    "err = test[(test['wine_variant']=='Pinot Noir')&(predicted=='Syrah')]\n",
    "len(err)"
   ]
  },
  {
   "cell_type": "code",
   "execution_count": 53,
   "id": "expired-trustee",
   "metadata": {},
   "outputs": [
    {
     "data": {
      "text/plain": [
       "\"Gorgeous nose of ripe fruit and white pepper. On the palate, this is beautiful and youthful, with great acids and nice tannins which are largely integrate and a nice complement. Wonderful strawberries and great minerality. Wonderful. My #2 WOTN, Group's WOTN.\""
      ]
     },
     "execution_count": 53,
     "metadata": {},
     "output_type": "execute_result"
    }
   ],
   "source": [
    "err['review_text'].iloc[0]"
   ]
  },
  {
   "cell_type": "code",
   "execution_count": 54,
   "id": "dependent-functionality",
   "metadata": {},
   "outputs": [
    {
     "data": {
      "text/plain": [
       "\"Herbs and smoked cheese on the nose, after breathing for a bit it revealed some fruit and roasted meat flavors. Damn, wish i'd gotten to this two years ago. 45 bones.\""
      ]
     },
     "execution_count": 54,
     "metadata": {},
     "output_type": "execute_result"
    }
   ],
   "source": [
    "err['review_text'].iloc[1]"
   ]
  },
  {
   "cell_type": "code",
   "execution_count": 55,
   "id": "essential-childhood",
   "metadata": {},
   "outputs": [
    {
     "data": {
      "text/plain": [
       "'one of the last of night. meaty dark fruit nose. great weight in the mouth, very precise, just rolled through my mouth and gave taste and taste..great bottle'"
      ]
     },
     "execution_count": 55,
     "metadata": {},
     "output_type": "execute_result"
    }
   ],
   "source": [
    "err['review_text'].iloc[2]"
   ]
  },
  {
   "cell_type": "markdown",
   "id": "fiscal-blame",
   "metadata": {},
   "source": [
    "The common words in this Pinot Noir labels and Syrah are fruity taste and fruity flavor. The algorithm could be very easily confused between the two types. "
   ]
  },
  {
   "cell_type": "code",
   "execution_count": 56,
   "id": "increased-quantity",
   "metadata": {},
   "outputs": [
    {
     "data": {
      "text/plain": [
       "59"
      ]
     },
     "execution_count": 56,
     "metadata": {},
     "output_type": "execute_result"
    }
   ],
   "source": [
    "err = test[(test['wine_variant']=='Pinot Noir')&(predicted=='Riesling')]\n",
    "len(err)"
   ]
  },
  {
   "cell_type": "code",
   "execution_count": 57,
   "id": "printable-grenada",
   "metadata": {},
   "outputs": [
    {
     "data": {
      "text/plain": [
       "'The nose is clearly oxidized but on the palate the quality shows through - sweet and dense wine. Such a shame the nose was so awful, this wine is a legend!'"
      ]
     },
     "execution_count": 57,
     "metadata": {},
     "output_type": "execute_result"
    }
   ],
   "source": [
    "err['review_text'].iloc[0]"
   ]
  },
  {
   "cell_type": "code",
   "execution_count": 58,
   "id": "usual-precipitation",
   "metadata": {},
   "outputs": [
    {
     "data": {
      "text/plain": [
       "\"The nose is very mineraly with some dark fruit. It's light on the palate, with hints of citrus and minerals and raspberries. Very dry finish.\""
      ]
     },
     "execution_count": 58,
     "metadata": {},
     "output_type": "execute_result"
    }
   ],
   "source": [
    "err['review_text'].iloc[1]"
   ]
  },
  {
   "cell_type": "code",
   "execution_count": 59,
   "id": "focused-services",
   "metadata": {},
   "outputs": [
    {
     "data": {
      "text/plain": [
       "'Pretty floral this time. Matched up very nicely with Indian cuisine. I keep waiting for this one to close down for a while, but so far it is still all right there.'"
      ]
     },
     "execution_count": 59,
     "metadata": {},
     "output_type": "execute_result"
    }
   ],
   "source": [
    "err['review_text'].iloc[2]"
   ]
  },
  {
   "cell_type": "markdown",
   "id": "dying-girlfriend",
   "metadata": {},
   "source": [
    "These review texts also has some fruit, floral flavor in them, which could have been easily misclassified as a Pinot Noir. "
   ]
  },
  {
   "cell_type": "markdown",
   "id": "separated-quest",
   "metadata": {},
   "source": [
    "#### Model labels and coefficients"
   ]
  },
  {
   "cell_type": "code",
   "execution_count": 61,
   "id": "aware-cowboy",
   "metadata": {},
   "outputs": [],
   "source": [
    "labels = sgd.named_steps['sgdclassifier'].classes_\n",
    "scores = sgd.decision_function(test[\"review_text\"])"
   ]
  },
  {
   "cell_type": "markdown",
   "id": "medieval-exploration",
   "metadata": {},
   "source": [
    "View all the labels for the model and the coefficient for each model"
   ]
  },
  {
   "cell_type": "code",
   "execution_count": 62,
   "id": "earned-roommate",
   "metadata": {},
   "outputs": [
    {
     "data": {
      "text/plain": [
       "array(['Cabernet Sauvignon', 'Chardonnay', 'Merlot', 'Pinot Noir',\n",
       "       'Riesling', 'Sauvignon Blanc', 'Syrah', 'Zinfandel'], dtype='<U18')"
      ]
     },
     "execution_count": 62,
     "metadata": {},
     "output_type": "execute_result"
    }
   ],
   "source": [
    "labels"
   ]
  },
  {
   "cell_type": "code",
   "execution_count": 63,
   "id": "destroyed-connecticut",
   "metadata": {},
   "outputs": [
    {
     "data": {
      "text/plain": [
       "array([-1.03799746, -1.18573332, -1.01243731, -0.18691811, -0.56845076,\n",
       "       -1.21499175, -1.1016332 , -1.40907213])"
      ]
     },
     "execution_count": 63,
     "metadata": {},
     "output_type": "execute_result"
    }
   ],
   "source": [
    "scores[0,:]"
   ]
  },
  {
   "cell_type": "code",
   "execution_count": 67,
   "id": "modern-night",
   "metadata": {},
   "outputs": [],
   "source": [
    "highest = scores.max(axis=1)"
   ]
  },
  {
   "cell_type": "code",
   "execution_count": 68,
   "id": "breeding-blackjack",
   "metadata": {},
   "outputs": [
    {
     "data": {
      "text/plain": [
       "2574"
      ]
     },
     "execution_count": 68,
     "metadata": {},
     "output_type": "execute_result"
    }
   ],
   "source": [
    "highest.argmax()"
   ]
  },
  {
   "cell_type": "code",
   "execution_count": 69,
   "id": "polish-reliance",
   "metadata": {},
   "outputs": [
    {
     "data": {
      "text/plain": [
       "array([-1.81886615, -0.94458217, -1.07995904,  0.24736993, -0.70534888,\n",
       "       -1.20539673, -0.97741393, -1.46469992])"
      ]
     },
     "execution_count": 69,
     "metadata": {},
     "output_type": "execute_result"
    }
   ],
   "source": [
    "scores[2574]"
   ]
  },
  {
   "cell_type": "code",
   "execution_count": 72,
   "id": "structured-paradise",
   "metadata": {},
   "outputs": [
    {
     "data": {
      "text/plain": [
       "'Cabernet Sauvignon'"
      ]
     },
     "execution_count": 72,
     "metadata": {},
     "output_type": "execute_result"
    }
   ],
   "source": [
    "test['wine_variant'].iloc[2574]"
   ]
  },
  {
   "cell_type": "code",
   "execution_count": 73,
   "id": "facial-theme",
   "metadata": {},
   "outputs": [
    {
     "data": {
      "text/plain": [
       "'Wow. Drink up. This wine is bursting with fruit after all these years. Fruit dominated strawberry and plum. Great wine.'"
      ]
     },
     "execution_count": 73,
     "metadata": {},
     "output_type": "execute_result"
    }
   ],
   "source": [
    "test['review_text'].iloc[2574]"
   ]
  },
  {
   "cell_type": "markdown",
   "id": "surprising-preparation",
   "metadata": {},
   "source": [
    "This is one example of the review text that would have the highest scores. These kinds of text would be the most sensitive to. As looking at the text, it is quite broard with the fruit flavor.  \n",
    "\n",
    "We can look at the argmin example "
   ]
  },
  {
   "cell_type": "code",
   "execution_count": 74,
   "id": "beginning-rebecca",
   "metadata": {},
   "outputs": [
    {
     "data": {
      "text/plain": [
       "6104"
      ]
     },
     "execution_count": 74,
     "metadata": {},
     "output_type": "execute_result"
    }
   ],
   "source": [
    "highest.argmin()"
   ]
  },
  {
   "cell_type": "code",
   "execution_count": 75,
   "id": "cooked-nightmare",
   "metadata": {},
   "outputs": [
    {
     "data": {
      "text/plain": [
       "array([-1.04366066, -1.06128566, -1.1739224 , -0.93052976, -1.34586669,\n",
       "       -1.30348086, -1.32688622, -1.23352915])"
      ]
     },
     "execution_count": 75,
     "metadata": {},
     "output_type": "execute_result"
    }
   ],
   "source": [
    "scores[6104]"
   ]
  },
  {
   "cell_type": "code",
   "execution_count": 76,
   "id": "handmade-pulse",
   "metadata": {},
   "outputs": [
    {
     "data": {
      "text/plain": [
       "'Cabernet Sauvignon'"
      ]
     },
     "execution_count": 76,
     "metadata": {},
     "output_type": "execute_result"
    }
   ],
   "source": [
    "test['wine_variant'].iloc[6104]"
   ]
  },
  {
   "cell_type": "code",
   "execution_count": 77,
   "id": "falling-video",
   "metadata": {},
   "outputs": [
    {
     "data": {
      "text/plain": [
       "\"LOST MOST OF IT'S OAK AFTER AN HOUR OR SO AND BECAME VERY WELL BALANCED W/ DARK RED FRUIT AND LEATHERY TOBACCO.\""
      ]
     },
     "execution_count": 77,
     "metadata": {},
     "output_type": "execute_result"
    }
   ],
   "source": [
    "test['review_text'].iloc[6104]"
   ]
  },
  {
   "cell_type": "markdown",
   "id": "corresponding-resistance",
   "metadata": {},
   "source": [
    "### 3. Improve F1 Score"
   ]
  },
  {
   "cell_type": "code",
   "execution_count": 85,
   "id": "collaborative-flashing",
   "metadata": {},
   "outputs": [
    {
     "data": {
      "text/plain": [
       "array([[-1.03799746, -1.18573332, -1.01243731, -0.18691811, -0.56845076,\n",
       "        -1.21499175, -1.1016332 , -1.40907213],\n",
       "       [-1.14327201, -1.39103226, -1.10711436, -0.04917735, -0.51314788,\n",
       "        -1.17378408, -1.10273248, -1.28258014],\n",
       "       [-1.31091204, -1.25753694, -1.14355182, -0.03357089, -0.54624536,\n",
       "        -1.19002576, -1.12713196, -1.46726075],\n",
       "       [-1.38686013, -1.10907669, -1.17670792, -0.08945508, -0.77231138,\n",
       "        -1.18292441, -0.98313824, -1.4566137 ],\n",
       "       [-1.16743885, -1.24821853, -1.05984842, -0.06359701, -0.65494692,\n",
       "        -1.04265347, -1.09804623, -1.40497275]])"
      ]
     },
     "execution_count": 85,
     "metadata": {},
     "output_type": "execute_result"
    }
   ],
   "source": [
    "scores[0:5,:]"
   ]
  },
  {
   "cell_type": "code",
   "execution_count": 133,
   "id": "other-christianity",
   "metadata": {},
   "outputs": [
    {
     "data": {
      "text/plain": [
       "array([[-1.40907213, -1.21499175, -1.18573332, -1.1016332 , -1.03799746,\n",
       "        -1.01243731, -0.56845076, -0.18691811],\n",
       "       [-1.39103226, -1.28258014, -1.17378408, -1.14327201, -1.10711436,\n",
       "        -1.10273248, -0.51314788, -0.04917735],\n",
       "       [-1.46726075, -1.31091204, -1.25753694, -1.19002576, -1.14355182,\n",
       "        -1.12713196, -0.54624536, -0.03357089],\n",
       "       [-1.4566137 , -1.38686013, -1.18292441, -1.17670792, -1.10907669,\n",
       "        -0.98313824, -0.77231138, -0.08945508],\n",
       "       [-1.40497275, -1.24821853, -1.16743885, -1.09804623, -1.05984842,\n",
       "        -1.04265347, -0.65494692, -0.06359701]])"
      ]
     },
     "execution_count": 133,
     "metadata": {},
     "output_type": "execute_result"
    }
   ],
   "source": [
    "scores.sort(axis=1)\n",
    "scores[0:5,:]"
   ]
  },
  {
   "cell_type": "code",
   "execution_count": 184,
   "id": "chubby-provider",
   "metadata": {},
   "outputs": [],
   "source": [
    "margin = scores[:,1] "
   ]
  },
  {
   "cell_type": "code",
   "execution_count": 185,
   "id": "differential-switch",
   "metadata": {},
   "outputs": [
    {
     "data": {
      "text/plain": [
       "(-1.0510775657856943, -1.5958055170577996)"
      ]
     },
     "execution_count": 185,
     "metadata": {},
     "output_type": "execute_result"
    }
   ],
   "source": [
    "margin.max(), margin.min()"
   ]
  },
  {
   "cell_type": "code",
   "execution_count": 167,
   "id": "compound-identity",
   "metadata": {},
   "outputs": [
    {
     "name": "stdout",
     "output_type": "stream",
     "text": [
      "                    precision    recall  f1-score   support\n",
      "\n",
      "Cabernet Sauvignon       1.00      1.00      1.00         1\n",
      "        Chardonnay       1.00      1.00      1.00         1\n",
      "            Merlot       1.00      1.00      1.00         1\n",
      "          Riesling       1.00      1.00      1.00         1\n",
      "\n",
      "          accuracy                           1.00         4\n",
      "         macro avg       1.00      1.00      1.00         4\n",
      "      weighted avg       1.00      1.00      1.00         4\n",
      "\n"
     ]
    }
   ],
   "source": [
    "print(classification_report(test[\"wine_variant\"][margin > -1.07], predicted[margin > -1.07]))"
   ]
  },
  {
   "cell_type": "code",
   "execution_count": 170,
   "id": "purple-study",
   "metadata": {},
   "outputs": [
    {
     "name": "stdout",
     "output_type": "stream",
     "text": [
      "                    precision    recall  f1-score   support\n",
      "\n",
      "Cabernet Sauvignon       1.00      1.00      1.00         1\n",
      "        Chardonnay       1.00      1.00      1.00         2\n",
      "            Merlot       1.00      1.00      1.00         1\n",
      "          Riesling       0.50      1.00      0.67         1\n",
      "         Zinfandel       0.00      0.00      0.00         1\n",
      "\n",
      "          accuracy                           0.83         6\n",
      "         macro avg       0.70      0.80      0.73         6\n",
      "      weighted avg       0.75      0.83      0.78         6\n",
      "\n"
     ]
    },
    {
     "name": "stderr",
     "output_type": "stream",
     "text": [
      "/opt/conda/lib/python3.8/site-packages/sklearn/metrics/_classification.py:1245: UndefinedMetricWarning: Precision and F-score are ill-defined and being set to 0.0 in labels with no predicted samples. Use `zero_division` parameter to control this behavior.\n",
      "  _warn_prf(average, modifier, msg_start, len(result))\n",
      "/opt/conda/lib/python3.8/site-packages/sklearn/metrics/_classification.py:1245: UndefinedMetricWarning: Precision and F-score are ill-defined and being set to 0.0 in labels with no predicted samples. Use `zero_division` parameter to control this behavior.\n",
      "  _warn_prf(average, modifier, msg_start, len(result))\n",
      "/opt/conda/lib/python3.8/site-packages/sklearn/metrics/_classification.py:1245: UndefinedMetricWarning: Precision and F-score are ill-defined and being set to 0.0 in labels with no predicted samples. Use `zero_division` parameter to control this behavior.\n",
      "  _warn_prf(average, modifier, msg_start, len(result))\n"
     ]
    }
   ],
   "source": [
    "print(classification_report(test[\"wine_variant\"][margin > -1.075], predicted[margin > -1.075]))"
   ]
  },
  {
   "cell_type": "markdown",
   "id": "analyzed-publisher",
   "metadata": {},
   "source": [
    "To get an F1 accuracy score of around .83, we have to use the margin of -1.075. Or if we increases the margin number to at least -1.075, then the accuracy score would be 1 as well as the macro average and weighted average. However, a model with perfect score would exclude a lot of test sample. Therefore, we still stick with .83 accuracy score. \n",
    "\n",
    "--- \n",
    "### 4. Assign New Labels \n",
    "\n",
    "Another way to improve accuracy is to change the labels. Use a confusion matrix to examine the patterns errors and propose a new labeling scheme. For example, if the model consistently labels “merlot” as “riesling” and vice versa, you might want to create a new label “merlot/riesling”. Is it possible to get better than 0.85 F1 using your classifier trained on a different set of labels?"
   ]
  },
  {
   "cell_type": "markdown",
   "id": "centered-horror",
   "metadata": {},
   "source": [
    "#### Confusion Matrix "
   ]
  },
  {
   "cell_type": "code",
   "execution_count": 187,
   "id": "heavy-letters",
   "metadata": {},
   "outputs": [
    {
     "data": {
      "text/plain": [
       "<sklearn.metrics._plot.confusion_matrix.ConfusionMatrixDisplay at 0x7f68be436460>"
      ]
     },
     "execution_count": 187,
     "metadata": {},
     "output_type": "execute_result"
    },
    {
     "data": {
      "image/png": "[encoded data removed]",
      "text/plain": [
       "<Figure size 576x576 with 2 Axes>"
      ]
     },
     "metadata": {
      "needs_background": "light"
     },
     "output_type": "display_data"
    }
   ],
   "source": [
    "fig, ax = plt.subplots(figsize=(8, 8))\n",
    "plot_confusion_matrix(sgd, test['wine_variant'], predicted, xticks_rotation=-90, normalize='true', ax=ax)\n",
    "# how often label are confused with each other \n",
    "# the diagonal are the right label = true label are same as predited "
   ]
  },
  {
   "cell_type": "markdown",
   "id": "following-information",
   "metadata": {},
   "source": [
    "The highest proportion of misclassification are often occure with Pinot Noir, Cabenet Sauvignon, and Riesling. Here are the new label we would add to improve the model: "
   ]
  },
  {
   "cell_type": "code",
   "execution_count": 310,
   "id": "sporting-experiment",
   "metadata": {},
   "outputs": [],
   "source": [
    "train1 = train.copy()\n",
    "test1 = test.copy()"
   ]
  },
  {
   "cell_type": "code",
   "execution_count": 311,
   "id": "academic-found",
   "metadata": {},
   "outputs": [],
   "source": [
    "m = train1['wine_variant'].isin(['Sauignon Blanc', 'Riesling'])\n",
    "n = test1['wine_variant'].isin(['Sauignon Blanc', 'Riesling'])\n",
    "train1['wine_variant'] = train1['wine_variant'].mask(m, 'Sauignon Blanc/Riesling')\n",
    "test1['wine_variant'] = test1['wine_variant'].mask(n, 'Sauignon Blanc/Riesling')"
   ]
  },
  {
   "cell_type": "code",
   "execution_count": 314,
   "id": "emotional-jewelry",
   "metadata": {},
   "outputs": [],
   "source": [
    "m = train1['wine_variant'].isin(['Syrah', 'Cabernet Sauvignon'])\n",
    "n = test1['wine_variant'].isin(['Syrah', 'Cabernet Sauvignon'])\n",
    "train1['wine_variant'] = train1['wine_variant'].mask(m, 'Syrah/Cabernet Sauvignon')\n",
    "test1['wine_variant'] = test1['wine_variant'].mask(n, 'Syrah/Cabernet Sauvignon')"
   ]
  },
  {
   "cell_type": "code",
   "execution_count": 315,
   "id": "innovative-monitoring",
   "metadata": {},
   "outputs": [
    {
     "data": {
      "text/plain": [
       "Syrah/Cabernet Sauvignon    43938\n",
       "Pinot Noir                  38471\n",
       "Chardonnay                  19443\n",
       "Sauignon Blanc/Riesling      9683\n",
       "Zinfandel                    8327\n",
       "Merlot                       5522\n",
       "Sauvignon Blanc              5113\n",
       "Name: wine_variant, dtype: int64"
      ]
     },
     "execution_count": 315,
     "metadata": {},
     "output_type": "execute_result"
    }
   ],
   "source": [
    "# see all the topics \n",
    "train1[\"wine_variant\"].value_counts()"
   ]
  },
  {
   "cell_type": "code",
   "execution_count": 316,
   "id": "compact-antibody",
   "metadata": {},
   "outputs": [
    {
     "data": {
      "text/plain": [
       "Syrah/Cabernet Sauvignon    10984\n",
       "Pinot Noir                   9618\n",
       "Chardonnay                   4861\n",
       "Sauignon Blanc/Riesling      2421\n",
       "Zinfandel                    2082\n",
       "Merlot                       1381\n",
       "Sauvignon Blanc              1278\n",
       "Name: wine_variant, dtype: int64"
      ]
     },
     "execution_count": 316,
     "metadata": {},
     "output_type": "execute_result"
    }
   ],
   "source": [
    "test1[\"wine_variant\"].value_counts()"
   ]
  },
  {
   "cell_type": "markdown",
   "id": "clinical-acrobat",
   "metadata": {},
   "source": [
    "Now we have less topic for the wine. We will generate the model again to see if we have higher F1 scores. \n",
    "\n",
    "#### Generate Classification "
   ]
  },
  {
   "cell_type": "code",
   "execution_count": 317,
   "id": "weekly-traffic",
   "metadata": {},
   "outputs": [
    {
     "name": "stdout",
     "output_type": "stream",
     "text": [
      "                          precision    recall  f1-score   support\n",
      "\n",
      "              Chardonnay       0.84      0.84      0.84      4861\n",
      "                  Merlot       0.85      0.34      0.48      1381\n",
      "              Pinot Noir       0.80      0.83      0.82      9618\n",
      " Sauignon Blanc/Riesling       0.78      0.81      0.80      2421\n",
      "         Sauvignon Blanc       0.89      0.62      0.73      1278\n",
      "Syrah/Cabernet Sauvignon       0.75      0.87      0.81     10984\n",
      "               Zinfandel       0.92      0.48      0.63      2082\n",
      "\n",
      "                accuracy                           0.79     32625\n",
      "               macro avg       0.83      0.69      0.73     32625\n",
      "            weighted avg       0.80      0.79      0.79     32625\n",
      "\n"
     ]
    }
   ],
   "source": [
    "sgd_new = make_pipeline(CountVectorizer(analyzer=identity), SGDClassifier())\n",
    "sgd_new.fit(train1[\"tokens\"], train1[\"wine_variant\"])\n",
    "predicted_new = sgd_new.predict(test1[\"tokens\"])\n",
    "print(classification_report(test1[\"wine_variant\"], predicted_new))"
   ]
  },
  {
   "cell_type": "markdown",
   "id": "accompanied-edwards",
   "metadata": {},
   "source": [
    "--- \n",
    "### Summary "
   ]
  },
  {
   "cell_type": "markdown",
   "id": "martial-black",
   "metadata": {},
   "source": [
    "The raw review text for wine are kind of vauge, which cause the model algorithm to be unstable. A few models were generated to find the best model for this wine data set including dummy classifier, bernoulli Naive Bayes, multinoulli, SGD classifier, Tfidf Transformer, and truncated SVD. We found the best baseline model would be SGD classifier and Tfidf transformer. After optimizing the combination of SGD classifier + Tfidf transformer, we found the best parameters to generate the highest F1 accuracy scores of 0.75. \n",
    "\n",
    "However, after looking at the coefficients and labels of the model, we found that the model has been overfitted. There are alot of misclassification for the wine Pinot Noir and Cabernet Sauvignon label. To improve the model, we set the margin of the test set to exclude some of the sample. In addition, we also grouped the labels into different group so we can get a better output. The group we assigned were Sauignon Blanc/Riesling and Syrah/Cabernet Sauvignon since they have a lot of misclassification correlation. We would improve the model just by grouping them together. \n",
    "\n",
    "The final model have an accuracy F1 score of 0.79, which is really good compared to the baseline and optimized models. In addition, the macro average score is 0.73 and the weighted average is 0.79, which are better than the baseline and optimized models. Since the review text for this data set are too similar from labels to labels, it is a good idea to group them together to get better output. I also have tried different set of labels, but these two labels seem to be the best of all. Therefore, it is impossible to have an F1 score of .85 or better. The only way to get an F1 or better is to exclude some of the test sample."
   ]
  }
 ],
 "metadata": {
  "kernelspec": {
   "display_name": "Python 3",
   "language": "python",
   "name": "python3"
  },
  "language_info": {
   "codemirror_mode": {
    "name": "ipython",
    "version": 3
   },
   "file_extension": ".py",
   "mimetype": "text/x-python",
   "name": "python",
   "nbconvert_exporter": "python",
   "pygments_lexer": "ipython3",
   "version": "3.8.6"
  }
 },
 "nbformat": 4,
 "nbformat_minor": 5
}
